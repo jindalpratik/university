{
 "cells": [
  {
   "cell_type": "code",
   "execution_count": 1,
   "metadata": {},
   "outputs": [],
   "source": [
    "import pandas as pd\n",
    "import numpy as np\n",
    "\n",
    "import warnings\n",
    "warnings.filterwarnings('ignore')"
   ]
  },
  {
   "cell_type": "code",
   "execution_count": 2,
   "metadata": {},
   "outputs": [],
   "source": [
    "data = pd.read_csv('Lending_Club_Data.csv')"
   ]
  },
  {
   "cell_type": "code",
   "execution_count": 3,
   "metadata": {},
   "outputs": [
    {
     "data": {
      "text/plain": [
       "(10000, 28)"
      ]
     },
     "execution_count": 3,
     "metadata": {},
     "output_type": "execute_result"
    }
   ],
   "source": [
    "data.shape"
   ]
  },
  {
   "cell_type": "code",
   "execution_count": 4,
   "metadata": {},
   "outputs": [
    {
     "data": {
      "text/plain": [
       "0    8705\n",
       "1    1295\n",
       "Name: is_bad, dtype: int64"
      ]
     },
     "execution_count": 4,
     "metadata": {},
     "output_type": "execute_result"
    }
   ],
   "source": [
    "data.is_bad.value_counts()"
   ]
  },
  {
   "cell_type": "code",
   "execution_count": 5,
   "metadata": {},
   "outputs": [],
   "source": [
    "event_rate = (1295/10000)*100"
   ]
  },
  {
   "cell_type": "code",
   "execution_count": 6,
   "metadata": {},
   "outputs": [
    {
     "data": {
      "text/html": [
       "<div>\n",
       "<style scoped>\n",
       "    .dataframe tbody tr th:only-of-type {\n",
       "        vertical-align: middle;\n",
       "    }\n",
       "\n",
       "    .dataframe tbody tr th {\n",
       "        vertical-align: top;\n",
       "    }\n",
       "\n",
       "    .dataframe thead th {\n",
       "        text-align: right;\n",
       "    }\n",
       "</style>\n",
       "<table border=\"1\" class=\"dataframe\">\n",
       "  <thead>\n",
       "    <tr style=\"text-align: right;\">\n",
       "      <th></th>\n",
       "      <th>Id</th>\n",
       "      <th>is_bad</th>\n",
       "      <th>annual_inc</th>\n",
       "      <th>debt_to_income</th>\n",
       "      <th>delinq_2yrs</th>\n",
       "      <th>inq_last_6mths</th>\n",
       "      <th>mths_since_last_delinq</th>\n",
       "      <th>mths_since_last_record</th>\n",
       "      <th>open_acc</th>\n",
       "      <th>pub_rec</th>\n",
       "      <th>revol_bal</th>\n",
       "      <th>revol_util</th>\n",
       "      <th>total_acc</th>\n",
       "      <th>collections_12_mths_ex_med</th>\n",
       "      <th>mths_since_last_major_derog</th>\n",
       "    </tr>\n",
       "  </thead>\n",
       "  <tbody>\n",
       "    <tr>\n",
       "      <td>count</td>\n",
       "      <td>10000.00000</td>\n",
       "      <td>10000.000000</td>\n",
       "      <td>9999.000000</td>\n",
       "      <td>10000.000000</td>\n",
       "      <td>9995.000000</td>\n",
       "      <td>9995.000000</td>\n",
       "      <td>3684.000000</td>\n",
       "      <td>840.000000</td>\n",
       "      <td>9995.000000</td>\n",
       "      <td>9995.000000</td>\n",
       "      <td>1.000000e+04</td>\n",
       "      <td>9974.000000</td>\n",
       "      <td>9995.000000</td>\n",
       "      <td>9968.0</td>\n",
       "      <td>10000.000000</td>\n",
       "    </tr>\n",
       "    <tr>\n",
       "      <td>mean</td>\n",
       "      <td>5000.50000</td>\n",
       "      <td>0.129500</td>\n",
       "      <td>68203.011539</td>\n",
       "      <td>13.338704</td>\n",
       "      <td>0.148174</td>\n",
       "      <td>1.066933</td>\n",
       "      <td>35.890337</td>\n",
       "      <td>61.652381</td>\n",
       "      <td>9.334567</td>\n",
       "      <td>0.060130</td>\n",
       "      <td>1.427101e+04</td>\n",
       "      <td>48.450771</td>\n",
       "      <td>22.011306</td>\n",
       "      <td>0.0</td>\n",
       "      <td>2.002200</td>\n",
       "    </tr>\n",
       "    <tr>\n",
       "      <td>std</td>\n",
       "      <td>2886.89568</td>\n",
       "      <td>0.335769</td>\n",
       "      <td>48590.252757</td>\n",
       "      <td>6.754212</td>\n",
       "      <td>0.506270</td>\n",
       "      <td>1.476052</td>\n",
       "      <td>22.361443</td>\n",
       "      <td>46.189619</td>\n",
       "      <td>4.526590</td>\n",
       "      <td>0.251245</td>\n",
       "      <td>2.543791e+04</td>\n",
       "      <td>28.220557</td>\n",
       "      <td>11.709400</td>\n",
       "      <td>0.0</td>\n",
       "      <td>0.810963</td>\n",
       "    </tr>\n",
       "    <tr>\n",
       "      <td>min</td>\n",
       "      <td>1.00000</td>\n",
       "      <td>0.000000</td>\n",
       "      <td>2000.000000</td>\n",
       "      <td>0.000000</td>\n",
       "      <td>0.000000</td>\n",
       "      <td>0.000000</td>\n",
       "      <td>0.000000</td>\n",
       "      <td>0.000000</td>\n",
       "      <td>1.000000</td>\n",
       "      <td>0.000000</td>\n",
       "      <td>0.000000e+00</td>\n",
       "      <td>0.000000</td>\n",
       "      <td>1.000000</td>\n",
       "      <td>0.0</td>\n",
       "      <td>1.000000</td>\n",
       "    </tr>\n",
       "    <tr>\n",
       "      <td>25%</td>\n",
       "      <td>2500.75000</td>\n",
       "      <td>0.000000</td>\n",
       "      <td>40000.000000</td>\n",
       "      <td>8.160000</td>\n",
       "      <td>0.000000</td>\n",
       "      <td>0.000000</td>\n",
       "      <td>18.000000</td>\n",
       "      <td>0.000000</td>\n",
       "      <td>6.000000</td>\n",
       "      <td>0.000000</td>\n",
       "      <td>3.524500e+03</td>\n",
       "      <td>25.000000</td>\n",
       "      <td>13.000000</td>\n",
       "      <td>0.0</td>\n",
       "      <td>1.000000</td>\n",
       "    </tr>\n",
       "    <tr>\n",
       "      <td>50%</td>\n",
       "      <td>5000.50000</td>\n",
       "      <td>0.000000</td>\n",
       "      <td>58000.000000</td>\n",
       "      <td>13.410000</td>\n",
       "      <td>0.000000</td>\n",
       "      <td>1.000000</td>\n",
       "      <td>34.000000</td>\n",
       "      <td>86.000000</td>\n",
       "      <td>9.000000</td>\n",
       "      <td>0.000000</td>\n",
       "      <td>8.645500e+03</td>\n",
       "      <td>48.700000</td>\n",
       "      <td>20.000000</td>\n",
       "      <td>0.0</td>\n",
       "      <td>2.000000</td>\n",
       "    </tr>\n",
       "    <tr>\n",
       "      <td>75%</td>\n",
       "      <td>7500.25000</td>\n",
       "      <td>0.000000</td>\n",
       "      <td>82000.000000</td>\n",
       "      <td>18.692500</td>\n",
       "      <td>0.000000</td>\n",
       "      <td>2.000000</td>\n",
       "      <td>53.000000</td>\n",
       "      <td>101.000000</td>\n",
       "      <td>12.000000</td>\n",
       "      <td>0.000000</td>\n",
       "      <td>1.695225e+04</td>\n",
       "      <td>71.800000</td>\n",
       "      <td>29.000000</td>\n",
       "      <td>0.0</td>\n",
       "      <td>3.000000</td>\n",
       "    </tr>\n",
       "    <tr>\n",
       "      <td>max</td>\n",
       "      <td>10000.00000</td>\n",
       "      <td>1.000000</td>\n",
       "      <td>900000.000000</td>\n",
       "      <td>29.990000</td>\n",
       "      <td>11.000000</td>\n",
       "      <td>25.000000</td>\n",
       "      <td>120.000000</td>\n",
       "      <td>119.000000</td>\n",
       "      <td>39.000000</td>\n",
       "      <td>3.000000</td>\n",
       "      <td>1.207359e+06</td>\n",
       "      <td>100.600000</td>\n",
       "      <td>90.000000</td>\n",
       "      <td>0.0</td>\n",
       "      <td>3.000000</td>\n",
       "    </tr>\n",
       "  </tbody>\n",
       "</table>\n",
       "</div>"
      ],
      "text/plain": [
       "                Id        is_bad     annual_inc  debt_to_income  delinq_2yrs  \\\n",
       "count  10000.00000  10000.000000    9999.000000    10000.000000  9995.000000   \n",
       "mean    5000.50000      0.129500   68203.011539       13.338704     0.148174   \n",
       "std     2886.89568      0.335769   48590.252757        6.754212     0.506270   \n",
       "min        1.00000      0.000000    2000.000000        0.000000     0.000000   \n",
       "25%     2500.75000      0.000000   40000.000000        8.160000     0.000000   \n",
       "50%     5000.50000      0.000000   58000.000000       13.410000     0.000000   \n",
       "75%     7500.25000      0.000000   82000.000000       18.692500     0.000000   \n",
       "max    10000.00000      1.000000  900000.000000       29.990000    11.000000   \n",
       "\n",
       "       inq_last_6mths  mths_since_last_delinq  mths_since_last_record  \\\n",
       "count     9995.000000             3684.000000              840.000000   \n",
       "mean         1.066933               35.890337               61.652381   \n",
       "std          1.476052               22.361443               46.189619   \n",
       "min          0.000000                0.000000                0.000000   \n",
       "25%          0.000000               18.000000                0.000000   \n",
       "50%          1.000000               34.000000               86.000000   \n",
       "75%          2.000000               53.000000              101.000000   \n",
       "max         25.000000              120.000000              119.000000   \n",
       "\n",
       "          open_acc      pub_rec     revol_bal   revol_util    total_acc  \\\n",
       "count  9995.000000  9995.000000  1.000000e+04  9974.000000  9995.000000   \n",
       "mean      9.334567     0.060130  1.427101e+04    48.450771    22.011306   \n",
       "std       4.526590     0.251245  2.543791e+04    28.220557    11.709400   \n",
       "min       1.000000     0.000000  0.000000e+00     0.000000     1.000000   \n",
       "25%       6.000000     0.000000  3.524500e+03    25.000000    13.000000   \n",
       "50%       9.000000     0.000000  8.645500e+03    48.700000    20.000000   \n",
       "75%      12.000000     0.000000  1.695225e+04    71.800000    29.000000   \n",
       "max      39.000000     3.000000  1.207359e+06   100.600000    90.000000   \n",
       "\n",
       "       collections_12_mths_ex_med  mths_since_last_major_derog  \n",
       "count                      9968.0                 10000.000000  \n",
       "mean                          0.0                     2.002200  \n",
       "std                           0.0                     0.810963  \n",
       "min                           0.0                     1.000000  \n",
       "25%                           0.0                     1.000000  \n",
       "50%                           0.0                     2.000000  \n",
       "75%                           0.0                     3.000000  \n",
       "max                           0.0                     3.000000  "
      ]
     },
     "execution_count": 6,
     "metadata": {},
     "output_type": "execute_result"
    }
   ],
   "source": [
    "data.describe()"
   ]
  },
  {
   "cell_type": "code",
   "execution_count": 7,
   "metadata": {},
   "outputs": [
    {
     "data": {
      "text/plain": [
       "emp_title                      5.92\n",
       "annual_inc                     0.01\n",
       "Notes                         32.30\n",
       "purpose                        0.04\n",
       "delinq_2yrs                    0.05\n",
       "earliest_cr_line               0.05\n",
       "inq_last_6mths                 0.05\n",
       "mths_since_last_delinq        63.16\n",
       "mths_since_last_record        91.60\n",
       "open_acc                       0.05\n",
       "pub_rec                        0.05\n",
       "revol_util                     0.26\n",
       "total_acc                      0.05\n",
       "collections_12_mths_ex_med     0.32\n",
       "dtype: float64"
      ]
     },
     "execution_count": 7,
     "metadata": {},
     "output_type": "execute_result"
    }
   ],
   "source": [
    "# Percentage of null values\n",
    "100*data.isnull().sum()[data.isnull().sum()>0]/data.shape[0]"
   ]
  },
  {
   "cell_type": "code",
   "execution_count": 8,
   "metadata": {},
   "outputs": [],
   "source": [
    "#data[['Id','mths_since_last_record','mths_since_last_delinq']]"
   ]
  },
  {
   "cell_type": "code",
   "execution_count": 3,
   "metadata": {},
   "outputs": [],
   "source": [
    "data.drop(labels = ['mths_since_last_delinq','mths_since_last_record','collections_12_mths_ex_med','Notes','emp_title','earliest_cr_line','purpose','emp_length'], axis =1 , inplace = True)"
   ]
  },
  {
   "cell_type": "code",
   "execution_count": 4,
   "metadata": {},
   "outputs": [],
   "source": [
    "data.drop(labels  = ['Id'], axis =1, inplace = True)"
   ]
  },
  {
   "cell_type": "code",
   "execution_count": 18,
   "metadata": {},
   "outputs": [
    {
     "data": {
      "text/plain": [
       "['is_bad',\n",
       " 'annual_inc',\n",
       " 'debt_to_income',\n",
       " 'delinq_2yrs',\n",
       " 'inq_last_6mths',\n",
       " 'open_acc',\n",
       " 'pub_rec',\n",
       " 'revol_bal',\n",
       " 'revol_util',\n",
       " 'total_acc',\n",
       " 'mths_since_last_major_derog']"
      ]
     },
     "execution_count": 18,
     "metadata": {},
     "output_type": "execute_result"
    }
   ],
   "source": [
    "num_cols = data.describe().columns.tolist()\n",
    "#.columns.tolist() \n",
    "num_cols"
   ]
  },
  {
   "cell_type": "code",
   "execution_count": 19,
   "metadata": {},
   "outputs": [
    {
     "data": {
      "text/html": [
       "<div>\n",
       "<style scoped>\n",
       "    .dataframe tbody tr th:only-of-type {\n",
       "        vertical-align: middle;\n",
       "    }\n",
       "\n",
       "    .dataframe tbody tr th {\n",
       "        vertical-align: top;\n",
       "    }\n",
       "\n",
       "    .dataframe thead th {\n",
       "        text-align: right;\n",
       "    }\n",
       "</style>\n",
       "<table border=\"1\" class=\"dataframe\">\n",
       "  <thead>\n",
       "    <tr style=\"text-align: right;\">\n",
       "      <th></th>\n",
       "      <th>is_bad</th>\n",
       "      <th>home_ownership</th>\n",
       "      <th>annual_inc</th>\n",
       "      <th>verification_status</th>\n",
       "      <th>pymnt_plan</th>\n",
       "      <th>purpose_cat</th>\n",
       "      <th>zip_code</th>\n",
       "      <th>addr_state</th>\n",
       "      <th>debt_to_income</th>\n",
       "      <th>delinq_2yrs</th>\n",
       "      <th>inq_last_6mths</th>\n",
       "      <th>open_acc</th>\n",
       "      <th>pub_rec</th>\n",
       "      <th>revol_bal</th>\n",
       "      <th>revol_util</th>\n",
       "      <th>total_acc</th>\n",
       "      <th>initial_list_status</th>\n",
       "      <th>mths_since_last_major_derog</th>\n",
       "      <th>policy_code</th>\n",
       "    </tr>\n",
       "  </thead>\n",
       "  <tbody>\n",
       "    <tr>\n",
       "      <th>0</th>\n",
       "      <td>0</td>\n",
       "      <td>MORTGAGE</td>\n",
       "      <td>50000.0</td>\n",
       "      <td>not verified</td>\n",
       "      <td>n</td>\n",
       "      <td>medical</td>\n",
       "      <td>766xx</td>\n",
       "      <td>TX</td>\n",
       "      <td>10.87</td>\n",
       "      <td>0.0</td>\n",
       "      <td>0.0</td>\n",
       "      <td>15.0</td>\n",
       "      <td>0.0</td>\n",
       "      <td>12087</td>\n",
       "      <td>12.1</td>\n",
       "      <td>44.0</td>\n",
       "      <td>f</td>\n",
       "      <td>1</td>\n",
       "      <td>PC4</td>\n",
       "    </tr>\n",
       "    <tr>\n",
       "      <th>1</th>\n",
       "      <td>0</td>\n",
       "      <td>RENT</td>\n",
       "      <td>39216.0</td>\n",
       "      <td>not verified</td>\n",
       "      <td>n</td>\n",
       "      <td>debt consolidation</td>\n",
       "      <td>660xx</td>\n",
       "      <td>KS</td>\n",
       "      <td>9.15</td>\n",
       "      <td>0.0</td>\n",
       "      <td>2.0</td>\n",
       "      <td>4.0</td>\n",
       "      <td>0.0</td>\n",
       "      <td>10114</td>\n",
       "      <td>64.0</td>\n",
       "      <td>5.0</td>\n",
       "      <td>f</td>\n",
       "      <td>2</td>\n",
       "      <td>PC1</td>\n",
       "    </tr>\n",
       "    <tr>\n",
       "      <th>2</th>\n",
       "      <td>0</td>\n",
       "      <td>RENT</td>\n",
       "      <td>65000.0</td>\n",
       "      <td>not verified</td>\n",
       "      <td>n</td>\n",
       "      <td>credit card</td>\n",
       "      <td>916xx</td>\n",
       "      <td>CA</td>\n",
       "      <td>11.24</td>\n",
       "      <td>0.0</td>\n",
       "      <td>0.0</td>\n",
       "      <td>4.0</td>\n",
       "      <td>0.0</td>\n",
       "      <td>81</td>\n",
       "      <td>0.6</td>\n",
       "      <td>8.0</td>\n",
       "      <td>f</td>\n",
       "      <td>3</td>\n",
       "      <td>PC4</td>\n",
       "    </tr>\n",
       "    <tr>\n",
       "      <th>3</th>\n",
       "      <td>0</td>\n",
       "      <td>MORTGAGE</td>\n",
       "      <td>57500.0</td>\n",
       "      <td>not verified</td>\n",
       "      <td>n</td>\n",
       "      <td>debt consolidation</td>\n",
       "      <td>124xx</td>\n",
       "      <td>NY</td>\n",
       "      <td>6.18</td>\n",
       "      <td>1.0</td>\n",
       "      <td>0.0</td>\n",
       "      <td>6.0</td>\n",
       "      <td>0.0</td>\n",
       "      <td>10030</td>\n",
       "      <td>37.1</td>\n",
       "      <td>23.0</td>\n",
       "      <td>f</td>\n",
       "      <td>2</td>\n",
       "      <td>PC2</td>\n",
       "    </tr>\n",
       "    <tr>\n",
       "      <th>4</th>\n",
       "      <td>0</td>\n",
       "      <td>MORTGAGE</td>\n",
       "      <td>50004.0</td>\n",
       "      <td>VERIFIED - income</td>\n",
       "      <td>n</td>\n",
       "      <td>debt consolidation</td>\n",
       "      <td>439xx</td>\n",
       "      <td>OH</td>\n",
       "      <td>19.03</td>\n",
       "      <td>0.0</td>\n",
       "      <td>4.0</td>\n",
       "      <td>8.0</td>\n",
       "      <td>0.0</td>\n",
       "      <td>10740</td>\n",
       "      <td>40.4</td>\n",
       "      <td>21.0</td>\n",
       "      <td>f</td>\n",
       "      <td>3</td>\n",
       "      <td>PC3</td>\n",
       "    </tr>\n",
       "    <tr>\n",
       "      <th>...</th>\n",
       "      <td>...</td>\n",
       "      <td>...</td>\n",
       "      <td>...</td>\n",
       "      <td>...</td>\n",
       "      <td>...</td>\n",
       "      <td>...</td>\n",
       "      <td>...</td>\n",
       "      <td>...</td>\n",
       "      <td>...</td>\n",
       "      <td>...</td>\n",
       "      <td>...</td>\n",
       "      <td>...</td>\n",
       "      <td>...</td>\n",
       "      <td>...</td>\n",
       "      <td>...</td>\n",
       "      <td>...</td>\n",
       "      <td>...</td>\n",
       "      <td>...</td>\n",
       "      <td>...</td>\n",
       "    </tr>\n",
       "    <tr>\n",
       "      <th>9995</th>\n",
       "      <td>0</td>\n",
       "      <td>MORTGAGE</td>\n",
       "      <td>66250.0</td>\n",
       "      <td>VERIFIED - income</td>\n",
       "      <td>n</td>\n",
       "      <td>wedding</td>\n",
       "      <td>014xx</td>\n",
       "      <td>MA</td>\n",
       "      <td>9.40</td>\n",
       "      <td>0.0</td>\n",
       "      <td>1.0</td>\n",
       "      <td>8.0</td>\n",
       "      <td>0.0</td>\n",
       "      <td>3656</td>\n",
       "      <td>24.1</td>\n",
       "      <td>10.0</td>\n",
       "      <td>f</td>\n",
       "      <td>2</td>\n",
       "      <td>PC3</td>\n",
       "    </tr>\n",
       "    <tr>\n",
       "      <th>9996</th>\n",
       "      <td>0</td>\n",
       "      <td>RENT</td>\n",
       "      <td>26000.0</td>\n",
       "      <td>VERIFIED - income source</td>\n",
       "      <td>n</td>\n",
       "      <td>debt consolidation</td>\n",
       "      <td>112xx</td>\n",
       "      <td>NY</td>\n",
       "      <td>20.49</td>\n",
       "      <td>0.0</td>\n",
       "      <td>1.0</td>\n",
       "      <td>8.0</td>\n",
       "      <td>0.0</td>\n",
       "      <td>6709</td>\n",
       "      <td>58.9</td>\n",
       "      <td>12.0</td>\n",
       "      <td>f</td>\n",
       "      <td>2</td>\n",
       "      <td>PC3</td>\n",
       "    </tr>\n",
       "    <tr>\n",
       "      <th>9997</th>\n",
       "      <td>0</td>\n",
       "      <td>RENT</td>\n",
       "      <td>47831.0</td>\n",
       "      <td>not verified</td>\n",
       "      <td>n</td>\n",
       "      <td>debt consolidation</td>\n",
       "      <td>070xx</td>\n",
       "      <td>NJ</td>\n",
       "      <td>24.13</td>\n",
       "      <td>0.0</td>\n",
       "      <td>0.0</td>\n",
       "      <td>9.0</td>\n",
       "      <td>1.0</td>\n",
       "      <td>11346</td>\n",
       "      <td>60.7</td>\n",
       "      <td>17.0</td>\n",
       "      <td>f</td>\n",
       "      <td>3</td>\n",
       "      <td>PC3</td>\n",
       "    </tr>\n",
       "    <tr>\n",
       "      <th>9998</th>\n",
       "      <td>0</td>\n",
       "      <td>MORTGAGE</td>\n",
       "      <td>70000.0</td>\n",
       "      <td>not verified</td>\n",
       "      <td>n</td>\n",
       "      <td>major purchase</td>\n",
       "      <td>244xx</td>\n",
       "      <td>VA</td>\n",
       "      <td>16.18</td>\n",
       "      <td>2.0</td>\n",
       "      <td>2.0</td>\n",
       "      <td>9.0</td>\n",
       "      <td>0.0</td>\n",
       "      <td>17157</td>\n",
       "      <td>50.9</td>\n",
       "      <td>27.0</td>\n",
       "      <td>f</td>\n",
       "      <td>2</td>\n",
       "      <td>PC3</td>\n",
       "    </tr>\n",
       "    <tr>\n",
       "      <th>9999</th>\n",
       "      <td>0</td>\n",
       "      <td>RENT</td>\n",
       "      <td>70560.0</td>\n",
       "      <td>not verified</td>\n",
       "      <td>n</td>\n",
       "      <td>credit card</td>\n",
       "      <td>900xx</td>\n",
       "      <td>CA</td>\n",
       "      <td>16.13</td>\n",
       "      <td>0.0</td>\n",
       "      <td>1.0</td>\n",
       "      <td>15.0</td>\n",
       "      <td>0.0</td>\n",
       "      <td>2304</td>\n",
       "      <td>22.6</td>\n",
       "      <td>34.0</td>\n",
       "      <td>f</td>\n",
       "      <td>2</td>\n",
       "      <td>PC5</td>\n",
       "    </tr>\n",
       "  </tbody>\n",
       "</table>\n",
       "<p>10000 rows × 19 columns</p>\n",
       "</div>"
      ],
      "text/plain": [
       "      is_bad home_ownership  annual_inc       verification_status pymnt_plan  \\\n",
       "0          0       MORTGAGE     50000.0              not verified          n   \n",
       "1          0           RENT     39216.0              not verified          n   \n",
       "2          0           RENT     65000.0              not verified          n   \n",
       "3          0       MORTGAGE     57500.0              not verified          n   \n",
       "4          0       MORTGAGE     50004.0         VERIFIED - income          n   \n",
       "...      ...            ...         ...                       ...        ...   \n",
       "9995       0       MORTGAGE     66250.0         VERIFIED - income          n   \n",
       "9996       0           RENT     26000.0  VERIFIED - income source          n   \n",
       "9997       0           RENT     47831.0              not verified          n   \n",
       "9998       0       MORTGAGE     70000.0              not verified          n   \n",
       "9999       0           RENT     70560.0              not verified          n   \n",
       "\n",
       "             purpose_cat zip_code addr_state  debt_to_income  delinq_2yrs  \\\n",
       "0                medical    766xx         TX           10.87          0.0   \n",
       "1     debt consolidation    660xx         KS            9.15          0.0   \n",
       "2            credit card    916xx         CA           11.24          0.0   \n",
       "3     debt consolidation    124xx         NY            6.18          1.0   \n",
       "4     debt consolidation    439xx         OH           19.03          0.0   \n",
       "...                  ...      ...        ...             ...          ...   \n",
       "9995             wedding    014xx         MA            9.40          0.0   \n",
       "9996  debt consolidation    112xx         NY           20.49          0.0   \n",
       "9997  debt consolidation    070xx         NJ           24.13          0.0   \n",
       "9998      major purchase    244xx         VA           16.18          2.0   \n",
       "9999         credit card    900xx         CA           16.13          0.0   \n",
       "\n",
       "      inq_last_6mths  open_acc  pub_rec  revol_bal  revol_util  total_acc  \\\n",
       "0                0.0      15.0      0.0      12087        12.1       44.0   \n",
       "1                2.0       4.0      0.0      10114        64.0        5.0   \n",
       "2                0.0       4.0      0.0         81         0.6        8.0   \n",
       "3                0.0       6.0      0.0      10030        37.1       23.0   \n",
       "4                4.0       8.0      0.0      10740        40.4       21.0   \n",
       "...              ...       ...      ...        ...         ...        ...   \n",
       "9995             1.0       8.0      0.0       3656        24.1       10.0   \n",
       "9996             1.0       8.0      0.0       6709        58.9       12.0   \n",
       "9997             0.0       9.0      1.0      11346        60.7       17.0   \n",
       "9998             2.0       9.0      0.0      17157        50.9       27.0   \n",
       "9999             1.0      15.0      0.0       2304        22.6       34.0   \n",
       "\n",
       "     initial_list_status  mths_since_last_major_derog policy_code  \n",
       "0                      f                            1         PC4  \n",
       "1                      f                            2         PC1  \n",
       "2                      f                            3         PC4  \n",
       "3                      f                            2         PC2  \n",
       "4                      f                            3         PC3  \n",
       "...                  ...                          ...         ...  \n",
       "9995                   f                            2         PC3  \n",
       "9996                   f                            2         PC3  \n",
       "9997                   f                            3         PC3  \n",
       "9998                   f                            2         PC3  \n",
       "9999                   f                            2         PC5  \n",
       "\n",
       "[10000 rows x 19 columns]"
      ]
     },
     "execution_count": 19,
     "metadata": {},
     "output_type": "execute_result"
    }
   ],
   "source": [
    "data.columns.tolist()\n",
    "data"
   ]
  },
  {
   "cell_type": "code",
   "execution_count": 12,
   "metadata": {},
   "outputs": [
    {
     "data": {
      "text/plain": [
       "['purpose_cat',\n",
       " 'pymnt_plan',\n",
       " 'policy_code',\n",
       " 'home_ownership',\n",
       " 'zip_code',\n",
       " 'verification_status',\n",
       " 'initial_list_status',\n",
       " 'addr_state']"
      ]
     },
     "execution_count": 12,
     "metadata": {},
     "output_type": "execute_result"
    }
   ],
   "source": [
    "cat_cols = list(set(data.columns.tolist()) - set(num_cols))\n",
    "cat_cols"
   ]
  },
  {
   "cell_type": "code",
   "execution_count": 13,
   "metadata": {},
   "outputs": [],
   "source": [
    "target_variable  = 'is_bad'"
   ]
  },
  {
   "cell_type": "code",
   "execution_count": 14,
   "metadata": {},
   "outputs": [
    {
     "data": {
      "text/plain": [
       "is_bad                          0\n",
       "annual_inc                      1\n",
       "debt_to_income                  0\n",
       "delinq_2yrs                     5\n",
       "inq_last_6mths                  5\n",
       "open_acc                        5\n",
       "pub_rec                         5\n",
       "revol_bal                       0\n",
       "revol_util                     26\n",
       "total_acc                       5\n",
       "mths_since_last_major_derog     0\n",
       "dtype: int64"
      ]
     },
     "execution_count": 14,
     "metadata": {},
     "output_type": "execute_result"
    }
   ],
   "source": [
    "data[num_cols].isnull().sum()"
   ]
  },
  {
   "cell_type": "code",
   "execution_count": 15,
   "metadata": {},
   "outputs": [
    {
     "data": {
      "text/html": [
       "<div>\n",
       "<style scoped>\n",
       "    .dataframe tbody tr th:only-of-type {\n",
       "        vertical-align: middle;\n",
       "    }\n",
       "\n",
       "    .dataframe tbody tr th {\n",
       "        vertical-align: top;\n",
       "    }\n",
       "\n",
       "    .dataframe thead th {\n",
       "        text-align: right;\n",
       "    }\n",
       "</style>\n",
       "<table border=\"1\" class=\"dataframe\">\n",
       "  <thead>\n",
       "    <tr style=\"text-align: right;\">\n",
       "      <th></th>\n",
       "      <th>policy_code</th>\n",
       "      <th>zip_code</th>\n",
       "      <th>verification_status</th>\n",
       "      <th>initial_list_status</th>\n",
       "      <th>pymnt_plan</th>\n",
       "      <th>purpose_cat</th>\n",
       "      <th>home_ownership</th>\n",
       "      <th>addr_state</th>\n",
       "    </tr>\n",
       "  </thead>\n",
       "  <tbody>\n",
       "    <tr>\n",
       "      <td>0</td>\n",
       "      <td>PC4</td>\n",
       "      <td>766xx</td>\n",
       "      <td>not verified</td>\n",
       "      <td>f</td>\n",
       "      <td>n</td>\n",
       "      <td>medical</td>\n",
       "      <td>MORTGAGE</td>\n",
       "      <td>TX</td>\n",
       "    </tr>\n",
       "    <tr>\n",
       "      <td>1</td>\n",
       "      <td>PC1</td>\n",
       "      <td>660xx</td>\n",
       "      <td>not verified</td>\n",
       "      <td>f</td>\n",
       "      <td>n</td>\n",
       "      <td>debt consolidation</td>\n",
       "      <td>RENT</td>\n",
       "      <td>KS</td>\n",
       "    </tr>\n",
       "    <tr>\n",
       "      <td>2</td>\n",
       "      <td>PC4</td>\n",
       "      <td>916xx</td>\n",
       "      <td>not verified</td>\n",
       "      <td>f</td>\n",
       "      <td>n</td>\n",
       "      <td>credit card</td>\n",
       "      <td>RENT</td>\n",
       "      <td>CA</td>\n",
       "    </tr>\n",
       "    <tr>\n",
       "      <td>3</td>\n",
       "      <td>PC2</td>\n",
       "      <td>124xx</td>\n",
       "      <td>not verified</td>\n",
       "      <td>f</td>\n",
       "      <td>n</td>\n",
       "      <td>debt consolidation</td>\n",
       "      <td>MORTGAGE</td>\n",
       "      <td>NY</td>\n",
       "    </tr>\n",
       "    <tr>\n",
       "      <td>4</td>\n",
       "      <td>PC3</td>\n",
       "      <td>439xx</td>\n",
       "      <td>VERIFIED - income</td>\n",
       "      <td>f</td>\n",
       "      <td>n</td>\n",
       "      <td>debt consolidation</td>\n",
       "      <td>MORTGAGE</td>\n",
       "      <td>OH</td>\n",
       "    </tr>\n",
       "  </tbody>\n",
       "</table>\n",
       "</div>"
      ],
      "text/plain": [
       "  policy_code zip_code verification_status initial_list_status pymnt_plan  \\\n",
       "0         PC4    766xx        not verified                   f          n   \n",
       "1         PC1    660xx        not verified                   f          n   \n",
       "2         PC4    916xx        not verified                   f          n   \n",
       "3         PC2    124xx        not verified                   f          n   \n",
       "4         PC3    439xx   VERIFIED - income                   f          n   \n",
       "\n",
       "          purpose_cat home_ownership addr_state  \n",
       "0             medical       MORTGAGE         TX  \n",
       "1  debt consolidation           RENT         KS  \n",
       "2         credit card           RENT         CA  \n",
       "3  debt consolidation       MORTGAGE         NY  \n",
       "4  debt consolidation       MORTGAGE         OH  "
      ]
     },
     "execution_count": 15,
     "metadata": {},
     "output_type": "execute_result"
    }
   ],
   "source": [
    "data[cat_cols].head()"
   ]
  },
  {
   "cell_type": "code",
   "execution_count": 16,
   "metadata": {},
   "outputs": [
    {
     "data": {
      "text/html": [
       "<div>\n",
       "<style scoped>\n",
       "    .dataframe tbody tr th:only-of-type {\n",
       "        vertical-align: middle;\n",
       "    }\n",
       "\n",
       "    .dataframe tbody tr th {\n",
       "        vertical-align: top;\n",
       "    }\n",
       "\n",
       "    .dataframe thead th {\n",
       "        text-align: right;\n",
       "    }\n",
       "</style>\n",
       "<table border=\"1\" class=\"dataframe\">\n",
       "  <thead>\n",
       "    <tr style=\"text-align: right;\">\n",
       "      <th></th>\n",
       "      <th>is_bad</th>\n",
       "      <th>annual_inc</th>\n",
       "      <th>debt_to_income</th>\n",
       "      <th>delinq_2yrs</th>\n",
       "      <th>inq_last_6mths</th>\n",
       "      <th>open_acc</th>\n",
       "      <th>pub_rec</th>\n",
       "      <th>revol_bal</th>\n",
       "      <th>revol_util</th>\n",
       "      <th>total_acc</th>\n",
       "      <th>mths_since_last_major_derog</th>\n",
       "    </tr>\n",
       "  </thead>\n",
       "  <tbody>\n",
       "    <tr>\n",
       "      <td>0</td>\n",
       "      <td>0</td>\n",
       "      <td>50000.0</td>\n",
       "      <td>10.87</td>\n",
       "      <td>0.0</td>\n",
       "      <td>0.0</td>\n",
       "      <td>15.0</td>\n",
       "      <td>0.0</td>\n",
       "      <td>12087</td>\n",
       "      <td>12.1</td>\n",
       "      <td>44.0</td>\n",
       "      <td>1</td>\n",
       "    </tr>\n",
       "    <tr>\n",
       "      <td>1</td>\n",
       "      <td>0</td>\n",
       "      <td>39216.0</td>\n",
       "      <td>9.15</td>\n",
       "      <td>0.0</td>\n",
       "      <td>2.0</td>\n",
       "      <td>4.0</td>\n",
       "      <td>0.0</td>\n",
       "      <td>10114</td>\n",
       "      <td>64.0</td>\n",
       "      <td>5.0</td>\n",
       "      <td>2</td>\n",
       "    </tr>\n",
       "    <tr>\n",
       "      <td>2</td>\n",
       "      <td>0</td>\n",
       "      <td>65000.0</td>\n",
       "      <td>11.24</td>\n",
       "      <td>0.0</td>\n",
       "      <td>0.0</td>\n",
       "      <td>4.0</td>\n",
       "      <td>0.0</td>\n",
       "      <td>81</td>\n",
       "      <td>0.6</td>\n",
       "      <td>8.0</td>\n",
       "      <td>3</td>\n",
       "    </tr>\n",
       "    <tr>\n",
       "      <td>3</td>\n",
       "      <td>0</td>\n",
       "      <td>57500.0</td>\n",
       "      <td>6.18</td>\n",
       "      <td>1.0</td>\n",
       "      <td>0.0</td>\n",
       "      <td>6.0</td>\n",
       "      <td>0.0</td>\n",
       "      <td>10030</td>\n",
       "      <td>37.1</td>\n",
       "      <td>23.0</td>\n",
       "      <td>2</td>\n",
       "    </tr>\n",
       "    <tr>\n",
       "      <td>4</td>\n",
       "      <td>0</td>\n",
       "      <td>50004.0</td>\n",
       "      <td>19.03</td>\n",
       "      <td>0.0</td>\n",
       "      <td>4.0</td>\n",
       "      <td>8.0</td>\n",
       "      <td>0.0</td>\n",
       "      <td>10740</td>\n",
       "      <td>40.4</td>\n",
       "      <td>21.0</td>\n",
       "      <td>3</td>\n",
       "    </tr>\n",
       "  </tbody>\n",
       "</table>\n",
       "</div>"
      ],
      "text/plain": [
       "   is_bad  annual_inc  debt_to_income  delinq_2yrs  inq_last_6mths  open_acc  \\\n",
       "0       0     50000.0           10.87          0.0             0.0      15.0   \n",
       "1       0     39216.0            9.15          0.0             2.0       4.0   \n",
       "2       0     65000.0           11.24          0.0             0.0       4.0   \n",
       "3       0     57500.0            6.18          1.0             0.0       6.0   \n",
       "4       0     50004.0           19.03          0.0             4.0       8.0   \n",
       "\n",
       "   pub_rec  revol_bal  revol_util  total_acc  mths_since_last_major_derog  \n",
       "0      0.0      12087        12.1       44.0                            1  \n",
       "1      0.0      10114        64.0        5.0                            2  \n",
       "2      0.0         81         0.6        8.0                            3  \n",
       "3      0.0      10030        37.1       23.0                            2  \n",
       "4      0.0      10740        40.4       21.0                            3  "
      ]
     },
     "execution_count": 16,
     "metadata": {},
     "output_type": "execute_result"
    }
   ],
   "source": [
    "data[num_cols].head()"
   ]
  },
  {
   "cell_type": "code",
   "execution_count": 17,
   "metadata": {},
   "outputs": [
    {
     "data": {
      "text/plain": [
       "policy_code              5\n",
       "zip_code               720\n",
       "verification_status      3\n",
       "initial_list_status      2\n",
       "pymnt_plan               2\n",
       "purpose_cat             27\n",
       "home_ownership           5\n",
       "addr_state              50\n",
       "dtype: int64"
      ]
     },
     "execution_count": 17,
     "metadata": {},
     "output_type": "execute_result"
    }
   ],
   "source": [
    "data[cat_cols].nunique()"
   ]
  },
  {
   "cell_type": "code",
   "execution_count": 18,
   "metadata": {},
   "outputs": [
    {
     "data": {
      "text/html": [
       "<div>\n",
       "<style scoped>\n",
       "    .dataframe tbody tr th:only-of-type {\n",
       "        vertical-align: middle;\n",
       "    }\n",
       "\n",
       "    .dataframe tbody tr th {\n",
       "        vertical-align: top;\n",
       "    }\n",
       "\n",
       "    .dataframe thead th {\n",
       "        text-align: right;\n",
       "    }\n",
       "</style>\n",
       "<table border=\"1\" class=\"dataframe\">\n",
       "  <thead>\n",
       "    <tr style=\"text-align: right;\">\n",
       "      <th></th>\n",
       "      <th>is_bad</th>\n",
       "      <th>home_ownership</th>\n",
       "      <th>annual_inc</th>\n",
       "      <th>verification_status</th>\n",
       "      <th>pymnt_plan</th>\n",
       "      <th>purpose_cat</th>\n",
       "      <th>zip_code</th>\n",
       "      <th>addr_state</th>\n",
       "      <th>debt_to_income</th>\n",
       "      <th>delinq_2yrs</th>\n",
       "      <th>inq_last_6mths</th>\n",
       "      <th>open_acc</th>\n",
       "      <th>pub_rec</th>\n",
       "      <th>revol_bal</th>\n",
       "      <th>revol_util</th>\n",
       "      <th>total_acc</th>\n",
       "      <th>initial_list_status</th>\n",
       "      <th>mths_since_last_major_derog</th>\n",
       "      <th>policy_code</th>\n",
       "    </tr>\n",
       "  </thead>\n",
       "  <tbody>\n",
       "  </tbody>\n",
       "</table>\n",
       "</div>"
      ],
      "text/plain": [
       "Empty DataFrame\n",
       "Columns: [is_bad, home_ownership, annual_inc, verification_status, pymnt_plan, purpose_cat, zip_code, addr_state, debt_to_income, delinq_2yrs, inq_last_6mths, open_acc, pub_rec, revol_bal, revol_util, total_acc, initial_list_status, mths_since_last_major_derog, policy_code]\n",
       "Index: []"
      ]
     },
     "execution_count": 18,
     "metadata": {},
     "output_type": "execute_result"
    }
   ],
   "source": [
    "#data duplicacy check\n",
    "data[data.duplicated()]"
   ]
  },
  {
   "cell_type": "code",
   "execution_count": 19,
   "metadata": {},
   "outputs": [
    {
     "data": {
      "text/html": [
       "<div>\n",
       "<style scoped>\n",
       "    .dataframe tbody tr th:only-of-type {\n",
       "        vertical-align: middle;\n",
       "    }\n",
       "\n",
       "    .dataframe tbody tr th {\n",
       "        vertical-align: top;\n",
       "    }\n",
       "\n",
       "    .dataframe thead th {\n",
       "        text-align: right;\n",
       "    }\n",
       "</style>\n",
       "<table border=\"1\" class=\"dataframe\">\n",
       "  <thead>\n",
       "    <tr style=\"text-align: right;\">\n",
       "      <th></th>\n",
       "      <th>is_bad</th>\n",
       "      <th>home_ownership</th>\n",
       "      <th>annual_inc</th>\n",
       "      <th>verification_status</th>\n",
       "      <th>pymnt_plan</th>\n",
       "      <th>purpose_cat</th>\n",
       "      <th>zip_code</th>\n",
       "      <th>addr_state</th>\n",
       "      <th>debt_to_income</th>\n",
       "      <th>delinq_2yrs</th>\n",
       "      <th>inq_last_6mths</th>\n",
       "      <th>open_acc</th>\n",
       "      <th>pub_rec</th>\n",
       "      <th>revol_bal</th>\n",
       "      <th>revol_util</th>\n",
       "      <th>total_acc</th>\n",
       "      <th>initial_list_status</th>\n",
       "      <th>mths_since_last_major_derog</th>\n",
       "      <th>policy_code</th>\n",
       "    </tr>\n",
       "  </thead>\n",
       "  <tbody>\n",
       "    <tr>\n",
       "      <td>0</td>\n",
       "      <td>0</td>\n",
       "      <td>MORTGAGE</td>\n",
       "      <td>50000.0</td>\n",
       "      <td>not verified</td>\n",
       "      <td>n</td>\n",
       "      <td>medical</td>\n",
       "      <td>766xx</td>\n",
       "      <td>TX</td>\n",
       "      <td>10.87</td>\n",
       "      <td>0.0</td>\n",
       "      <td>0.0</td>\n",
       "      <td>15.0</td>\n",
       "      <td>0.0</td>\n",
       "      <td>12087</td>\n",
       "      <td>12.1</td>\n",
       "      <td>44.0</td>\n",
       "      <td>f</td>\n",
       "      <td>1</td>\n",
       "      <td>PC4</td>\n",
       "    </tr>\n",
       "    <tr>\n",
       "      <td>1</td>\n",
       "      <td>0</td>\n",
       "      <td>RENT</td>\n",
       "      <td>39216.0</td>\n",
       "      <td>not verified</td>\n",
       "      <td>n</td>\n",
       "      <td>debt consolidation</td>\n",
       "      <td>660xx</td>\n",
       "      <td>KS</td>\n",
       "      <td>9.15</td>\n",
       "      <td>0.0</td>\n",
       "      <td>2.0</td>\n",
       "      <td>4.0</td>\n",
       "      <td>0.0</td>\n",
       "      <td>10114</td>\n",
       "      <td>64.0</td>\n",
       "      <td>5.0</td>\n",
       "      <td>f</td>\n",
       "      <td>2</td>\n",
       "      <td>PC1</td>\n",
       "    </tr>\n",
       "    <tr>\n",
       "      <td>2</td>\n",
       "      <td>0</td>\n",
       "      <td>RENT</td>\n",
       "      <td>65000.0</td>\n",
       "      <td>not verified</td>\n",
       "      <td>n</td>\n",
       "      <td>credit card</td>\n",
       "      <td>916xx</td>\n",
       "      <td>CA</td>\n",
       "      <td>11.24</td>\n",
       "      <td>0.0</td>\n",
       "      <td>0.0</td>\n",
       "      <td>4.0</td>\n",
       "      <td>0.0</td>\n",
       "      <td>81</td>\n",
       "      <td>0.6</td>\n",
       "      <td>8.0</td>\n",
       "      <td>f</td>\n",
       "      <td>3</td>\n",
       "      <td>PC4</td>\n",
       "    </tr>\n",
       "    <tr>\n",
       "      <td>3</td>\n",
       "      <td>0</td>\n",
       "      <td>MORTGAGE</td>\n",
       "      <td>57500.0</td>\n",
       "      <td>not verified</td>\n",
       "      <td>n</td>\n",
       "      <td>debt consolidation</td>\n",
       "      <td>124xx</td>\n",
       "      <td>NY</td>\n",
       "      <td>6.18</td>\n",
       "      <td>1.0</td>\n",
       "      <td>0.0</td>\n",
       "      <td>6.0</td>\n",
       "      <td>0.0</td>\n",
       "      <td>10030</td>\n",
       "      <td>37.1</td>\n",
       "      <td>23.0</td>\n",
       "      <td>f</td>\n",
       "      <td>2</td>\n",
       "      <td>PC2</td>\n",
       "    </tr>\n",
       "    <tr>\n",
       "      <td>4</td>\n",
       "      <td>0</td>\n",
       "      <td>MORTGAGE</td>\n",
       "      <td>50004.0</td>\n",
       "      <td>VERIFIED - income</td>\n",
       "      <td>n</td>\n",
       "      <td>debt consolidation</td>\n",
       "      <td>439xx</td>\n",
       "      <td>OH</td>\n",
       "      <td>19.03</td>\n",
       "      <td>0.0</td>\n",
       "      <td>4.0</td>\n",
       "      <td>8.0</td>\n",
       "      <td>0.0</td>\n",
       "      <td>10740</td>\n",
       "      <td>40.4</td>\n",
       "      <td>21.0</td>\n",
       "      <td>f</td>\n",
       "      <td>3</td>\n",
       "      <td>PC3</td>\n",
       "    </tr>\n",
       "  </tbody>\n",
       "</table>\n",
       "</div>"
      ],
      "text/plain": [
       "   is_bad home_ownership  annual_inc verification_status pymnt_plan  \\\n",
       "0       0       MORTGAGE     50000.0        not verified          n   \n",
       "1       0           RENT     39216.0        not verified          n   \n",
       "2       0           RENT     65000.0        not verified          n   \n",
       "3       0       MORTGAGE     57500.0        not verified          n   \n",
       "4       0       MORTGAGE     50004.0   VERIFIED - income          n   \n",
       "\n",
       "          purpose_cat zip_code addr_state  debt_to_income  delinq_2yrs  \\\n",
       "0             medical    766xx         TX           10.87          0.0   \n",
       "1  debt consolidation    660xx         KS            9.15          0.0   \n",
       "2         credit card    916xx         CA           11.24          0.0   \n",
       "3  debt consolidation    124xx         NY            6.18          1.0   \n",
       "4  debt consolidation    439xx         OH           19.03          0.0   \n",
       "\n",
       "   inq_last_6mths  open_acc  pub_rec  revol_bal  revol_util  total_acc  \\\n",
       "0             0.0      15.0      0.0      12087        12.1       44.0   \n",
       "1             2.0       4.0      0.0      10114        64.0        5.0   \n",
       "2             0.0       4.0      0.0         81         0.6        8.0   \n",
       "3             0.0       6.0      0.0      10030        37.1       23.0   \n",
       "4             4.0       8.0      0.0      10740        40.4       21.0   \n",
       "\n",
       "  initial_list_status  mths_since_last_major_derog policy_code  \n",
       "0                   f                            1         PC4  \n",
       "1                   f                            2         PC1  \n",
       "2                   f                            3         PC4  \n",
       "3                   f                            2         PC2  \n",
       "4                   f                            3         PC3  "
      ]
     },
     "execution_count": 19,
     "metadata": {},
     "output_type": "execute_result"
    }
   ],
   "source": [
    "data.head()"
   ]
  },
  {
   "cell_type": "code",
   "execution_count": 20,
   "metadata": {},
   "outputs": [
    {
     "data": {
      "text/plain": [
       "19"
      ]
     },
     "execution_count": 20,
     "metadata": {},
     "output_type": "execute_result"
    }
   ],
   "source": [
    "len(data.columns)"
   ]
  },
  {
   "cell_type": "code",
   "execution_count": 14,
   "metadata": {},
   "outputs": [
    {
     "data": {
      "text/html": [
       "<div>\n",
       "<style scoped>\n",
       "    .dataframe tbody tr th:only-of-type {\n",
       "        vertical-align: middle;\n",
       "    }\n",
       "\n",
       "    .dataframe tbody tr th {\n",
       "        vertical-align: top;\n",
       "    }\n",
       "\n",
       "    .dataframe thead th {\n",
       "        text-align: right;\n",
       "    }\n",
       "</style>\n",
       "<table border=\"1\" class=\"dataframe\">\n",
       "  <thead>\n",
       "    <tr style=\"text-align: right;\">\n",
       "      <th></th>\n",
       "      <th>is_bad</th>\n",
       "      <th>annual_inc</th>\n",
       "      <th>debt_to_income</th>\n",
       "      <th>delinq_2yrs</th>\n",
       "      <th>inq_last_6mths</th>\n",
       "      <th>open_acc</th>\n",
       "      <th>pub_rec</th>\n",
       "      <th>revol_bal</th>\n",
       "      <th>revol_util</th>\n",
       "      <th>total_acc</th>\n",
       "      <th>mths_since_last_major_derog</th>\n",
       "    </tr>\n",
       "  </thead>\n",
       "  <tbody>\n",
       "    <tr>\n",
       "      <th>is_bad</th>\n",
       "      <td>1.000000</td>\n",
       "      <td>-0.050975</td>\n",
       "      <td>0.029873</td>\n",
       "      <td>0.021842</td>\n",
       "      <td>-0.001146</td>\n",
       "      <td>-0.020356</td>\n",
       "      <td>0.032174</td>\n",
       "      <td>-0.016202</td>\n",
       "      <td>0.087876</td>\n",
       "      <td>-0.055307</td>\n",
       "      <td>0.015481</td>\n",
       "    </tr>\n",
       "    <tr>\n",
       "      <th>annual_inc</th>\n",
       "      <td>-0.050975</td>\n",
       "      <td>1.000000</td>\n",
       "      <td>-0.130184</td>\n",
       "      <td>0.038670</td>\n",
       "      <td>0.056718</td>\n",
       "      <td>0.233821</td>\n",
       "      <td>-0.010398</td>\n",
       "      <td>0.359817</td>\n",
       "      <td>0.030792</td>\n",
       "      <td>0.329146</td>\n",
       "      <td>-0.002476</td>\n",
       "    </tr>\n",
       "    <tr>\n",
       "      <th>debt_to_income</th>\n",
       "      <td>0.029873</td>\n",
       "      <td>-0.130184</td>\n",
       "      <td>1.000000</td>\n",
       "      <td>-0.034393</td>\n",
       "      <td>0.012819</td>\n",
       "      <td>0.301003</td>\n",
       "      <td>-0.005351</td>\n",
       "      <td>0.163794</td>\n",
       "      <td>0.271439</td>\n",
       "      <td>0.233594</td>\n",
       "      <td>-0.007031</td>\n",
       "    </tr>\n",
       "    <tr>\n",
       "      <th>delinq_2yrs</th>\n",
       "      <td>0.021842</td>\n",
       "      <td>0.038670</td>\n",
       "      <td>-0.034393</td>\n",
       "      <td>1.000000</td>\n",
       "      <td>0.039215</td>\n",
       "      <td>0.027398</td>\n",
       "      <td>0.020411</td>\n",
       "      <td>-0.030090</td>\n",
       "      <td>-0.051301</td>\n",
       "      <td>0.081918</td>\n",
       "      <td>-0.002744</td>\n",
       "    </tr>\n",
       "    <tr>\n",
       "      <th>inq_last_6mths</th>\n",
       "      <td>-0.001146</td>\n",
       "      <td>0.056718</td>\n",
       "      <td>0.012819</td>\n",
       "      <td>0.039215</td>\n",
       "      <td>1.000000</td>\n",
       "      <td>0.088105</td>\n",
       "      <td>0.054711</td>\n",
       "      <td>0.043130</td>\n",
       "      <td>-0.037232</td>\n",
       "      <td>0.084671</td>\n",
       "      <td>0.008570</td>\n",
       "    </tr>\n",
       "    <tr>\n",
       "      <th>open_acc</th>\n",
       "      <td>-0.020356</td>\n",
       "      <td>0.233821</td>\n",
       "      <td>0.301003</td>\n",
       "      <td>0.027398</td>\n",
       "      <td>0.088105</td>\n",
       "      <td>1.000000</td>\n",
       "      <td>0.006680</td>\n",
       "      <td>0.233842</td>\n",
       "      <td>-0.074018</td>\n",
       "      <td>0.695387</td>\n",
       "      <td>-0.006169</td>\n",
       "    </tr>\n",
       "    <tr>\n",
       "      <th>pub_rec</th>\n",
       "      <td>0.032174</td>\n",
       "      <td>-0.010398</td>\n",
       "      <td>-0.005351</td>\n",
       "      <td>0.020411</td>\n",
       "      <td>0.054711</td>\n",
       "      <td>0.006680</td>\n",
       "      <td>1.000000</td>\n",
       "      <td>-0.038547</td>\n",
       "      <td>0.051016</td>\n",
       "      <td>-0.013598</td>\n",
       "      <td>-0.002614</td>\n",
       "    </tr>\n",
       "    <tr>\n",
       "      <th>revol_bal</th>\n",
       "      <td>-0.016202</td>\n",
       "      <td>0.359817</td>\n",
       "      <td>0.163794</td>\n",
       "      <td>-0.030090</td>\n",
       "      <td>0.043130</td>\n",
       "      <td>0.233842</td>\n",
       "      <td>-0.038547</td>\n",
       "      <td>1.000000</td>\n",
       "      <td>0.201962</td>\n",
       "      <td>0.257274</td>\n",
       "      <td>-0.007541</td>\n",
       "    </tr>\n",
       "    <tr>\n",
       "      <th>revol_util</th>\n",
       "      <td>0.087876</td>\n",
       "      <td>0.030792</td>\n",
       "      <td>0.271439</td>\n",
       "      <td>-0.051301</td>\n",
       "      <td>-0.037232</td>\n",
       "      <td>-0.074018</td>\n",
       "      <td>0.051016</td>\n",
       "      <td>0.201962</td>\n",
       "      <td>1.000000</td>\n",
       "      <td>-0.051072</td>\n",
       "      <td>-0.002756</td>\n",
       "    </tr>\n",
       "    <tr>\n",
       "      <th>total_acc</th>\n",
       "      <td>-0.055307</td>\n",
       "      <td>0.329146</td>\n",
       "      <td>0.233594</td>\n",
       "      <td>0.081918</td>\n",
       "      <td>0.084671</td>\n",
       "      <td>0.695387</td>\n",
       "      <td>-0.013598</td>\n",
       "      <td>0.257274</td>\n",
       "      <td>-0.051072</td>\n",
       "      <td>1.000000</td>\n",
       "      <td>0.002505</td>\n",
       "    </tr>\n",
       "    <tr>\n",
       "      <th>mths_since_last_major_derog</th>\n",
       "      <td>0.015481</td>\n",
       "      <td>-0.002476</td>\n",
       "      <td>-0.007031</td>\n",
       "      <td>-0.002744</td>\n",
       "      <td>0.008570</td>\n",
       "      <td>-0.006169</td>\n",
       "      <td>-0.002614</td>\n",
       "      <td>-0.007541</td>\n",
       "      <td>-0.002756</td>\n",
       "      <td>0.002505</td>\n",
       "      <td>1.000000</td>\n",
       "    </tr>\n",
       "  </tbody>\n",
       "</table>\n",
       "</div>"
      ],
      "text/plain": [
       "                               is_bad  annual_inc  debt_to_income  \\\n",
       "is_bad                       1.000000   -0.050975        0.029873   \n",
       "annual_inc                  -0.050975    1.000000       -0.130184   \n",
       "debt_to_income               0.029873   -0.130184        1.000000   \n",
       "delinq_2yrs                  0.021842    0.038670       -0.034393   \n",
       "inq_last_6mths              -0.001146    0.056718        0.012819   \n",
       "open_acc                    -0.020356    0.233821        0.301003   \n",
       "pub_rec                      0.032174   -0.010398       -0.005351   \n",
       "revol_bal                   -0.016202    0.359817        0.163794   \n",
       "revol_util                   0.087876    0.030792        0.271439   \n",
       "total_acc                   -0.055307    0.329146        0.233594   \n",
       "mths_since_last_major_derog  0.015481   -0.002476       -0.007031   \n",
       "\n",
       "                             delinq_2yrs  inq_last_6mths  open_acc   pub_rec  \\\n",
       "is_bad                          0.021842       -0.001146 -0.020356  0.032174   \n",
       "annual_inc                      0.038670        0.056718  0.233821 -0.010398   \n",
       "debt_to_income                 -0.034393        0.012819  0.301003 -0.005351   \n",
       "delinq_2yrs                     1.000000        0.039215  0.027398  0.020411   \n",
       "inq_last_6mths                  0.039215        1.000000  0.088105  0.054711   \n",
       "open_acc                        0.027398        0.088105  1.000000  0.006680   \n",
       "pub_rec                         0.020411        0.054711  0.006680  1.000000   \n",
       "revol_bal                      -0.030090        0.043130  0.233842 -0.038547   \n",
       "revol_util                     -0.051301       -0.037232 -0.074018  0.051016   \n",
       "total_acc                       0.081918        0.084671  0.695387 -0.013598   \n",
       "mths_since_last_major_derog    -0.002744        0.008570 -0.006169 -0.002614   \n",
       "\n",
       "                             revol_bal  revol_util  total_acc  \\\n",
       "is_bad                       -0.016202    0.087876  -0.055307   \n",
       "annual_inc                    0.359817    0.030792   0.329146   \n",
       "debt_to_income                0.163794    0.271439   0.233594   \n",
       "delinq_2yrs                  -0.030090   -0.051301   0.081918   \n",
       "inq_last_6mths                0.043130   -0.037232   0.084671   \n",
       "open_acc                      0.233842   -0.074018   0.695387   \n",
       "pub_rec                      -0.038547    0.051016  -0.013598   \n",
       "revol_bal                     1.000000    0.201962   0.257274   \n",
       "revol_util                    0.201962    1.000000  -0.051072   \n",
       "total_acc                     0.257274   -0.051072   1.000000   \n",
       "mths_since_last_major_derog  -0.007541   -0.002756   0.002505   \n",
       "\n",
       "                             mths_since_last_major_derog  \n",
       "is_bad                                          0.015481  \n",
       "annual_inc                                     -0.002476  \n",
       "debt_to_income                                 -0.007031  \n",
       "delinq_2yrs                                    -0.002744  \n",
       "inq_last_6mths                                  0.008570  \n",
       "open_acc                                       -0.006169  \n",
       "pub_rec                                        -0.002614  \n",
       "revol_bal                                      -0.007541  \n",
       "revol_util                                     -0.002756  \n",
       "total_acc                                       0.002505  \n",
       "mths_since_last_major_derog                     1.000000  "
      ]
     },
     "execution_count": 14,
     "metadata": {},
     "output_type": "execute_result"
    }
   ],
   "source": [
    "#correlation Matrix\n",
    "corr = data.corr()\n",
    "corr"
   ]
  },
  {
   "cell_type": "code",
   "execution_count": 15,
   "metadata": {},
   "outputs": [
    {
     "data": {
      "text/plain": [
       "<AxesSubplot:>"
      ]
     },
     "execution_count": 15,
     "metadata": {},
     "output_type": "execute_result"
    },
    {
     "data": {
      "image/png": "[encoded data removed]",
      "text/plain": [
       "<Figure size 1000x900 with 2 Axes>"
      ]
     },
     "metadata": {},
     "output_type": "display_data"
    }
   ],
   "source": [
    "#heat map for correlation\n",
    "import seaborn as sns\n",
    "import matplotlib.pyplot as plt\n",
    "%matplotlib inline\n",
    "\n",
    "mask = np.zeros_like(corr, dtype=np.bool)\n",
    "mask[np.triu_indices_from(mask)] = True\n",
    "\n",
    "f, ax = plt.subplots(figsize=(10, 9))\n",
    "\n",
    "cmap = sns.diverging_palette(220, 10, as_cmap=True)\n",
    "\n",
    "sns.heatmap(corr, mask=mask,\n",
    "            vmax=.3,\n",
    "            cmap=cmap,\n",
    "            square=True,\n",
    "            linewidths=.5,\n",
    "            cbar_kws={\"shrink\": .5})"
   ]
  },
  {
   "cell_type": "code",
   "execution_count": null,
   "metadata": {},
   "outputs": [],
   "source": []
  },
  {
   "cell_type": "code",
   "execution_count": 23,
   "metadata": {},
   "outputs": [],
   "source": [
    "is_bad_data = data[data.is_bad == 1]\n",
    "not_bad_data = data[data.is_bad == 0]"
   ]
  },
  {
   "cell_type": "code",
   "execution_count": 24,
   "metadata": {},
   "outputs": [
    {
     "data": {
      "text/plain": [
       "(array([965., 277.,  40.,   7.,   2.,   1.,   0.,   1.,   1.,   1.]),\n",
       " array([  4080.,  73672., 143264., 212856., 282448., 352040., 421632.,\n",
       "        491224., 560816., 630408., 700000.]),\n",
       " <a list of 10 Patch objects>)"
      ]
     },
     "execution_count": 24,
     "metadata": {},
     "output_type": "execute_result"
    },
    {
     "data": {
      "image/png": "[encoded data removed]",
      "text/plain": [
       "<Figure size 432x288 with 1 Axes>"
      ]
     },
     "metadata": {
      "needs_background": "light"
     },
     "output_type": "display_data"
    }
   ],
   "source": [
    "plt.hist(is_bad_data['annual_inc'],bins=10 ,stacked = True, rwidth = 1)"
   ]
  },
  {
   "cell_type": "code",
   "execution_count": 25,
   "metadata": {},
   "outputs": [
    {
     "data": {
      "text/plain": [
       "(array([7.008e+03, 1.473e+03, 1.510e+02, 4.700e+01, 1.300e+01, 4.000e+00,\n",
       "        2.000e+00, 0.000e+00, 3.000e+00, 3.000e+00]),\n",
       " array([  2000.,  91800., 181600., 271400., 361200., 451000., 540800.,\n",
       "        630600., 720400., 810200., 900000.]),\n",
       " <a list of 10 Patch objects>)"
      ]
     },
     "execution_count": 25,
     "metadata": {},
     "output_type": "execute_result"
    },
    {
     "data": {
      "image/png": "[encoded data removed]",
      "text/plain": [
       "<Figure size 432x288 with 1 Axes>"
      ]
     },
     "metadata": {
      "needs_background": "light"
     },
     "output_type": "display_data"
    }
   ],
   "source": [
    "plt.hist(not_bad_data['annual_inc'], bins = 10, stacked = True, rwidth = 1)"
   ]
  },
  {
   "cell_type": "code",
   "execution_count": 26,
   "metadata": {},
   "outputs": [
    {
     "data": {
      "text/html": [
       "<div>\n",
       "<style scoped>\n",
       "    .dataframe tbody tr th:only-of-type {\n",
       "        vertical-align: middle;\n",
       "    }\n",
       "\n",
       "    .dataframe tbody tr th {\n",
       "        vertical-align: top;\n",
       "    }\n",
       "\n",
       "    .dataframe thead th {\n",
       "        text-align: right;\n",
       "    }\n",
       "</style>\n",
       "<table border=\"1\" class=\"dataframe\">\n",
       "  <thead>\n",
       "    <tr style=\"text-align: right;\">\n",
       "      <th></th>\n",
       "      <th>is_bad</th>\n",
       "      <th>home_ownership</th>\n",
       "      <th>annual_inc</th>\n",
       "      <th>verification_status</th>\n",
       "      <th>pymnt_plan</th>\n",
       "      <th>purpose_cat</th>\n",
       "      <th>zip_code</th>\n",
       "      <th>addr_state</th>\n",
       "      <th>debt_to_income</th>\n",
       "      <th>delinq_2yrs</th>\n",
       "      <th>inq_last_6mths</th>\n",
       "      <th>open_acc</th>\n",
       "      <th>pub_rec</th>\n",
       "      <th>revol_bal</th>\n",
       "      <th>revol_util</th>\n",
       "      <th>total_acc</th>\n",
       "      <th>initial_list_status</th>\n",
       "      <th>mths_since_last_major_derog</th>\n",
       "      <th>policy_code</th>\n",
       "    </tr>\n",
       "  </thead>\n",
       "  <tbody>\n",
       "    <tr>\n",
       "      <td>16</td>\n",
       "      <td>1</td>\n",
       "      <td>OWN</td>\n",
       "      <td>22000.0</td>\n",
       "      <td>VERIFIED - income source</td>\n",
       "      <td>n</td>\n",
       "      <td>other small business</td>\n",
       "      <td>324xx</td>\n",
       "      <td>FL</td>\n",
       "      <td>14.95</td>\n",
       "      <td>0.0</td>\n",
       "      <td>0.0</td>\n",
       "      <td>4.0</td>\n",
       "      <td>0.0</td>\n",
       "      <td>8511</td>\n",
       "      <td>78.8</td>\n",
       "      <td>9.0</td>\n",
       "      <td>m</td>\n",
       "      <td>3</td>\n",
       "      <td>PC2</td>\n",
       "    </tr>\n",
       "    <tr>\n",
       "      <td>20</td>\n",
       "      <td>1</td>\n",
       "      <td>MORTGAGE</td>\n",
       "      <td>72000.0</td>\n",
       "      <td>not verified</td>\n",
       "      <td>n</td>\n",
       "      <td>small business</td>\n",
       "      <td>741xx</td>\n",
       "      <td>OK</td>\n",
       "      <td>17.48</td>\n",
       "      <td>0.0</td>\n",
       "      <td>6.0</td>\n",
       "      <td>13.0</td>\n",
       "      <td>0.0</td>\n",
       "      <td>1249</td>\n",
       "      <td>6.1</td>\n",
       "      <td>23.0</td>\n",
       "      <td>f</td>\n",
       "      <td>3</td>\n",
       "      <td>PC3</td>\n",
       "    </tr>\n",
       "    <tr>\n",
       "      <td>51</td>\n",
       "      <td>1</td>\n",
       "      <td>MORTGAGE</td>\n",
       "      <td>120000.0</td>\n",
       "      <td>VERIFIED - income source</td>\n",
       "      <td>n</td>\n",
       "      <td>other</td>\n",
       "      <td>207xx</td>\n",
       "      <td>MD</td>\n",
       "      <td>21.16</td>\n",
       "      <td>4.0</td>\n",
       "      <td>1.0</td>\n",
       "      <td>25.0</td>\n",
       "      <td>0.0</td>\n",
       "      <td>43109</td>\n",
       "      <td>72.3</td>\n",
       "      <td>49.0</td>\n",
       "      <td>f</td>\n",
       "      <td>3</td>\n",
       "      <td>PC5</td>\n",
       "    </tr>\n",
       "    <tr>\n",
       "      <td>54</td>\n",
       "      <td>1</td>\n",
       "      <td>RENT</td>\n",
       "      <td>23040.0</td>\n",
       "      <td>VERIFIED - income source</td>\n",
       "      <td>n</td>\n",
       "      <td>credit card</td>\n",
       "      <td>951xx</td>\n",
       "      <td>CA</td>\n",
       "      <td>12.66</td>\n",
       "      <td>0.0</td>\n",
       "      <td>0.0</td>\n",
       "      <td>6.0</td>\n",
       "      <td>0.0</td>\n",
       "      <td>8282</td>\n",
       "      <td>62.3</td>\n",
       "      <td>11.0</td>\n",
       "      <td>f</td>\n",
       "      <td>2</td>\n",
       "      <td>PC3</td>\n",
       "    </tr>\n",
       "    <tr>\n",
       "      <td>55</td>\n",
       "      <td>1</td>\n",
       "      <td>RENT</td>\n",
       "      <td>15000.0</td>\n",
       "      <td>VERIFIED - income</td>\n",
       "      <td>n</td>\n",
       "      <td>other</td>\n",
       "      <td>774xx</td>\n",
       "      <td>TX</td>\n",
       "      <td>18.08</td>\n",
       "      <td>0.0</td>\n",
       "      <td>0.0</td>\n",
       "      <td>2.0</td>\n",
       "      <td>0.0</td>\n",
       "      <td>9279</td>\n",
       "      <td>36.5</td>\n",
       "      <td>3.0</td>\n",
       "      <td>f</td>\n",
       "      <td>1</td>\n",
       "      <td>PC4</td>\n",
       "    </tr>\n",
       "  </tbody>\n",
       "</table>\n",
       "</div>"
      ],
      "text/plain": [
       "    is_bad home_ownership  annual_inc       verification_status pymnt_plan  \\\n",
       "16       1            OWN     22000.0  VERIFIED - income source          n   \n",
       "20       1       MORTGAGE     72000.0              not verified          n   \n",
       "51       1       MORTGAGE    120000.0  VERIFIED - income source          n   \n",
       "54       1           RENT     23040.0  VERIFIED - income source          n   \n",
       "55       1           RENT     15000.0         VERIFIED - income          n   \n",
       "\n",
       "             purpose_cat zip_code addr_state  debt_to_income  delinq_2yrs  \\\n",
       "16  other small business    324xx         FL           14.95          0.0   \n",
       "20        small business    741xx         OK           17.48          0.0   \n",
       "51                 other    207xx         MD           21.16          4.0   \n",
       "54           credit card    951xx         CA           12.66          0.0   \n",
       "55                 other    774xx         TX           18.08          0.0   \n",
       "\n",
       "    inq_last_6mths  open_acc  pub_rec  revol_bal  revol_util  total_acc  \\\n",
       "16             0.0       4.0      0.0       8511        78.8        9.0   \n",
       "20             6.0      13.0      0.0       1249         6.1       23.0   \n",
       "51             1.0      25.0      0.0      43109        72.3       49.0   \n",
       "54             0.0       6.0      0.0       8282        62.3       11.0   \n",
       "55             0.0       2.0      0.0       9279        36.5        3.0   \n",
       "\n",
       "   initial_list_status  mths_since_last_major_derog policy_code  \n",
       "16                   m                            3         PC2  \n",
       "20                   f                            3         PC3  \n",
       "51                   f                            3         PC5  \n",
       "54                   f                            2         PC3  \n",
       "55                   f                            1         PC4  "
      ]
     },
     "execution_count": 26,
     "metadata": {},
     "output_type": "execute_result"
    }
   ],
   "source": [
    "is_bad_data.head()"
   ]
  },
  {
   "cell_type": "code",
   "execution_count": 27,
   "metadata": {},
   "outputs": [
    {
     "data": {
      "text/plain": [
       "<matplotlib.collections.PathCollection at 0x283f5c3f388>"
      ]
     },
     "execution_count": 27,
     "metadata": {},
     "output_type": "execute_result"
    },
    {
     "data": {
      "image/png": "[encoded data removed]",
      "text/plain": [
       "<Figure size 432x288 with 1 Axes>"
      ]
     },
     "metadata": {
      "needs_background": "light"
     },
     "output_type": "display_data"
    }
   ],
   "source": [
    "plt.scatter(x= is_bad_data['annual_inc'], y= is_bad_data['debt_to_income'])"
   ]
  },
  {
   "cell_type": "code",
   "execution_count": 28,
   "metadata": {},
   "outputs": [
    {
     "data": {
      "text/plain": [
       "<matplotlib.collections.PathCollection at 0x283f5be9308>"
      ]
     },
     "execution_count": 28,
     "metadata": {},
     "output_type": "execute_result"
    },
    {
     "data": {
      "image/png": "[encoded data removed]",
      "text/plain": [
       "<Figure size 432x288 with 1 Axes>"
      ]
     },
     "metadata": {
      "needs_background": "light"
     },
     "output_type": "display_data"
    }
   ],
   "source": [
    "plt.scatter(x= not_bad_data['annual_inc'], y= not_bad_data['debt_to_income'])\n"
   ]
  },
  {
   "cell_type": "code",
   "execution_count": 29,
   "metadata": {},
   "outputs": [
    {
     "data": {
      "text/plain": [
       "(array([27., 22., 21., 40., 41., 36., 43., 39., 63., 65., 48., 44., 69.,\n",
       "        67., 70., 60., 69., 53., 70., 59., 59., 54., 43., 50., 44., 19.,\n",
       "         5.,  6.,  4.,  5.]),\n",
       " array([ 0.   ,  0.986,  1.972,  2.958,  3.944,  4.93 ,  5.916,  6.902,\n",
       "         7.888,  8.874,  9.86 , 10.846, 11.832, 12.818, 13.804, 14.79 ,\n",
       "        15.776, 16.762, 17.748, 18.734, 19.72 , 20.706, 21.692, 22.678,\n",
       "        23.664, 24.65 , 25.636, 26.622, 27.608, 28.594, 29.58 ]),\n",
       " <a list of 30 Patch objects>)"
      ]
     },
     "execution_count": 29,
     "metadata": {},
     "output_type": "execute_result"
    },
    {
     "data": {
      "image/png": "[encoded data removed]",
      "text/plain": [
       "<Figure size 432x288 with 1 Axes>"
      ]
     },
     "metadata": {
      "needs_background": "light"
     },
     "output_type": "display_data"
    }
   ],
   "source": [
    "plt.hist(is_bad_data['debt_to_income'], bins = 30, stacked = True, rwidth = 1)"
   ]
  },
  {
   "cell_type": "code",
   "execution_count": 30,
   "metadata": {},
   "outputs": [
    {
     "data": {
      "text/plain": [
       "(array([223., 194., 221., 232., 296., 315., 309., 364., 392., 424., 415.,\n",
       "        415., 436., 434., 424., 411., 413., 355., 391., 393., 336., 319.,\n",
       "        304., 270., 221.,  49.,  59.,  30.,  31.,  29.]),\n",
       " array([ 0.        ,  0.99966667,  1.99933333,  2.999     ,  3.99866667,\n",
       "         4.99833333,  5.998     ,  6.99766667,  7.99733333,  8.997     ,\n",
       "         9.99666667, 10.99633333, 11.996     , 12.99566667, 13.99533333,\n",
       "        14.995     , 15.99466667, 16.99433333, 17.994     , 18.99366667,\n",
       "        19.99333333, 20.993     , 21.99266667, 22.99233333, 23.992     ,\n",
       "        24.99166667, 25.99133333, 26.991     , 27.99066667, 28.99033333,\n",
       "        29.99      ]),\n",
       " <a list of 30 Patch objects>)"
      ]
     },
     "execution_count": 30,
     "metadata": {},
     "output_type": "execute_result"
    },
    {
     "data": {
      "image/png": "[encoded data removed]",
      "text/plain": [
       "<Figure size 432x288 with 1 Axes>"
      ]
     },
     "metadata": {
      "needs_background": "light"
     },
     "output_type": "display_data"
    }
   ],
   "source": [
    "plt.hist(not_bad_data['debt_to_income'], bins = 30, stacked = True, rwidth = 1)"
   ]
  },
  {
   "cell_type": "code",
   "execution_count": 31,
   "metadata": {},
   "outputs": [],
   "source": [
    "def plot_home_ownership_donut(input_df):\n",
    "    home_ownership = pd.DataFrame(input_df.home_ownership.value_counts()).reset_index()\n",
    "    home_ownership.rename(columns = {'index':'home_ownership', 'home_ownership':'counts'}, inplace = True)\n",
    "    home_ownership = home_ownership[home_ownership.home_ownership != 'NONE']\n",
    "    \n",
    "\n",
    "    my_circle=plt.Circle( (0,0), 0.7, color='white')\n",
    "\n",
    "    plt.pie(home_ownership['counts'],\n",
    "            labels=home_ownership['home_ownership'], \n",
    "            colors=['red','green','blue','skyblue'])\n",
    "    p=plt.gcf()\n",
    "    p.gca().add_artist(my_circle)\n",
    "    plt.show()\n"
   ]
  },
  {
   "cell_type": "code",
   "execution_count": 32,
   "metadata": {},
   "outputs": [
    {
     "data": {
      "image/png": "[encoded data removed]",
      "text/plain": [
       "<Figure size 432x288 with 1 Axes>"
      ]
     },
     "metadata": {},
     "output_type": "display_data"
    }
   ],
   "source": [
    "plot_home_ownership_donut(is_bad_data)"
   ]
  },
  {
   "cell_type": "code",
   "execution_count": 33,
   "metadata": {},
   "outputs": [
    {
     "data": {
      "image/png": "[encoded data removed]",
      "text/plain": [
       "<Figure size 432x288 with 1 Axes>"
      ]
     },
     "metadata": {},
     "output_type": "display_data"
    }
   ],
   "source": [
    "plot_home_ownership_donut(not_bad_data)"
   ]
  },
  {
   "cell_type": "code",
   "execution_count": 34,
   "metadata": {},
   "outputs": [
    {
     "data": {
      "image/png": "[encoded data removed]",
      "text/plain": [
       "<Figure size 432x288 with 1 Axes>"
      ]
     },
     "metadata": {},
     "output_type": "display_data"
    }
   ],
   "source": [
    "plot_home_ownership_donut(data)"
   ]
  },
  {
   "cell_type": "code",
   "execution_count": 35,
   "metadata": {},
   "outputs": [
    {
     "data": {
      "text/html": [
       "<div>\n",
       "<style scoped>\n",
       "    .dataframe tbody tr th:only-of-type {\n",
       "        vertical-align: middle;\n",
       "    }\n",
       "\n",
       "    .dataframe tbody tr th {\n",
       "        vertical-align: top;\n",
       "    }\n",
       "\n",
       "    .dataframe thead th {\n",
       "        text-align: right;\n",
       "    }\n",
       "</style>\n",
       "<table border=\"1\" class=\"dataframe\">\n",
       "  <thead>\n",
       "    <tr style=\"text-align: right;\">\n",
       "      <th></th>\n",
       "      <th>is_bad</th>\n",
       "      <th>home_ownership</th>\n",
       "      <th>annual_inc</th>\n",
       "      <th>verification_status</th>\n",
       "      <th>pymnt_plan</th>\n",
       "      <th>purpose_cat</th>\n",
       "      <th>zip_code</th>\n",
       "      <th>addr_state</th>\n",
       "      <th>debt_to_income</th>\n",
       "      <th>delinq_2yrs</th>\n",
       "      <th>inq_last_6mths</th>\n",
       "      <th>open_acc</th>\n",
       "      <th>pub_rec</th>\n",
       "      <th>revol_bal</th>\n",
       "      <th>revol_util</th>\n",
       "      <th>total_acc</th>\n",
       "      <th>initial_list_status</th>\n",
       "      <th>mths_since_last_major_derog</th>\n",
       "      <th>policy_code</th>\n",
       "    </tr>\n",
       "  </thead>\n",
       "  <tbody>\n",
       "    <tr>\n",
       "      <td>0</td>\n",
       "      <td>0</td>\n",
       "      <td>MORTGAGE</td>\n",
       "      <td>50000.0</td>\n",
       "      <td>not verified</td>\n",
       "      <td>n</td>\n",
       "      <td>medical</td>\n",
       "      <td>766xx</td>\n",
       "      <td>TX</td>\n",
       "      <td>10.87</td>\n",
       "      <td>0.0</td>\n",
       "      <td>0.0</td>\n",
       "      <td>15.0</td>\n",
       "      <td>0.0</td>\n",
       "      <td>12087</td>\n",
       "      <td>12.1</td>\n",
       "      <td>44.0</td>\n",
       "      <td>f</td>\n",
       "      <td>1</td>\n",
       "      <td>PC4</td>\n",
       "    </tr>\n",
       "    <tr>\n",
       "      <td>1</td>\n",
       "      <td>0</td>\n",
       "      <td>RENT</td>\n",
       "      <td>39216.0</td>\n",
       "      <td>not verified</td>\n",
       "      <td>n</td>\n",
       "      <td>debt consolidation</td>\n",
       "      <td>660xx</td>\n",
       "      <td>KS</td>\n",
       "      <td>9.15</td>\n",
       "      <td>0.0</td>\n",
       "      <td>2.0</td>\n",
       "      <td>4.0</td>\n",
       "      <td>0.0</td>\n",
       "      <td>10114</td>\n",
       "      <td>64.0</td>\n",
       "      <td>5.0</td>\n",
       "      <td>f</td>\n",
       "      <td>2</td>\n",
       "      <td>PC1</td>\n",
       "    </tr>\n",
       "    <tr>\n",
       "      <td>2</td>\n",
       "      <td>0</td>\n",
       "      <td>RENT</td>\n",
       "      <td>65000.0</td>\n",
       "      <td>not verified</td>\n",
       "      <td>n</td>\n",
       "      <td>credit card</td>\n",
       "      <td>916xx</td>\n",
       "      <td>CA</td>\n",
       "      <td>11.24</td>\n",
       "      <td>0.0</td>\n",
       "      <td>0.0</td>\n",
       "      <td>4.0</td>\n",
       "      <td>0.0</td>\n",
       "      <td>81</td>\n",
       "      <td>0.6</td>\n",
       "      <td>8.0</td>\n",
       "      <td>f</td>\n",
       "      <td>3</td>\n",
       "      <td>PC4</td>\n",
       "    </tr>\n",
       "    <tr>\n",
       "      <td>3</td>\n",
       "      <td>0</td>\n",
       "      <td>MORTGAGE</td>\n",
       "      <td>57500.0</td>\n",
       "      <td>not verified</td>\n",
       "      <td>n</td>\n",
       "      <td>debt consolidation</td>\n",
       "      <td>124xx</td>\n",
       "      <td>NY</td>\n",
       "      <td>6.18</td>\n",
       "      <td>1.0</td>\n",
       "      <td>0.0</td>\n",
       "      <td>6.0</td>\n",
       "      <td>0.0</td>\n",
       "      <td>10030</td>\n",
       "      <td>37.1</td>\n",
       "      <td>23.0</td>\n",
       "      <td>f</td>\n",
       "      <td>2</td>\n",
       "      <td>PC2</td>\n",
       "    </tr>\n",
       "    <tr>\n",
       "      <td>4</td>\n",
       "      <td>0</td>\n",
       "      <td>MORTGAGE</td>\n",
       "      <td>50004.0</td>\n",
       "      <td>VERIFIED - income</td>\n",
       "      <td>n</td>\n",
       "      <td>debt consolidation</td>\n",
       "      <td>439xx</td>\n",
       "      <td>OH</td>\n",
       "      <td>19.03</td>\n",
       "      <td>0.0</td>\n",
       "      <td>4.0</td>\n",
       "      <td>8.0</td>\n",
       "      <td>0.0</td>\n",
       "      <td>10740</td>\n",
       "      <td>40.4</td>\n",
       "      <td>21.0</td>\n",
       "      <td>f</td>\n",
       "      <td>3</td>\n",
       "      <td>PC3</td>\n",
       "    </tr>\n",
       "  </tbody>\n",
       "</table>\n",
       "</div>"
      ],
      "text/plain": [
       "   is_bad home_ownership  annual_inc verification_status pymnt_plan  \\\n",
       "0       0       MORTGAGE     50000.0        not verified          n   \n",
       "1       0           RENT     39216.0        not verified          n   \n",
       "2       0           RENT     65000.0        not verified          n   \n",
       "3       0       MORTGAGE     57500.0        not verified          n   \n",
       "4       0       MORTGAGE     50004.0   VERIFIED - income          n   \n",
       "\n",
       "          purpose_cat zip_code addr_state  debt_to_income  delinq_2yrs  \\\n",
       "0             medical    766xx         TX           10.87          0.0   \n",
       "1  debt consolidation    660xx         KS            9.15          0.0   \n",
       "2         credit card    916xx         CA           11.24          0.0   \n",
       "3  debt consolidation    124xx         NY            6.18          1.0   \n",
       "4  debt consolidation    439xx         OH           19.03          0.0   \n",
       "\n",
       "   inq_last_6mths  open_acc  pub_rec  revol_bal  revol_util  total_acc  \\\n",
       "0             0.0      15.0      0.0      12087        12.1       44.0   \n",
       "1             2.0       4.0      0.0      10114        64.0        5.0   \n",
       "2             0.0       4.0      0.0         81         0.6        8.0   \n",
       "3             0.0       6.0      0.0      10030        37.1       23.0   \n",
       "4             4.0       8.0      0.0      10740        40.4       21.0   \n",
       "\n",
       "  initial_list_status  mths_since_last_major_derog policy_code  \n",
       "0                   f                            1         PC4  \n",
       "1                   f                            2         PC1  \n",
       "2                   f                            3         PC4  \n",
       "3                   f                            2         PC2  \n",
       "4                   f                            3         PC3  "
      ]
     },
     "execution_count": 35,
     "metadata": {},
     "output_type": "execute_result"
    }
   ],
   "source": [
    "data.head()"
   ]
  },
  {
   "cell_type": "code",
   "execution_count": 36,
   "metadata": {},
   "outputs": [
    {
     "data": {
      "text/plain": [
       "<seaborn.axisgrid.FacetGrid at 0x283f612af48>"
      ]
     },
     "execution_count": 36,
     "metadata": {},
     "output_type": "execute_result"
    },
    {
     "data": {
      "image/png": "[encoded data removed]",
      "text/plain": [
       "<Figure size 443.875x360 with 1 Axes>"
      ]
     },
     "metadata": {
      "needs_background": "light"
     },
     "output_type": "display_data"
    }
   ],
   "source": [
    "sns.FacetGrid(data, hue=\"is_bad\",size=5) \\\n",
    "   .map(plt.scatter, \"annual_inc\", \"debt_to_income\") \\\n",
    "   .add_legend(title = 'Staus', labels = ['Approved','Rejected'])"
   ]
  },
  {
   "cell_type": "code",
   "execution_count": 37,
   "metadata": {},
   "outputs": [
    {
     "data": {
      "text/plain": [
       "<seaborn.axisgrid.FacetGrid at 0x283f61aae48>"
      ]
     },
     "execution_count": 37,
     "metadata": {},
     "output_type": "execute_result"
    },
    {
     "data": {
      "image/png": "[encoded data removed]",
      "text/plain": [
       "<Figure size 443.875x360 with 1 Axes>"
      ]
     },
     "metadata": {
      "needs_background": "light"
     },
     "output_type": "display_data"
    }
   ],
   "source": [
    "sns.FacetGrid(data, hue=\"is_bad\",size=5) \\\n",
    "   .map(plt.scatter, \"annual_inc\", \"revol_bal\") \\\n",
    "   .add_legend(title = 'Staus', labels = ['Approved','Rejected'])"
   ]
  },
  {
   "cell_type": "code",
   "execution_count": 38,
   "metadata": {},
   "outputs": [
    {
     "data": {
      "text/plain": [
       "(array([865., 282.,  85.,  33.,  14.,   4.,   4.,   4.,   2.,   2.]),\n",
       " array([     0. ,  13645.6,  27291.2,  40936.8,  54582.4,  68228. ,\n",
       "         81873.6,  95519.2, 109164.8, 122810.4, 136456. ]),\n",
       " <a list of 10 Patch objects>)"
      ]
     },
     "execution_count": 38,
     "metadata": {},
     "output_type": "execute_result"
    },
    {
     "data": {
      "image/png": "[encoded data removed]",
      "text/plain": [
       "<Figure size 432x288 with 1 Axes>"
      ]
     },
     "metadata": {
      "needs_background": "light"
     },
     "output_type": "display_data"
    }
   ],
   "source": [
    "plt.hist(is_bad_data['revol_bal'],bins=10 ,stacked = True, rwidth = 1)"
   ]
  },
  {
   "cell_type": "code",
   "execution_count": 39,
   "metadata": {},
   "outputs": [
    {
     "data": {
      "text/plain": [
       "(array([8.648e+03, 4.500e+01, 4.000e+00, 4.000e+00, 3.000e+00, 0.000e+00,\n",
       "        0.000e+00, 0.000e+00, 0.000e+00, 1.000e+00]),\n",
       " array([      0. ,  120735.9,  241471.8,  362207.7,  482943.6,  603679.5,\n",
       "         724415.4,  845151.3,  965887.2, 1086623.1, 1207359. ]),\n",
       " <a list of 10 Patch objects>)"
      ]
     },
     "execution_count": 39,
     "metadata": {},
     "output_type": "execute_result"
    },
    {
     "data": {
      "image/png": "[encoded data removed]",
      "text/plain": [
       "<Figure size 432x288 with 1 Axes>"
      ]
     },
     "metadata": {
      "needs_background": "light"
     },
     "output_type": "display_data"
    }
   ],
   "source": [
    "plt.hist(not_bad_data['revol_bal'],bins=10, stacked = True, rwidth = 1)"
   ]
  },
  {
   "cell_type": "code",
   "execution_count": 40,
   "metadata": {},
   "outputs": [],
   "source": [
    "# def outlier_detection(data):\n",
    "#     q1, q3= np.percentile(data,[25,75])\n",
    "#     iqr = q3 - q1\n",
    "#     lower_bound = q1 -(1.5 * iqr) \n",
    "#     upper_bound = q3 +(1.5 * iqr)\n",
    "#     return lower_bound, upper_bound"
   ]
  },
  {
   "cell_type": "code",
   "execution_count": 41,
   "metadata": {},
   "outputs": [],
   "source": [
    "# revol_bal_lower,revol_bal_upper = outlier_detection(not_bad_data['revol_bal'])"
   ]
  },
  {
   "cell_type": "code",
   "execution_count": 42,
   "metadata": {},
   "outputs": [],
   "source": [
    "# revol_bal_upper"
   ]
  },
  {
   "cell_type": "code",
   "execution_count": 43,
   "metadata": {},
   "outputs": [],
   "source": [
    "# not_bad_data.shape"
   ]
  },
  {
   "cell_type": "code",
   "execution_count": 44,
   "metadata": {},
   "outputs": [],
   "source": [
    "# not_bad_data[not_bad_data['revol_bal'] <= revol_bal_upper].shape"
   ]
  },
  {
   "cell_type": "code",
   "execution_count": 45,
   "metadata": {},
   "outputs": [],
   "source": [
    "# outlier_removed_revol_bal_not_bad_data = not_bad_data[not_bad_data['revol_bal'] <= revol_bal_upper]"
   ]
  },
  {
   "cell_type": "code",
   "execution_count": 46,
   "metadata": {},
   "outputs": [],
   "source": [
    "# plt.hist(outlier_removed_revol_bal_not_bad_data['revol_bal'],bins=10, stacked = True, rwidth = 1)"
   ]
  },
  {
   "cell_type": "code",
   "execution_count": 47,
   "metadata": {},
   "outputs": [],
   "source": [
    "# revol_bal_lower,revol_bal_upper = outlier_detection(is_bad_data['revol_bal'])\n",
    "# outlier_removed_revol_bal_is_bad_data = is_bad_data[is_bad_data['revol_bal'] <= revol_bal_upper]"
   ]
  },
  {
   "cell_type": "code",
   "execution_count": 48,
   "metadata": {},
   "outputs": [],
   "source": [
    "# outlier_removed_revol_bal_is_bad_data.shape"
   ]
  },
  {
   "cell_type": "code",
   "execution_count": 49,
   "metadata": {},
   "outputs": [],
   "source": [
    "# plt.hist(outlier_removed_revol_bal_is_bad_data['revol_bal'],bins=10 ,stacked = True, rwidth = 1)"
   ]
  },
  {
   "cell_type": "code",
   "execution_count": 50,
   "metadata": {},
   "outputs": [
    {
     "data": {
      "text/html": [
       "<div>\n",
       "<style scoped>\n",
       "    .dataframe tbody tr th:only-of-type {\n",
       "        vertical-align: middle;\n",
       "    }\n",
       "\n",
       "    .dataframe tbody tr th {\n",
       "        vertical-align: top;\n",
       "    }\n",
       "\n",
       "    .dataframe thead th {\n",
       "        text-align: right;\n",
       "    }\n",
       "</style>\n",
       "<table border=\"1\" class=\"dataframe\">\n",
       "  <thead>\n",
       "    <tr style=\"text-align: right;\">\n",
       "      <th></th>\n",
       "      <th>purpose_cat</th>\n",
       "      <th>count</th>\n",
       "    </tr>\n",
       "  </thead>\n",
       "  <tbody>\n",
       "    <tr>\n",
       "      <td>0</td>\n",
       "      <td>debt consolidation</td>\n",
       "      <td>3932</td>\n",
       "    </tr>\n",
       "    <tr>\n",
       "      <td>1</td>\n",
       "      <td>credit card</td>\n",
       "      <td>1170</td>\n",
       "    </tr>\n",
       "    <tr>\n",
       "      <td>2</td>\n",
       "      <td>other</td>\n",
       "      <td>901</td>\n",
       "    </tr>\n",
       "    <tr>\n",
       "      <td>3</td>\n",
       "      <td>home improvement</td>\n",
       "      <td>714</td>\n",
       "    </tr>\n",
       "    <tr>\n",
       "      <td>4</td>\n",
       "      <td>major purchase</td>\n",
       "      <td>495</td>\n",
       "    </tr>\n",
       "    <tr>\n",
       "      <td>5</td>\n",
       "      <td>small business</td>\n",
       "      <td>345</td>\n",
       "    </tr>\n",
       "    <tr>\n",
       "      <td>6</td>\n",
       "      <td>car</td>\n",
       "      <td>320</td>\n",
       "    </tr>\n",
       "    <tr>\n",
       "      <td>7</td>\n",
       "      <td>wedding</td>\n",
       "      <td>236</td>\n",
       "    </tr>\n",
       "    <tr>\n",
       "      <td>8</td>\n",
       "      <td>medical</td>\n",
       "      <td>158</td>\n",
       "    </tr>\n",
       "    <tr>\n",
       "      <td>9</td>\n",
       "      <td>moving</td>\n",
       "      <td>144</td>\n",
       "    </tr>\n",
       "    <tr>\n",
       "      <td>10</td>\n",
       "      <td>educational</td>\n",
       "      <td>101</td>\n",
       "    </tr>\n",
       "    <tr>\n",
       "      <td>11</td>\n",
       "      <td>house</td>\n",
       "      <td>88</td>\n",
       "    </tr>\n",
       "    <tr>\n",
       "      <td>12</td>\n",
       "      <td>vacation</td>\n",
       "      <td>84</td>\n",
       "    </tr>\n",
       "    <tr>\n",
       "      <td>13</td>\n",
       "      <td>renewable energy</td>\n",
       "      <td>17</td>\n",
       "    </tr>\n",
       "  </tbody>\n",
       "</table>\n",
       "</div>"
      ],
      "text/plain": [
       "           purpose_cat  count\n",
       "0   debt consolidation   3932\n",
       "1          credit card   1170\n",
       "2                other    901\n",
       "3     home improvement    714\n",
       "4       major purchase    495\n",
       "5       small business    345\n",
       "6                  car    320\n",
       "7              wedding    236\n",
       "8              medical    158\n",
       "9               moving    144\n",
       "10         educational    101\n",
       "11               house     88\n",
       "12            vacation     84\n",
       "13    renewable energy     17"
      ]
     },
     "execution_count": 50,
     "metadata": {},
     "output_type": "execute_result"
    }
   ],
   "source": [
    "#top categories who get Loan \n",
    "pd.DataFrame(not_bad_data.groupby(by = ['purpose_cat'])['purpose_cat'].count()).rename(columns = {'purpose_cat':'count'}).reset_index().sort_values(by = 'count', ascending =  False).reset_index(drop= True)"
   ]
  },
  {
   "cell_type": "code",
   "execution_count": 51,
   "metadata": {},
   "outputs": [
    {
     "name": "stdout",
     "output_type": "stream",
     "text": [
      "(8705, 19)\n",
      "(1295, 19)\n"
     ]
    }
   ],
   "source": [
    "print(not_bad_data.shape)\n",
    "print(is_bad_data.shape)"
   ]
  },
  {
   "cell_type": "code",
   "execution_count": 52,
   "metadata": {},
   "outputs": [
    {
     "data": {
      "text/html": [
       "<div>\n",
       "<style scoped>\n",
       "    .dataframe tbody tr th:only-of-type {\n",
       "        vertical-align: middle;\n",
       "    }\n",
       "\n",
       "    .dataframe tbody tr th {\n",
       "        vertical-align: top;\n",
       "    }\n",
       "\n",
       "    .dataframe thead th {\n",
       "        text-align: right;\n",
       "    }\n",
       "</style>\n",
       "<table border=\"1\" class=\"dataframe\">\n",
       "  <thead>\n",
       "    <tr style=\"text-align: right;\">\n",
       "      <th></th>\n",
       "      <th>purpose_cat</th>\n",
       "      <th>count</th>\n",
       "    </tr>\n",
       "  </thead>\n",
       "  <tbody>\n",
       "    <tr>\n",
       "      <td>0</td>\n",
       "      <td>debt consolidation</td>\n",
       "      <td>522</td>\n",
       "    </tr>\n",
       "    <tr>\n",
       "      <td>1</td>\n",
       "      <td>other</td>\n",
       "      <td>125</td>\n",
       "    </tr>\n",
       "    <tr>\n",
       "      <td>2</td>\n",
       "      <td>small business</td>\n",
       "      <td>116</td>\n",
       "    </tr>\n",
       "    <tr>\n",
       "      <td>3</td>\n",
       "      <td>credit card</td>\n",
       "      <td>103</td>\n",
       "    </tr>\n",
       "    <tr>\n",
       "      <td>4</td>\n",
       "      <td>debt consolidation small business</td>\n",
       "      <td>102</td>\n",
       "    </tr>\n",
       "    <tr>\n",
       "      <td>5</td>\n",
       "      <td>home improvement</td>\n",
       "      <td>86</td>\n",
       "    </tr>\n",
       "    <tr>\n",
       "      <td>6</td>\n",
       "      <td>major purchase</td>\n",
       "      <td>51</td>\n",
       "    </tr>\n",
       "    <tr>\n",
       "      <td>7</td>\n",
       "      <td>car</td>\n",
       "      <td>29</td>\n",
       "    </tr>\n",
       "    <tr>\n",
       "      <td>8</td>\n",
       "      <td>medical</td>\n",
       "      <td>25</td>\n",
       "    </tr>\n",
       "    <tr>\n",
       "      <td>9</td>\n",
       "      <td>other small business</td>\n",
       "      <td>18</td>\n",
       "    </tr>\n",
       "    <tr>\n",
       "      <td>10</td>\n",
       "      <td>credit card small business</td>\n",
       "      <td>17</td>\n",
       "    </tr>\n",
       "    <tr>\n",
       "      <td>11</td>\n",
       "      <td>moving</td>\n",
       "      <td>15</td>\n",
       "    </tr>\n",
       "    <tr>\n",
       "      <td>12</td>\n",
       "      <td>wedding</td>\n",
       "      <td>14</td>\n",
       "    </tr>\n",
       "    <tr>\n",
       "      <td>13</td>\n",
       "      <td>small business small business</td>\n",
       "      <td>12</td>\n",
       "    </tr>\n",
       "    <tr>\n",
       "      <td>14</td>\n",
       "      <td>home improvement small business</td>\n",
       "      <td>11</td>\n",
       "    </tr>\n",
       "    <tr>\n",
       "      <td>15</td>\n",
       "      <td>vacation</td>\n",
       "      <td>10</td>\n",
       "    </tr>\n",
       "    <tr>\n",
       "      <td>16</td>\n",
       "      <td>house</td>\n",
       "      <td>6</td>\n",
       "    </tr>\n",
       "    <tr>\n",
       "      <td>17</td>\n",
       "      <td>educational</td>\n",
       "      <td>6</td>\n",
       "    </tr>\n",
       "    <tr>\n",
       "      <td>18</td>\n",
       "      <td>major purchase small business</td>\n",
       "      <td>5</td>\n",
       "    </tr>\n",
       "    <tr>\n",
       "      <td>19</td>\n",
       "      <td>educational small business</td>\n",
       "      <td>5</td>\n",
       "    </tr>\n",
       "    <tr>\n",
       "      <td>20</td>\n",
       "      <td>moving small business</td>\n",
       "      <td>3</td>\n",
       "    </tr>\n",
       "    <tr>\n",
       "      <td>21</td>\n",
       "      <td>car small business</td>\n",
       "      <td>3</td>\n",
       "    </tr>\n",
       "    <tr>\n",
       "      <td>22</td>\n",
       "      <td>house small business</td>\n",
       "      <td>3</td>\n",
       "    </tr>\n",
       "    <tr>\n",
       "      <td>23</td>\n",
       "      <td>renewable energy</td>\n",
       "      <td>2</td>\n",
       "    </tr>\n",
       "    <tr>\n",
       "      <td>24</td>\n",
       "      <td>medical small business</td>\n",
       "      <td>2</td>\n",
       "    </tr>\n",
       "    <tr>\n",
       "      <td>25</td>\n",
       "      <td>vacation small business</td>\n",
       "      <td>2</td>\n",
       "    </tr>\n",
       "    <tr>\n",
       "      <td>26</td>\n",
       "      <td>wedding small business</td>\n",
       "      <td>2</td>\n",
       "    </tr>\n",
       "  </tbody>\n",
       "</table>\n",
       "</div>"
      ],
      "text/plain": [
       "                          purpose_cat  count\n",
       "0                  debt consolidation    522\n",
       "1                               other    125\n",
       "2                      small business    116\n",
       "3                         credit card    103\n",
       "4   debt consolidation small business    102\n",
       "5                    home improvement     86\n",
       "6                      major purchase     51\n",
       "7                                 car     29\n",
       "8                             medical     25\n",
       "9                other small business     18\n",
       "10         credit card small business     17\n",
       "11                             moving     15\n",
       "12                            wedding     14\n",
       "13      small business small business     12\n",
       "14    home improvement small business     11\n",
       "15                           vacation     10\n",
       "16                              house      6\n",
       "17                        educational      6\n",
       "18      major purchase small business      5\n",
       "19         educational small business      5\n",
       "20              moving small business      3\n",
       "21                 car small business      3\n",
       "22               house small business      3\n",
       "23                   renewable energy      2\n",
       "24             medical small business      2\n",
       "25            vacation small business      2\n",
       "26             wedding small business      2"
      ]
     },
     "execution_count": 52,
     "metadata": {},
     "output_type": "execute_result"
    }
   ],
   "source": [
    "#top categories who get rejected \n",
    "pd.DataFrame(is_bad_data.groupby(by = ['purpose_cat'])['purpose_cat'].count()).rename(columns = {'purpose_cat':'count'}).reset_index().sort_values(by = 'count', ascending =  False).reset_index(drop= True)"
   ]
  },
  {
   "cell_type": "code",
   "execution_count": 53,
   "metadata": {},
   "outputs": [],
   "source": [
    "debt_consol_Accepted = not_bad_data[not_bad_data.purpose_cat == 'debt consolidation']"
   ]
  },
  {
   "cell_type": "code",
   "execution_count": 54,
   "metadata": {},
   "outputs": [],
   "source": [
    "debt_consol_Rejected = is_bad_data[is_bad_data.purpose_cat == 'debt consolidation']"
   ]
  },
  {
   "cell_type": "code",
   "execution_count": 55,
   "metadata": {},
   "outputs": [
    {
     "data": {
      "text/plain": [
       "(array([2.971e+03, 8.390e+02, 7.900e+01, 2.900e+01, 8.000e+00, 3.000e+00,\n",
       "        1.000e+00, 0.000e+00, 0.000e+00, 2.000e+00]),\n",
       " array([  9000.,  82500., 156000., 229500., 303000., 376500., 450000.,\n",
       "        523500., 597000., 670500., 744000.]),\n",
       " <a list of 10 Patch objects>)"
      ]
     },
     "execution_count": 55,
     "metadata": {},
     "output_type": "execute_result"
    },
    {
     "data": {
      "image/png": "[encoded data removed]",
      "text/plain": [
       "<Figure size 432x288 with 1 Axes>"
      ]
     },
     "metadata": {
      "needs_background": "light"
     },
     "output_type": "display_data"
    }
   ],
   "source": [
    "plt.hist(debt_consol_Accepted['annual_inc'],bins=10 ,stacked = True, rwidth = 1)"
   ]
  },
  {
   "cell_type": "code",
   "execution_count": 56,
   "metadata": {},
   "outputs": [
    {
     "data": {
      "text/plain": [
       "count      3932.000000\n",
       "mean      67670.875028\n",
       "std       43652.565482\n",
       "min        9000.000000\n",
       "25%       41475.000000\n",
       "50%       59000.000000\n",
       "75%       81000.000000\n",
       "max      744000.000000\n",
       "Name: annual_inc, dtype: float64"
      ]
     },
     "execution_count": 56,
     "metadata": {},
     "output_type": "execute_result"
    }
   ],
   "source": [
    "debt_consol_Accepted['annual_inc'].describe()"
   ]
  },
  {
   "cell_type": "code",
   "execution_count": 57,
   "metadata": {},
   "outputs": [
    {
     "data": {
      "text/plain": [
       "count       522.000000\n",
       "mean      60403.314157\n",
       "std       35549.580922\n",
       "min        8000.000000\n",
       "25%       36000.000000\n",
       "50%       52200.000000\n",
       "75%       75000.000000\n",
       "max      300000.000000\n",
       "Name: annual_inc, dtype: float64"
      ]
     },
     "execution_count": 57,
     "metadata": {},
     "output_type": "execute_result"
    }
   ],
   "source": [
    "debt_consol_Rejected['annual_inc'].describe()"
   ]
  },
  {
   "cell_type": "code",
   "execution_count": 58,
   "metadata": {},
   "outputs": [
    {
     "data": {
      "text/plain": [
       "(array([139., 222.,  98.,  33.,  16.,   9.,   3.,   0.,   1.,   1.]),\n",
       " array([  8000.,  37200.,  66400.,  95600., 124800., 154000., 183200.,\n",
       "        212400., 241600., 270800., 300000.]),\n",
       " <a list of 10 Patch objects>)"
      ]
     },
     "execution_count": 58,
     "metadata": {},
     "output_type": "execute_result"
    },
    {
     "data": {
      "image/png": "[encoded data removed]",
      "text/plain": [
       "<Figure size 432x288 with 1 Axes>"
      ]
     },
     "metadata": {
      "needs_background": "light"
     },
     "output_type": "display_data"
    }
   ],
   "source": [
    "plt.hist(debt_consol_Rejected['annual_inc'],bins=10 ,stacked = True, rwidth = 1)"
   ]
  },
  {
   "cell_type": "code",
   "execution_count": 59,
   "metadata": {},
   "outputs": [
    {
     "data": {
      "text/plain": [
       "['policy_code',\n",
       " 'zip_code',\n",
       " 'verification_status',\n",
       " 'initial_list_status',\n",
       " 'pymnt_plan',\n",
       " 'purpose_cat',\n",
       " 'home_ownership',\n",
       " 'addr_state']"
      ]
     },
     "execution_count": 59,
     "metadata": {},
     "output_type": "execute_result"
    }
   ],
   "source": [
    "cat_cols"
   ]
  },
  {
   "cell_type": "code",
   "execution_count": 60,
   "metadata": {},
   "outputs": [
    {
     "data": {
      "text/plain": [
       "['is_bad',\n",
       " 'annual_inc',\n",
       " 'debt_to_income',\n",
       " 'delinq_2yrs',\n",
       " 'inq_last_6mths',\n",
       " 'open_acc',\n",
       " 'pub_rec',\n",
       " 'revol_bal',\n",
       " 'revol_util',\n",
       " 'total_acc',\n",
       " 'mths_since_last_major_derog']"
      ]
     },
     "execution_count": 60,
     "metadata": {},
     "output_type": "execute_result"
    }
   ],
   "source": [
    "num_cols"
   ]
  },
  {
   "cell_type": "code",
   "execution_count": null,
   "metadata": {},
   "outputs": [],
   "source": []
  }
 ],
 "metadata": {
  "kernelspec": {
   "display_name": "Python 3 (ipykernel)",
   "language": "python",
   "name": "python3"
  },
  "language_info": {
   "codemirror_mode": {
    "name": "ipython",
    "version": 3
   },
   "file_extension": ".py",
   "mimetype": "text/x-python",
   "name": "python",
   "nbconvert_exporter": "python",
   "pygments_lexer": "ipython3",
   "version": "3.9.13"
  }
 },
 "nbformat": 4,
 "nbformat_minor": 2
}
