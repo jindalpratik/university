{
 "cells": [
  {
   "cell_type": "code",
   "execution_count": 5,
   "metadata": {},
   "outputs": [],
   "source": [
    "import pandas as pd\n",
    "Data = {\n",
    "    \"Colories\" : [300,200,100],\n",
    "    \"Duration\" : [30,20,10]\n",
    "}\n"
   ]
  },
  {
   "cell_type": "code",
   "execution_count": 7,
   "metadata": {},
   "outputs": [
    {
     "name": "stdout",
     "output_type": "stream",
     "text": [
      "   Colories  Duration\n",
      "0       300        30\n",
      "1       200        20\n",
      "2       100        10\n"
     ]
    }
   ],
   "source": [
    "dataframe = pd.DataFrame(Data)\n",
    "print(dataframe)"
   ]
  },
  {
   "cell_type": "code",
   "execution_count": 11,
   "metadata": {},
   "outputs": [],
   "source": [
    "listA = ['Red', 'Blue', 'Yellow', 'Pink', 'Orange']\n",
    "ab = pd.Series(listA)"
   ]
  },
  {
   "cell_type": "code",
   "execution_count": 13,
   "metadata": {},
   "outputs": [
    {
     "name": "stdout",
     "output_type": "stream",
     "text": [
      "0       Red\n",
      "1      Blue\n",
      "2    Yellow\n",
      "3      Pink\n",
      "4    Orange\n",
      "dtype: object\n",
      "Red\n"
     ]
    }
   ],
   "source": [
    "print(ab)\n",
    "print(ab[0])"
   ]
  },
  {
   "cell_type": "code",
   "execution_count": 16,
   "metadata": {},
   "outputs": [
    {
     "data": {
      "text/plain": [
       "Colories    300\n",
       "Duration     30\n",
       "Name: 0, dtype: int64"
      ]
     },
     "execution_count": 16,
     "metadata": {},
     "output_type": "execute_result"
    }
   ],
   "source": [
    "dataframe.loc[0]"
   ]
  },
  {
   "cell_type": "code",
   "execution_count": 20,
   "metadata": {},
   "outputs": [
    {
     "name": "stdout",
     "output_type": "stream",
     "text": [
      "3     kavi\n",
      "5    shyam\n",
      "1     ravi\n",
      "dtype: object\n"
     ]
    }
   ],
   "source": [
    "series2=pd.Series(['kavi','shyam','ravi'],index=[3,5,1])\n",
    "print(series2)"
   ]
  },
  {
   "cell_type": "code",
   "execution_count": 30,
   "metadata": {},
   "outputs": [
    {
     "name": "stdout",
     "output_type": "stream",
     "text": [
      "0    1\n",
      "1    2\n",
      "2    3\n",
      "3    4\n",
      "dtype: int32\n"
     ]
    }
   ],
   "source": [
    "import numpy as np\n",
    "array1 = np.array([1,2,3,4])\n",
    "series3 = pd.Series(array1)\n",
    "print(series3)"
   ]
  },
  {
   "cell_type": "code",
   "execution_count": 32,
   "metadata": {},
   "outputs": [
    {
     "name": "stdout",
     "output_type": "stream",
     "text": [
      "Jan    1\n",
      "Feb    2\n",
      "Mar    3\n",
      "Apr    4\n",
      "dtype: int32\n"
     ]
    }
   ],
   "source": [
    "series3 = pd.Series(array1, index = [\"Jan\",\"Feb\", \"Mar\", \"Apr\"])\n",
    "print(series3)"
   ]
  },
  {
   "cell_type": "code",
   "execution_count": 28,
   "metadata": {},
   "outputs": [
    {
     "name": "stdout",
     "output_type": "stream",
     "text": [
      "{'India': 'NewDelhi', 'UK': 'London', 'Japan': 'Tokyo'}\n"
     ]
    }
   ],
   "source": [
    "dict1 = {'India': 'NewDelhi', 'UK':\n",
    "'London', 'Japan': 'Tokyo'}\n",
    "print(dict1) #Display the dictionary"
   ]
  },
  {
   "cell_type": "code",
   "execution_count": 29,
   "metadata": {},
   "outputs": [
    {
     "name": "stdout",
     "output_type": "stream",
     "text": [
      "India    NewDelhi\n",
      "UK         London\n",
      "Japan       Tokyo\n",
      "dtype: object\n"
     ]
    }
   ],
   "source": [
    "series8 = pd.Series(dict1)\n",
    "print(series8)"
   ]
  },
  {
   "cell_type": "code",
   "execution_count": null,
   "metadata": {},
   "outputs": [],
   "source": []
  }
 ],
 "metadata": {
  "kernelspec": {
   "display_name": "Python 3",
   "language": "python",
   "name": "python3"
  },
  "language_info": {
   "codemirror_mode": {
    "name": "ipython",
    "version": 3
   },
   "file_extension": ".py",
   "mimetype": "text/x-python",
   "name": "python",
   "nbconvert_exporter": "python",
   "pygments_lexer": "ipython3",
   "version": "3.12.1"
  }
 },
 "nbformat": 4,
 "nbformat_minor": 2
}
