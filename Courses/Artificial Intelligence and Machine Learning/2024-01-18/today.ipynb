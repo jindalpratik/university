{
 "cells": [
  {
   "cell_type": "markdown",
   "metadata": {},
   "source": [
    "# Exam"
   ]
  },
  {
   "cell_type": "code",
   "execution_count": 3,
   "metadata": {},
   "outputs": [
    {
     "name": "stdout",
     "output_type": "stream",
     "text": [
      "5\n",
      "4\n",
      "3\n"
     ]
    }
   ],
   "source": [
    "def countdown(n):\n",
    "    while n > 0:\n",
    "        yield n\n",
    "        n -= 1\n",
    "numbers = countdown(5)\n",
    "print(next(numbers))\n",
    "print(next(numbers))\n",
    "print(next(numbers))"
   ]
  },
  {
   "cell_type": "code",
   "execution_count": 6,
   "metadata": {},
   "outputs": [
    {
     "name": "stdout",
     "output_type": "stream",
     "text": [
      "[1 2 3 4 5 6]\n"
     ]
    }
   ],
   "source": [
    "import numpy as np\n",
    " \n",
    "arr = np.array([[1, 2, 3], [4, 5, 6]])\n",
    "result = arr.ravel()\n",
    "\n",
    "print(result)"
   ]
  },
  {
   "cell_type": "code",
   "execution_count": 8,
   "metadata": {},
   "outputs": [
    {
     "name": "stdout",
     "output_type": "stream",
     "text": [
      "[2, 4, 6, 8, 10]\n"
     ]
    }
   ],
   "source": [
    "\n",
    "nums = [1, 2, 3, 4, 5]\n",
    "for i, num in enumerate(nums):\n",
    "     nums[i] = num * 2\n",
    "print(nums)"
   ]
  },
  {
   "cell_type": "code",
   "execution_count": 10,
   "metadata": {},
   "outputs": [
    {
     "name": "stdout",
     "output_type": "stream",
     "text": [
      "10\n"
     ]
    }
   ],
   "source": [
    "x = 10\n",
    "y = 20\n",
    "z = x if x < y else y\n",
    "print(z)"
   ]
  },
  {
   "cell_type": "code",
   "execution_count": 12,
   "metadata": {},
   "outputs": [
    {
     "name": "stdout",
     "output_type": "stream",
     "text": [
      "[0, 1, 4, 9, 16]\n"
     ]
    }
   ],
   "source": [
    "def squares():\n",
    "    for num in range(5):\n",
    "        yield num * num\n",
    "numbers = squares()\n",
    "print(list(numbers))"
   ]
  },
  {
   "cell_type": "code",
   "execution_count": 15,
   "metadata": {},
   "outputs": [
    {
     "name": "stdout",
     "output_type": "stream",
     "text": [
      "6 89\n"
     ]
    }
   ],
   "source": [
    "def func(n):\n",
    "        dsum = 0\n",
    "        for ele in str(n):\n",
    "                    dsum += int(ele)\n",
    "        return dsum\n",
    "\n",
    "List = [367, 111, 562, 945, 6726, 873]\n",
    "\n",
    "output = [func(i) for i in List if i & i]\n",
    "ans_1 = len(output)\n",
    "ans_2 = sum(output)\n",
    "print(ans_1, ans_2)"
   ]
  },
  {
   "cell_type": "code",
   "execution_count": 18,
   "metadata": {},
   "outputs": [
    {
     "name": "stdout",
     "output_type": "stream",
     "text": [
      "1\n",
      "2\n",
      "3\n"
     ]
    }
   ],
   "source": [
    "def my_generator():\n",
    "    yield 1\n",
    "    yield 2\n",
    "    yield 3\n",
    "for num in my_generator():\n",
    "    print(num)"
   ]
  },
  {
   "cell_type": "code",
   "execution_count": 21,
   "metadata": {},
   "outputs": [
    {
     "name": "stdout",
     "output_type": "stream",
     "text": [
      "e\n",
      "a\n",
      "e\n",
      "i\n"
     ]
    }
   ],
   "source": [
    "output = [print(char) for char in \"example_string\" if char in \"aeiou\"]"
   ]
  },
  {
   "cell_type": "code",
   "execution_count": 23,
   "metadata": {},
   "outputs": [
    {
     "name": "stdout",
     "output_type": "stream",
     "text": [
      "a\n"
     ]
    }
   ],
   "source": [
    "names_list = ['Chirag', 'Goyal', 'Anoop']\n",
    "names_list_extended = [name.lower() for name in names_list]\n",
    "print(names_list_extended[2][0])"
   ]
  },
  {
   "cell_type": "code",
   "execution_count": 25,
   "metadata": {},
   "outputs": [
    {
     "name": "stdout",
     "output_type": "stream",
     "text": [
      "20\n"
     ]
    }
   ],
   "source": [
    "even_numbers = (num for num in range(10) if num % 2 == 0)\n",
    "print(sum(even_numbers))"
   ]
  },
  {
   "cell_type": "code",
   "execution_count": 28,
   "metadata": {},
   "outputs": [
    {
     "name": "stdout",
     "output_type": "stream",
     "text": [
      "0\n",
      "1\n",
      "2\n",
      "4\n"
     ]
    }
   ],
   "source": [
    "for i in range(5):\n",
    "     if i == 3:\n",
    "        continue\n",
    "     print(i)"
   ]
  },
  {
   "cell_type": "code",
   "execution_count": 31,
   "metadata": {},
   "outputs": [
    {
     "name": "stdout",
     "output_type": "stream",
     "text": [
      "[2, 4]\n"
     ]
    }
   ],
   "source": [
    "\n",
    "numbers = [1, 2, 3, 4, 5]\n",
    "output = [x for x in numbers if x % 2 == 0]\n",
    "print(output)"
   ]
  },
  {
   "cell_type": "code",
   "execution_count": 34,
   "metadata": {},
   "outputs": [
    {
     "name": "stdout",
     "output_type": "stream",
     "text": [
      "[3, 5]\n"
     ]
    }
   ],
   "source": [
    "output = [x + 1 for x in numbers if x % 2 == 0]\n",
    "print(output)"
   ]
  },
  {
   "cell_type": "code",
   "execution_count": 35,
   "metadata": {},
   "outputs": [
    {
     "name": "stdout",
     "output_type": "stream",
     "text": [
      "[4, 16]\n"
     ]
    }
   ],
   "source": [
    "nums = [1, 2, 3, 4, 5]\n",
    "squared = [num**2 for num in nums if num % 2 == 0]\n",
    "print(squared)"
   ]
  },
  {
   "cell_type": "markdown",
   "metadata": {},
   "source": [
    "# Class"
   ]
  },
  {
   "cell_type": "code",
   "execution_count": 1,
   "metadata": {},
   "outputs": [
    {
     "data": {
      "text/plain": [
       "('The matrix is singular and cannot be inverted.',\n",
       " array([[ 0.65714286, -0.4       ,  0.02857143],\n",
       "        [ 0.42857143,  0.        , -0.28571429],\n",
       "        [-0.4       ,  0.2       ,  0.2       ]]))"
      ]
     },
     "execution_count": 1,
     "metadata": {},
     "output_type": "execute_result"
    }
   ],
   "source": [
    "import numpy as np\n",
    "\n",
    "# Define two matrices: one with determinant zero and one with a non-zero determinant\n",
    "matrix_singular = np.array([[1, 2, 3],\n",
    "                            [4, 5, 6],\n",
    "                            [7, 8, 9]])  # This matrix is singular (determinant zero)\n",
    "\n",
    "matrix_non_singular = np.array([[2, 3, 4],\n",
    "                                [1, 5, 7],\n",
    "                                [3, 1, 6]])  # This matrix is non-singular (determinant non-zero)\n",
    "\n",
    "# Function to compute and return the inverse of a matrix or a message if it's singular\n",
    "def compute_inverse(matrix):\n",
    "    try:\n",
    "        inv_matrix = np.linalg.inv(matrix)\n",
    "        return inv_matrix\n",
    "    except np.linalg.LinAlgError:\n",
    "        return \"The matrix is singular and cannot be inverted.\"\n",
    "\n",
    "# Compute inverses for both matrices\n",
    "inverse_singular = compute_inverse(matrix_singular)\n",
    "inverse_non_singular = compute_inverse(matrix_non_singular)\n",
    "\n",
    "inverse_singular, inverse_non_singular"
   ]
  },
  {
   "cell_type": "code",
   "execution_count": null,
   "metadata": {},
   "outputs": [],
   "source": [
    "A = [[1,2],[3,4]]\n",
    "# To find inverse of the above matrix wihtout using pytjhon libraries\n",
    "def inverse(A):\n",
    "    determinant = A[0][0]*A[1][1] - A[0][1]*A[1][0]\n",
    "    return [[A[1][1]/determinant, -1*A[0][1]/determinant], [-1*A[1][0]/determinant, A[0][0]/determinant]]\n"
   ]
  }
 ],
 "metadata": {
  "kernelspec": {
   "display_name": "Python 3",
   "language": "python",
   "name": "python3"
  },
  "language_info": {
   "codemirror_mode": {
    "name": "ipython",
    "version": 3
   },
   "file_extension": ".py",
   "mimetype": "text/x-python",
   "name": "python",
   "nbconvert_exporter": "python",
   "pygments_lexer": "ipython3",
   "version": "3.12.1"
  }
 },
 "nbformat": 4,
 "nbformat_minor": 2
}
