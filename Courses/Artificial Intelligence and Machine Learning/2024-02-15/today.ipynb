{
 "cells": [
  {
   "cell_type": "code",
   "execution_count": 4,
   "metadata": {},
   "outputs": [
    {
     "name": "stdout",
     "output_type": "stream",
     "text": [
      "Code would be here, before executing the func\n",
      "This function is in need of a decorator\n",
      "Code here will execute after the func\n"
     ]
    }
   ],
   "source": [
    "def new_decorators(func):\n",
    "    def wrap_func():\n",
    "        print(\"Code would be here, before executing the func\")\n",
    "    \n",
    "        func()\n",
    "        \n",
    "        print(\"Code here will execute after the func\")\n",
    "        \n",
    "    return wrap_func\n",
    "\n",
    "def func_needs_decorator():\n",
    "    print(\"This function is in need of a decorator\")\n",
    "    \n",
    "func_needs_decorator =  new_decorators(func_needs_decorator)\n",
    "func_needs_decorator()"
   ]
  },
  {
   "cell_type": "code",
   "execution_count": 21,
   "metadata": {},
   "outputs": [
    {
     "name": "stdout",
     "output_type": "stream",
     "text": [
      "Code would be here, before executing the func()\n",
      "73\n",
      "code  would be here, after executing the func()\n",
      "Code would be here, before executing the func()\n",
      "64\n",
      "code  would be here, after executing the func()\n",
      "Code would be here, before executing the func()\n",
      "22\n",
      "code  would be here, after executing the func()\n"
     ]
    }
   ],
   "source": [
    "import random\n",
    "def new_decorator(func):\n",
    "    def warp_func():\n",
    "        print(\"Code would be here, before executing the func()\")\n",
    "        generator = func()\n",
    "        value = next(generator)\n",
    "        print(value)\n",
    "        print (\"code  would be here, after executing the func()\")\n",
    "    return warp_func\n",
    "\n",
    "\n",
    "def func():\n",
    "    k = yield random.randint(1,100)\n",
    "    print(k)\n",
    "func = new_decorator(func)\n",
    "func()\n",
    "func()\n",
    "func()"
   ]
  }
 ],
 "metadata": {
  "kernelspec": {
   "display_name": "Python 3",
   "language": "python",
   "name": "python3"
  },
  "language_info": {
   "codemirror_mode": {
    "name": "ipython",
    "version": 3
   },
   "file_extension": ".py",
   "mimetype": "text/x-python",
   "name": "python",
   "nbconvert_exporter": "python",
   "pygments_lexer": "ipython3",
   "version": "3.12.2"
  }
 },
 "nbformat": 4,
 "nbformat_minor": 2
}
