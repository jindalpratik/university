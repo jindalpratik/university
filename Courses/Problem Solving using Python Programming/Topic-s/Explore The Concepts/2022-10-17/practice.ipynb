{
 "cells": [
  {
   "cell_type": "markdown",
   "metadata": {},
   "source": [
    "# Is it a prime number."
   ]
  },
  {
   "cell_type": "code",
   "execution_count": null,
   "metadata": {},
   "outputs": [],
   "source": [
    "N = int(input())\n",
    "if N != 2 and N%2 == 0:\n",
    "    print(N,\"is not a prime number.\")\n",
    "elif N == 2 :\n",
    "    print(N,\"is a prime number.\")\n",
    "else:\n",
    "    i = 3\n",
    "    flag = 0\n",
    "    while i != N:\n",
    "        if N%i == 0:\n",
    "            flag = 1\n",
    "            break\n",
    "        else:\n",
    "            i = i + 2\n",
    "    if flag == 1:\n",
    "        print(N,\"is not a prime number.\")\n",
    "    else:\n",
    "        print(N,\"is a prime number.\")"
   ]
  },
  {
   "cell_type": "markdown",
   "metadata": {},
   "source": [
    "# Prime number until."
   ]
  },
  {
   "cell_type": "code",
   "execution_count": null,
   "metadata": {},
   "outputs": [],
   "source": [
    "the_end = int(input())\n",
    "N = 2\n",
    "# print(1,the_end)\n",
    "while N <= the_end:\n",
    "    # print(\"entered while\")\n",
    "    if N != 2 and N%2 == 0:\n",
    "        flag = 1  \n",
    "    elif N > 3:\n",
    "        i = 3\n",
    "        flag = 0\n",
    "        while i != N:\n",
    "            if N%i == 0:\n",
    "                flag = 1\n",
    "                break\n",
    "            else:\n",
    "                i = i + 2\n",
    "    if flag != 1:\n",
    "        print(N)       \n",
    "    # print(2,\"reached 2\")\n",
    "    N = N + 1\n",
    "    # print(N, 2)"
   ]
  }
 ],
 "metadata": {
  "kernelspec": {
   "display_name": "Python 3.10.5 64-bit",
   "language": "python",
   "name": "python3"
  },
  "language_info": {
   "name": "python",
   "version": "3.10.6"
  },
  "orig_nbformat": 4,
  "vscode": {
   "interpreter": {
    "hash": "94b96a4f433cc0a752f751a165c8d55c3f142df5d068c08c27aade57f7b092a0"
   }
  }
 },
 "nbformat": 4,
 "nbformat_minor": 2
}
