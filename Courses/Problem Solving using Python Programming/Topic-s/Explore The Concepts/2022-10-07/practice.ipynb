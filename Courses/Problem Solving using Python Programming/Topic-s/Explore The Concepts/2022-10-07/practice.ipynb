{
 "cells": [
  {
   "cell_type": "code",
   "execution_count": 47,
   "id": "d887dea7",
   "metadata": {},
   "outputs": [
    {
     "name": "stdout",
     "output_type": "stream",
     "text": [
      "10\t20\n"
     ]
    }
   ],
   "source": [
    "a=10\n",
    "b=20\n",
    "print(a,end=\"\\t\")\n",
    "print(b)"
   ]
  },
  {
   "cell_type": "code",
   "execution_count": 6,
   "id": "a1ce97fa",
   "metadata": {},
   "outputs": [
    {
     "name": "stdout",
     "output_type": "stream",
     "text": [
      "How r u doing vinay kukreja and today is 7.9 october\n"
     ]
    }
   ],
   "source": [
    "a=\"vinay\"\n",
    "b=7.9\n",
    "print(f\"How r u doing {a} kukreja and today is {b} october\")"
   ]
  },
  {
   "cell_type": "code",
   "execution_count": 9,
   "id": "68cd91c4",
   "metadata": {},
   "outputs": [
    {
     "name": "stdout",
     "output_type": "stream",
     "text": [
      "how r u doing 7 kukreja and today is vinay October\n"
     ]
    }
   ],
   "source": [
    "a=\"vinay\"\n",
    "b=7\n",
    "print(\"how r u doing {} kukreja and today is {} October\".format(a,b))"
   ]
  },
  {
   "cell_type": "code",
   "execution_count": 45,
   "id": "02ad71dc",
   "metadata": {},
   "outputs": [
    {
     "name": "stdout",
     "output_type": "stream",
     "text": [
      "a value is 10 \tb value is 12\n"
     ]
    }
   ],
   "source": [
    "a=10\n",
    "b=12\n",
    "print(f\"a value is {a} \\tb value is {b}\")"
   ]
  },
  {
   "cell_type": "code",
   "execution_count": 5,
   "id": "3813f73b",
   "metadata": {},
   "outputs": [
    {
     "name": "stdout",
     "output_type": "stream",
     "text": [
      "a value is = 10 \n",
      "b value is =20\n"
     ]
    }
   ],
   "source": [
    "a=10\n",
    "b=20\n",
    "print(\"a value is = {} b value is ={}\".format(a,b))"
   ]
  },
  {
   "cell_type": "code",
   "execution_count": 10,
   "id": "d7b3f4bc",
   "metadata": {},
   "outputs": [
    {
     "name": "stdout",
     "output_type": "stream",
     "text": [
      "a value is = 10 \n",
      "b value is =20\n"
     ]
    }
   ],
   "source": [
    "a=10\n",
    "b=20\n",
    "print(\"a value is = {} \\nb value is ={}\".format(a,b))"
   ]
  },
  {
   "cell_type": "code",
   "execution_count": 56,
   "id": "3f8dbe21",
   "metadata": {},
   "outputs": [
    {
     "name": "stdout",
     "output_type": "stream",
     "text": [
      "12.67\n",
      "24\n",
      "vinay\n"
     ]
    }
   ],
   "source": [
    "a=12.67\n",
    "b=24\n",
    "c=\"vinay\"\n",
    "print('%0.2f\\n%d\\n%s' %(a,b,c))"
   ]
  },
  {
   "cell_type": "code",
   "execution_count": 66,
   "id": "591fd641",
   "metadata": {},
   "outputs": [
    {
     "name": "stdout",
     "output_type": "stream",
     "text": [
      "12 != 24.2\n"
     ]
    }
   ],
   "source": [
    "#Integer = %d\n",
    "#Float = %f\n",
    "#string = %s\n",
    "\n",
    "\n",
    "a=12\n",
    "b=24.23\n",
    "print(\"%d != %0.1f\" %(a, b))"
   ]
  },
  {
   "cell_type": "code",
   "execution_count": 29,
   "id": "7ee0fd58",
   "metadata": {},
   "outputs": [
    {
     "name": "stdout",
     "output_type": "stream",
     "text": [
      "12 != 24.23\n"
     ]
    }
   ],
   "source": [
    "a=12\n",
    "b=24.23\n",
    "print('%d != %0.2f' %(a, b))"
   ]
  },
  {
   "cell_type": "code",
   "execution_count": 28,
   "id": "253e1223",
   "metadata": {},
   "outputs": [
    {
     "name": "stdout",
     "output_type": "stream",
     "text": [
      "12 != vinay\n"
     ]
    }
   ],
   "source": [
    "a=12\n",
    "b=\"vinay\"\n",
    "print('%d != %s' %(a, b))"
   ]
  },
  {
   "cell_type": "markdown",
   "id": "fe6acaf6",
   "metadata": {},
   "source": [
    "# Three methods are there\n",
    "1. f\n",
    "2. format\n",
    "3. %d %f %s"
   ]
  },
  {
   "cell_type": "code",
   "execution_count": 34,
   "id": "10dfb7d3",
   "metadata": {},
   "outputs": [
    {
     "name": "stdout",
     "output_type": "stream",
     "text": [
      "12\n",
      "12\n",
      "<class 'str'>\n"
     ]
    }
   ],
   "source": [
    "a=input()\n",
    "print(a)\n",
    "print(type(a))"
   ]
  },
  {
   "cell_type": "code",
   "execution_count": 38,
   "id": "bd5883c0",
   "metadata": {},
   "outputs": [
    {
     "name": "stdout",
     "output_type": "stream",
     "text": [
      "enter the number12\n",
      "12\n",
      "<class 'str'>\n",
      "20\n",
      "<class 'int'>\n"
     ]
    },
    {
     "ename": "TypeError",
     "evalue": "can only concatenate str (not \"int\") to str",
     "output_type": "error",
     "traceback": [
      "\u001b[1;31m---------------------------------------------------------------------------\u001b[0m",
      "\u001b[1;31mTypeError\u001b[0m                                 Traceback (most recent call last)",
      "Input \u001b[1;32mIn [38]\u001b[0m, in \u001b[0;36m<cell line: 7>\u001b[1;34m()\u001b[0m\n\u001b[0;32m      5\u001b[0m \u001b[38;5;28mprint\u001b[39m(b)\n\u001b[0;32m      6\u001b[0m \u001b[38;5;28mprint\u001b[39m(\u001b[38;5;28mtype\u001b[39m(b))\n\u001b[1;32m----> 7\u001b[0m \u001b[38;5;28mprint\u001b[39m(\u001b[43ma\u001b[49m\u001b[38;5;241;43m+\u001b[39;49m\u001b[43mb\u001b[49m)\n",
      "\u001b[1;31mTypeError\u001b[0m: can only concatenate str (not \"int\") to str"
     ]
    }
   ],
   "source": [
    "a=input(\"enter the number\")\n",
    "print(a)\n",
    "print(type(a))\n",
    "b=20\n",
    "print(b)\n",
    "print(type(b))\n",
    "print(a+b)"
   ]
  },
  {
   "cell_type": "code",
   "execution_count": 40,
   "id": "4a953523",
   "metadata": {},
   "outputs": [
    {
     "name": "stdout",
     "output_type": "stream",
     "text": [
      "enter the number12\n",
      "12\n",
      "<class 'int'>\n",
      "20\n",
      "<class 'int'>\n",
      "32\n"
     ]
    }
   ],
   "source": [
    "a=int(input(\"enter the number\"))\n",
    "print(a)\n",
    "print(type(a))\n",
    "b=20\n",
    "print(b)\n",
    "print(type(b))\n",
    "\n",
    "print(a+b)"
   ]
  },
  {
   "cell_type": "code",
   "execution_count": 41,
   "id": "6a3fee38",
   "metadata": {},
   "outputs": [
    {
     "name": "stdout",
     "output_type": "stream",
     "text": [
      "enter the first number34\n",
      "enter the second number78\n",
      "112\n"
     ]
    }
   ],
   "source": [
    "a=int(input(\"enter the first number\"))\n",
    "b=int(input(\"enter the second number\"))\n",
    "\n",
    "print(a+b)"
   ]
  },
  {
   "cell_type": "code",
   "execution_count": 70,
   "id": "f0c86932",
   "metadata": {},
   "outputs": [
    {
     "name": "stdout",
     "output_type": "stream",
     "text": [
      "enter the first number12\n",
      "enter the second number23\n",
      "B is greater\n",
      "You are right\n"
     ]
    }
   ],
   "source": [
    "a=int(input(\"enter the first number\"))\n",
    "b=int(input(\"enter the second number\"))\n",
    "if a>b:\n",
    "    print(\"A is greater\")\n",
    "else:\n",
    "    print(\"B is greater\")\n",
    "\n",
    "print(\"You are right\")\n",
    "\n",
    "\n",
    "\n"
   ]
  },
  {
   "cell_type": "markdown",
   "id": "20158813",
   "metadata": {},
   "source": [
    "23## "
   ]
  },
  {
   "cell_type": "code",
   "execution_count": null,
   "id": "48904dea",
   "metadata": {},
   "outputs": [],
   "source": []
  }
 ],
 "metadata": {
  "kernelspec": {
   "display_name": "Python 3.10.5 64-bit",
   "language": "python",
   "name": "python3"
  },
  "language_info": {
   "codemirror_mode": {
    "name": "ipython",
    "version": 3
   },
   "file_extension": ".py",
   "mimetype": "text/x-python",
   "name": "python",
   "nbconvert_exporter": "python",
   "pygments_lexer": "ipython3",
   "version": "3.10.5"
  },
  "vscode": {
   "interpreter": {
    "hash": "94b96a4f433cc0a752f751a165c8d55c3f142df5d068c08c27aade57f7b092a0"
   }
  }
 },
 "nbformat": 4,
 "nbformat_minor": 5
}
