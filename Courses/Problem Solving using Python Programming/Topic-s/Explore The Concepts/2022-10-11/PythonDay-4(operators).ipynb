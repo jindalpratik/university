{
 "cells": [
  {
   "cell_type": "markdown",
   "id": "3e0b8c8a",
   "metadata": {},
   "source": [
    "# Operators in Python"
   ]
  },
  {
   "cell_type": "markdown",
   "id": "3a91f3a3",
   "metadata": {},
   "source": [
    "Arithmetic Operators : +, -, , /, //, *, %\n",
    "Relational Operators : >, <, ==, !=, >=, <=\n",
    "Logical Operators : and, or, not\n",
    "Bitwise Operators : &, |, ^, ~, >>, <<\n",
    "Assignment Operators: =, +=, -=, =, /=, //=, %=, *=, &=, |=, ^=, >>=, <<=\n",
    "Identity Operators: is, is not (Difference between Equal & Identical)\n",
    "Membership Operators: in, not in"
   ]
  },
  {
   "cell_type": "markdown",
   "id": "ddfac540",
   "metadata": {},
   "source": [
    "    ** Arithmetic operators follow the PEMDAS rule **"
   ]
  },
  {
   "cell_type": "markdown",
   "id": "92a90fa4",
   "metadata": {},
   "source": [
    "    Relational Operators : >, <, ==, !=, >=, <=    RETURN BOOL"
   ]
  },
  {
   "cell_type": "code",
   "execution_count": 2,
   "id": "da4fb533",
   "metadata": {},
   "outputs": [],
   "source": [
    "a=12\n",
    "b=14"
   ]
  },
  {
   "cell_type": "code",
   "execution_count": 5,
   "id": "19c9dab7",
   "metadata": {},
   "outputs": [
    {
     "name": "stdout",
     "output_type": "stream",
     "text": [
      "When a>b the output \t\t False\n",
      "When a<b the output is\t\t True\n",
      "When a==b the output is\t\t False\n",
      "When a!=b the output is\t\t True\n",
      "When a>=b the output is\t\t False\n",
      "When a<=b the output is\t\t True\n"
     ]
    }
   ],
   "source": [
    "print(\"When a>b the output \\t\\t\",a>b)\n",
    "print(\"When a<b the output is\\t\\t\",a<b)\n",
    "print(\"When a==b the output is\\t\\t\",a==b)\n",
    "print(\"When a!=b the output is\\t\\t\",a!=b)\n",
    "print(\"When a>=b the output is\\t\\t\",a>=b)\n",
    "print(\"When a<=b the output is\\t\\t\",a<=b) "
   ]
  },
  {
   "cell_type": "markdown",
   "id": "7891e471",
   "metadata": {},
   "source": [
    "# LOGICAL OPERATORS"
   ]
  },
  {
   "cell_type": "markdown",
   "id": "0954448b",
   "metadata": {},
   "source": [
    "Operator     SymbolName\t           Narrative (Comparison between two conditions)\n",
    "\n",
    "and      \tLogical AND\t            1.\tReturns True if both operands are True   \n",
    "                                    2.\tReturns False if one of the operands is False\n",
    "                                    \n",
    "or\t         Logical OR\t            1.\tReturns True if one of the operands is True\n",
    "                                    2.\tReturns False if both operands are False\n",
    "                                    \n",
    "not\t         Logical NOT\t        1.\tReturns True if operand is False\n",
    "                                    2.\tReturns False if operand is True \n"
   ]
  },
  {
   "cell_type": "markdown",
   "id": "58124af8",
   "metadata": {},
   "source": [
    "if (condition):\n",
    "    statement1\n",
    "    statement2"
   ]
  },
  {
   "cell_type": "markdown",
   "id": "0dd8992a",
   "metadata": {},
   "source": [
    "if (condition):\n",
    "    statement1\n",
    "    statement2\n",
    "else:\n",
    "    statement3\n",
    "    statement4"
   ]
  },
  {
   "cell_type": "code",
   "execution_count": 23,
   "id": "9f271a7b",
   "metadata": {},
   "outputs": [
    {
     "name": "stdout",
     "output_type": "stream",
     "text": [
      "12\n",
      "24\n",
      "36\n",
      "C is largest\n"
     ]
    }
   ],
   "source": [
    "a=int(input())\n",
    "b=int(input())\n",
    "c=int(input())\n",
    "\n",
    "if(a>b) and (a>c):\n",
    "    print(\"A is largest\")\n",
    "if(b>a) and (b>c):\n",
    "    print(\"B is largest\")\n",
    "if(c>a) and (c>b):\n",
    "    print(\"C is largest\")"
   ]
  },
  {
   "cell_type": "markdown",
   "id": "6de68fce",
   "metadata": {},
   "source": [
    "ORDER OF LOGICAL OPERATORS\n",
    "1. not\n",
    "2. and\n",
    "3. or"
   ]
  },
  {
   "cell_type": "code",
   "execution_count": 24,
   "id": "751df3b1",
   "metadata": {},
   "outputs": [
    {
     "name": "stdout",
     "output_type": "stream",
     "text": [
      "CSE\n"
     ]
    }
   ],
   "source": [
    "a=False\n",
    "b=True \n",
    "c=False\n",
    "\n",
    "if a == True or b==True and not(c): \n",
    "    print(\"CSE\")\n",
    "else:\n",
    "    print(\"ME\")\n"
   ]
  },
  {
   "cell_type": "code",
   "execution_count": 26,
   "id": "5a7db701",
   "metadata": {},
   "outputs": [
    {
     "name": "stdout",
     "output_type": "stream",
     "text": [
      "NoCovidChances\n"
     ]
    }
   ],
   "source": [
    "a=False\n",
    "b=True\n",
    "c=False\n",
    "#Condition with Multiple Logical Operators\n",
    "if a == True and b==True or c==True:   # if (False or False)\n",
    "    print(\"CovidChances\")\n",
    "else:\n",
    "    print(\"NoCovidChances\")\n"
   ]
  },
  {
   "cell_type": "markdown",
   "id": "3b698ed2",
   "metadata": {},
   "source": [
    "is operator is used to check whether both operands point to the same object or not. \n",
    "This is different from ==. \n",
    "In equal to operator, it is checked whether both operand have same value "
   ]
  },
  {
   "cell_type": "code",
   "execution_count": 8,
   "id": "6d52587c",
   "metadata": {},
   "outputs": [
    {
     "name": "stdout",
     "output_type": "stream",
     "text": [
      "1829186752560\n",
      "1829186752656\n"
     ]
    }
   ],
   "source": [
    "#   10  - ----------- 816 a  b\n",
    "\n",
    "a=320\n",
    "b=320\n",
    "print(id(a))\n",
    "print(id(b))\n",
    "\n"
   ]
  },
  {
   "cell_type": "code",
   "execution_count": 18,
   "id": "f8919f8a",
   "metadata": {},
   "outputs": [
    {
     "name": "stdout",
     "output_type": "stream",
     "text": [
      "1673670513728\n",
      "1673670866368\n",
      "1673670513728\n",
      "equal value\n",
      "have equal value\n",
      "not point to the same object \n",
      "to the same object\n"
     ]
    }
   ],
   "source": [
    "list1 = [3,5,9,12]\n",
    "list2 = [3,5,9,12]\n",
    "# List 3 is assigned values of List1 (Note: Both will have same address)\n",
    "list3 = list1\n",
    "print(id(list1))\n",
    "print(id(list2))\n",
    "print(id(list3))\n",
    "\n",
    "if list1 == list2:\n",
    "    print(\"equal value\")\n",
    "else:\n",
    "    print(\"not equal value\")\n",
    "    \n",
    "if list1 == list3:\n",
    "    print(\"have equal value\")\n",
    "else:\n",
    "    print(\"have not equal value\")\n",
    "\n",
    "# Here checking of operands point to the same object or not \n",
    "if list1 is list2:\n",
    "    print(\" point to the same object\")\n",
    "else:\n",
    "    print(\"not point to the same object \")\n",
    "\n",
    "if list1 is list3:\n",
    "    print(\"to the same object\")\n",
    "else:\n",
    "    print(\"do not point to the same object \")"
   ]
  },
  {
   "cell_type": "markdown",
   "id": "45666896",
   "metadata": {},
   "source": [
    "in (membership operator)\n",
    "This operator checks whether the given value is present in the sequence or not. \n",
    "It evaluates to True if it is present else False.\n"
   ]
  },
  {
   "cell_type": "code",
   "execution_count": 22,
   "id": "b03699e0",
   "metadata": {},
   "outputs": [
    {
     "name": "stdout",
     "output_type": "stream",
     "text": [
      "Condition True\n"
     ]
    }
   ],
   "source": [
    "a=23\n",
    "list1 = [23,67,4592,48,6455]\n",
    "if a in list1:\n",
    "    print(\"Condition True\")\n",
    "else:\n",
    "    print(\"Condition False\")\n"
   ]
  },
  {
   "cell_type": "code",
   "execution_count": 23,
   "id": "08f5b560",
   "metadata": {},
   "outputs": [
    {
     "name": "stdout",
     "output_type": "stream",
     "text": [
      "Condition False\n"
     ]
    }
   ],
   "source": [
    "a=232\n",
    "list1 = [23,67,4592,48,6455]\n",
    "if a in list1:\n",
    "    print(\"Condition True\")\n",
    "else:\n",
    "    print(\"Condition False\")"
   ]
  },
  {
   "cell_type": "code",
   "execution_count": 24,
   "id": "08bb936a",
   "metadata": {},
   "outputs": [
    {
     "name": "stdout",
     "output_type": "stream",
     "text": [
      "Condition True\n"
     ]
    }
   ],
   "source": [
    "a=232\n",
    "list1 = [23,67,4592,48,6455]\n",
    "if a not in list1:\n",
    "    print(\"Condition True\")\n",
    "else:\n",
    "    print(\"Condition False\")"
   ]
  },
  {
   "cell_type": "code",
   "execution_count": 25,
   "id": "81be23c5",
   "metadata": {},
   "outputs": [
    {
     "name": "stdout",
     "output_type": "stream",
     "text": [
      "Condition False\n"
     ]
    }
   ],
   "source": [
    "a=23\n",
    "list1 = [23,67,4592,48,6455]\n",
    "if a not in list1:\n",
    "    print(\"Condition True\")\n",
    "else:\n",
    "    print(\"Condition False\")\n"
   ]
  },
  {
   "cell_type": "code",
   "execution_count": 26,
   "id": "77d8424e",
   "metadata": {},
   "outputs": [],
   "source": [
    "# Assignment Operators  #="
   ]
  },
  {
   "cell_type": "code",
   "execution_count": null,
   "id": "c4017c17",
   "metadata": {},
   "outputs": [],
   "source": [
    "=\n",
    "\n",
    "==\n",
    "\n",
    "\n",
    "a=10   # 'a' has been assigned  a value of 10\n",
    "a==10  # is 'a' has value equal to 10"
   ]
  },
  {
   "cell_type": "code",
   "execution_count": 2,
   "id": "321d1766",
   "metadata": {},
   "outputs": [
    {
     "name": "stdout",
     "output_type": "stream",
     "text": [
      "45\n"
     ]
    }
   ],
   "source": [
    "a=12\n",
    "#a=a+33  \n",
    "a+=33\n",
    "print(a)"
   ]
  },
  {
   "cell_type": "code",
   "execution_count": 28,
   "id": "ddc6730d",
   "metadata": {},
   "outputs": [
    {
     "name": "stdout",
     "output_type": "stream",
     "text": [
      "45\n"
     ]
    }
   ],
   "source": [
    "#Shorthand notations\n",
    "a=12\n",
    "a+=33\n",
    "print(a)"
   ]
  },
  {
   "cell_type": "code",
   "execution_count": 29,
   "id": "fc3049e6",
   "metadata": {},
   "outputs": [
    {
     "name": "stdout",
     "output_type": "stream",
     "text": [
      "396\n"
     ]
    }
   ],
   "source": [
    "a=12\n",
    "a=a*33           #a*=33    a=a*33\n",
    "print(a)"
   ]
  },
  {
   "cell_type": "code",
   "execution_count": 30,
   "id": "102211ed",
   "metadata": {},
   "outputs": [
    {
     "name": "stdout",
     "output_type": "stream",
     "text": [
      "396\n"
     ]
    }
   ],
   "source": [
    "a=12\n",
    "a*=33\n",
    "print(a)"
   ]
  },
  {
   "cell_type": "code",
   "execution_count": 15,
   "id": "fd72d4d8",
   "metadata": {},
   "outputs": [
    {
     "name": "stdout",
     "output_type": "stream",
     "text": [
      "1\n"
     ]
    }
   ],
   "source": [
    "a=15\n",
    "print(a>>3)\n",
    "\n",
    "\n"
   ]
  },
  {
   "cell_type": "code",
   "execution_count": null,
   "id": "9c2adeb9",
   "metadata": {},
   "outputs": [],
   "source": []
  }
 ],
 "metadata": {
  "kernelspec": {
   "display_name": "Python 3.10.5 64-bit",
   "language": "python",
   "name": "python3"
  },
  "language_info": {
   "codemirror_mode": {
    "name": "ipython",
    "version": 3
   },
   "file_extension": ".py",
   "mimetype": "text/x-python",
   "name": "python",
   "nbconvert_exporter": "python",
   "pygments_lexer": "ipython3",
   "version": "3.10.5"
  },
  "vscode": {
   "interpreter": {
    "hash": "94b96a4f433cc0a752f751a165c8d55c3f142df5d068c08c27aade57f7b092a0"
   }
  }
 },
 "nbformat": 4,
 "nbformat_minor": 5
}
