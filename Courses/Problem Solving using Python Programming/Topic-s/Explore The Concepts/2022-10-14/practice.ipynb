{
 "cells": [
  {
   "cell_type": "markdown",
   "metadata": {},
   "source": [
    "# Find the armstrong numbers."
   ]
  },
  {
   "cell_type": "code",
   "execution_count": 12,
   "metadata": {},
   "outputs": [
    {
     "name": "stdout",
     "output_type": "stream",
     "text": [
      "153\n",
      "370\n",
      "371\n",
      "407\n"
     ]
    }
   ],
   "source": [
    "initial_num = int(input())\n",
    "end_num = int(input())\n",
    "while initial_num <= end_num:\n",
    "    calculate_armstrong = initial_num\n",
    "    power = len(str(initial_num))\n",
    "    the_number = 0\n",
    "# print(3,power)\n",
    "    while calculate_armstrong != 0:\n",
    "        # print(calculate_armstrong)\n",
    "        the_number = the_number + ((calculate_armstrong%10)**power)\n",
    "        # print(the_number)\n",
    "        calculate_armstrong = (calculate_armstrong//10)\n",
    "        # print(calculate_armstrong//10)\n",
    "    if initial_num == the_number:\n",
    "        print(initial_num)\n",
    "    initial_num = initial_num + 1\n"
   ]
  }
 ],
 "metadata": {
  "kernelspec": {
   "display_name": "Python 3.10.5 64-bit",
   "language": "python",
   "name": "python3"
  },
  "language_info": {
   "codemirror_mode": {
    "name": "ipython",
    "version": 3
   },
   "file_extension": ".py",
   "mimetype": "text/x-python",
   "name": "python",
   "nbconvert_exporter": "python",
   "pygments_lexer": "ipython3",
   "version": "3.10.6"
  },
  "orig_nbformat": 4,
  "vscode": {
   "interpreter": {
    "hash": "94b96a4f433cc0a752f751a165c8d55c3f142df5d068c08c27aade57f7b092a0"
   }
  }
 },
 "nbformat": 4,
 "nbformat_minor": 2
}
