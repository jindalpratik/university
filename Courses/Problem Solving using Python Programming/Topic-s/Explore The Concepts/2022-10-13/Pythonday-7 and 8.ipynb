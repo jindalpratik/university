{
 "cells": [
  {
   "cell_type": "code",
   "execution_count": 17,
   "id": "687d6c83",
   "metadata": {},
   "outputs": [
    {
     "name": "stdout",
     "output_type": "stream",
     "text": [
      "30\n"
     ]
    }
   ],
   "source": [
    "i=1\n",
    "sum=0\n",
    "while (i<=10):\n",
    "       if (i%2==0):\n",
    "            sum=sum+i   \n",
    "       i=i+1 \n",
    "print(sum) "
   ]
  },
  {
   "cell_type": "code",
   "execution_count": 33,
   "id": "2746cd3f",
   "metadata": {},
   "outputs": [
    {
     "data": {
      "text/plain": [
       "1.8260748027008264"
      ]
     },
     "execution_count": 33,
     "metadata": {},
     "output_type": "execute_result"
    }
   ],
   "source": [
    "import math\n",
    "math.log10(67)"
   ]
  },
  {
   "cell_type": "code",
   "execution_count": 46,
   "id": "8a723a30",
   "metadata": {},
   "outputs": [
    {
     "data": {
      "text/plain": [
       "5"
      ]
     },
     "execution_count": 46,
     "metadata": {},
     "output_type": "execute_result"
    }
   ],
   "source": [
    "import math\n",
    "int(math.log10(23654))+1"
   ]
  },
  {
   "cell_type": "code",
   "execution_count": 38,
   "id": "7f342e9a",
   "metadata": {},
   "outputs": [
    {
     "data": {
      "text/plain": [
       "2.0"
      ]
     },
     "execution_count": 38,
     "metadata": {},
     "output_type": "execute_result"
    }
   ],
   "source": [
    "import math\n",
    "math.log10(100)"
   ]
  },
  {
   "cell_type": "code",
   "execution_count": 41,
   "id": "e387e1d0",
   "metadata": {},
   "outputs": [
    {
     "data": {
      "text/plain": [
       "1.0"
      ]
     },
     "execution_count": 41,
     "metadata": {},
     "output_type": "execute_result"
    }
   ],
   "source": [
    "math.log10(10)"
   ]
  },
  {
   "cell_type": "code",
   "execution_count": 61,
   "id": "e0eac363",
   "metadata": {},
   "outputs": [
    {
     "name": "stdout",
     "output_type": "stream",
     "text": [
      "76898\n",
      "The number of digits in the number 76898 are 5\n"
     ]
    }
   ],
   "source": [
    "# Count Number of digits\n",
    "\n",
    "import math\n",
    "a=int(input())\n",
    "if a==0:\n",
    "    print(\"1\")\n",
    "else:\n",
    "    b=int(math.log10(a))+1\n",
    "    print(\"The number of digits in the number {} are {}\".format(a,b))"
   ]
  },
  {
   "cell_type": "code",
   "execution_count": 15,
   "id": "5e8b0438",
   "metadata": {},
   "outputs": [
    {
     "name": "stdout",
     "output_type": "stream",
     "text": [
      "0\n",
      "1\n"
     ]
    }
   ],
   "source": [
    "# Count number of digits\n",
    "num=int(input())\n",
    "count=0\n",
    "if num==0:\n",
    "    print(\"1\")\n",
    "else:\n",
    "    while num!=0:\n",
    "        count=count+1\n",
    "        num=num//10\n",
    "    print(count)"
   ]
  },
  {
   "cell_type": "code",
   "execution_count": 19,
   "id": "41516fc8",
   "metadata": {},
   "outputs": [
    {
     "name": "stdout",
     "output_type": "stream",
     "text": [
      "1\n",
      "10\n",
      "The count of even numbers is 5 and count of odd numbers is 5\n"
     ]
    }
   ],
   "source": [
    "# Count of even numbers and odd numbers\n",
    "start=int(input())\n",
    "stop=int(input())\n",
    "num=range(start,stop+1)\n",
    "\n",
    "countodd=0\n",
    "counteven=0\n",
    "for i in num:\n",
    "    if(i%2==0):\n",
    "        counteven=counteven+1\n",
    "    else:\n",
    "        countodd=countodd+1\n",
    "print(\"The count of even numbers is {} and count of odd numbers is {}\".format(counteven,countodd))\n"
   ]
  },
  {
   "cell_type": "code",
   "execution_count": 6,
   "id": "dc3159f1",
   "metadata": {},
   "outputs": [
    {
     "name": "stdout",
     "output_type": "stream",
     "text": [
      "4\n",
      "Not prime\n"
     ]
    }
   ],
   "source": [
    "# Number is prime or not prime\n",
    "num=int(input())\n",
    "i=2\n",
    "while i<num:\n",
    "    if num%i==0:\n",
    "        print(\"Not prime\")\n",
    "        break\n",
    "    i=i+1\n",
    "else:\n",
    "    print(\"Prime Number\")"
   ]
  },
  {
   "cell_type": "code",
   "execution_count": 13,
   "id": "0adbc68f",
   "metadata": {},
   "outputs": [
    {
     "name": "stdout",
     "output_type": "stream",
     "text": [
      "7\n",
      "prime\n"
     ]
    }
   ],
   "source": [
    "# Number is prime or not prime\n",
    "t=1   # if t remains 1  it is prime,  t=0 not prime\n",
    "num=int(input())\n",
    "i=2\n",
    "while i<num:\n",
    "    if num%i==0:\n",
    "        print(\"Not prime\")\n",
    "        t=0\n",
    "        break\n",
    "    i=i+1\n",
    "\n",
    "if(t==1):\n",
    "    print(\"prime\")"
   ]
  },
  {
   "cell_type": "code",
   "execution_count": 10,
   "id": "3e087bde",
   "metadata": {},
   "outputs": [
    {
     "data": {
      "text/plain": [
       "8"
      ]
     },
     "execution_count": 10,
     "metadata": {},
     "output_type": "execute_result"
    }
   ],
   "source": [
    "16//2"
   ]
  },
  {
   "cell_type": "code",
   "execution_count": 11,
   "id": "af52ef46",
   "metadata": {},
   "outputs": [
    {
     "data": {
      "text/plain": [
       "8.0"
      ]
     },
     "execution_count": 11,
     "metadata": {},
     "output_type": "execute_result"
    }
   ],
   "source": [
    "16/2"
   ]
  },
  {
   "cell_type": "code",
   "execution_count": 4,
   "id": "b3e60dd1",
   "metadata": {},
   "outputs": [
    {
     "data": {
      "text/plain": [
       "1.0"
      ]
     },
     "execution_count": 4,
     "metadata": {},
     "output_type": "execute_result"
    }
   ],
   "source": [
    "2*8/2//2%3  # 16/2//2%3   # 8.0//2%3    #4.0%3  #1.0"
   ]
  },
  {
   "cell_type": "code",
   "execution_count": 13,
   "id": "143996aa",
   "metadata": {},
   "outputs": [
    {
     "data": {
      "text/plain": [
       "4.0"
      ]
     },
     "execution_count": 13,
     "metadata": {},
     "output_type": "execute_result"
    }
   ],
   "source": [
    "8.0//2"
   ]
  },
  {
   "cell_type": "code",
   "execution_count": 14,
   "id": "1f1b9e0d",
   "metadata": {},
   "outputs": [
    {
     "data": {
      "text/plain": [
       "1.0"
      ]
     },
     "execution_count": 14,
     "metadata": {},
     "output_type": "execute_result"
    }
   ],
   "source": [
    "4.0%3"
   ]
  },
  {
   "cell_type": "code",
   "execution_count": 53,
   "id": "4e0f45e1",
   "metadata": {},
   "outputs": [
    {
     "name": "stdout",
     "output_type": "stream",
     "text": [
      "1245\n",
      "4\n"
     ]
    }
   ],
   "source": [
    "# Count Number of digits in an positive integer number\n",
    "\n",
    "number=int(input())   #456\n",
    "f=0               \n",
    "\n",
    "if (number==0):\n",
    "    f=1\n",
    "else:\n",
    "    while(number!=0):\n",
    "        f=f+1      # 3\n",
    "        number=number//10  # 0\n",
    "\n",
    "print(f)\n",
    "\n"
   ]
  },
  {
   "cell_type": "code",
   "execution_count": 1,
   "id": "3466e0da",
   "metadata": {},
   "outputs": [
    {
     "name": "stdout",
     "output_type": "stream",
     "text": [
      "1\n",
      "6\n",
      "Even numbers are 3\n",
      "Odd numbers are  3\n"
     ]
    }
   ],
   "source": [
    "# Even Numbers and Odd Numbers\n",
    "\n",
    "start=int(input())\n",
    "stop=int(input())\n",
    "\n",
    "num=range(start,stop+1) # 1 to 6 (excluded)\n",
    "\n",
    "counteven=0\n",
    "countodd=0\n",
    "\n",
    "for i in num:\n",
    "    if i%2==0:\n",
    "        counteven=counteven+1 #2\n",
    "    else:\n",
    "        countodd=countodd+1    #3\n",
    "print(\"Even numbers are\", counteven)\n",
    "print(\"Odd numbers are \", countodd)\n",
    "\n"
   ]
  },
  {
   "cell_type": "code",
   "execution_count": 1,
   "id": "ba3d0128",
   "metadata": {},
   "outputs": [
    {
     "name": "stdout",
     "output_type": "stream",
     "text": [
      "6\n",
      "8\n",
      "CSE\n"
     ]
    }
   ],
   "source": [
    "i=5\n",
    "while (i<=10):  \n",
    "    i=i+1    \n",
    "    if i==9:  \n",
    "        break\n",
    "    if i==7:\n",
    "        continue\n",
    "    print(i)  \n",
    "print(\"CSE\")"
   ]
  },
  {
   "cell_type": "code",
   "execution_count": 15,
   "id": "f24c845d",
   "metadata": {},
   "outputs": [
    {
     "name": "stdout",
     "output_type": "stream",
     "text": [
      "5\n",
      "11\n",
      "12\n",
      "6\n",
      "Chitkara University\n"
     ]
    }
   ],
   "source": [
    "#Nested Loops\n",
    "\n",
    "i=5\n",
    "j=11\n",
    "while(i<=6):  # 7<=6\n",
    "\n",
    "    print(i)  # #6\n",
    "    \n",
    "    while(j<=12): #13<=12\n",
    "        print(j)  #12\n",
    "        j=j+1 # 13\n",
    "    i=i+1 #7\n",
    "print(\"Chitkara University\")"
   ]
  },
  {
   "cell_type": "code",
   "execution_count": null,
   "id": "82179eaf",
   "metadata": {},
   "outputs": [],
   "source": []
  }
 ],
 "metadata": {
  "kernelspec": {
   "display_name": "Python 3 (ipykernel)",
   "language": "python",
   "name": "python3"
  },
  "language_info": {
   "codemirror_mode": {
    "name": "ipython",
    "version": 3
   },
   "file_extension": ".py",
   "mimetype": "text/x-python",
   "name": "python",
   "nbconvert_exporter": "python",
   "pygments_lexer": "ipython3",
   "version": "3.9.12"
  }
 },
 "nbformat": 4,
 "nbformat_minor": 5
}
