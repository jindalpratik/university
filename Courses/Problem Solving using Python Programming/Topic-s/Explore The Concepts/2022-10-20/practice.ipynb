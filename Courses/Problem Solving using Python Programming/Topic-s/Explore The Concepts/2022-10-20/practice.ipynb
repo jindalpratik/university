{
 "cells": [
  {
   "cell_type": "code",
   "execution_count": null,
   "metadata": {},
   "outputs": [],
   "source": []
  }
 ],
 "metadata": {
  "kernelspec": {
   "display_name": "Python 3.10.5 64-bit",
   "language": "python",
   "name": "python3"
  },
  "language_info": {
   "name": "python",
   "version": "3.10.5"
  },
  "orig_nbformat": 4,
  "vscode": {
   "interpreter": {
    "hash": "94b96a4f433cc0a752f751a165c8d55c3f142df5d068c08c27aade57f7b092a0"
   }
  }
 },
 "nbformat": 4,
 "nbformat_minor": 2
}
