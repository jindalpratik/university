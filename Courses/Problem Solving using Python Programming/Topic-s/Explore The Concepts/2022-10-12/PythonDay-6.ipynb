{
 "cells": [
  {
   "cell_type": "code",
   "execution_count": null,
   "id": "edb32549",
   "metadata": {},
   "outputs": [],
   "source": [
    "1\n",
    "22\n",
    "333\n",
    "4444\n"
   ]
  },
  {
   "cell_type": "code",
   "execution_count": 62,
   "id": "2daae63c",
   "metadata": {},
   "outputs": [
    {
     "name": "stdout",
     "output_type": "stream",
     "text": [
      "1\t\n",
      "2\t2\t\n",
      "3\t3\t3\t\n",
      "4\t4\t4\t4\t\n"
     ]
    }
   ],
   "source": [
    "i=1\n",
    "while i<=4:\n",
    "    j=1\n",
    "    while j<=i:  # 4 time\n",
    "        print(i,end=\"\\t\")\n",
    "        j=j+1\n",
    "    i=i+1\n",
    "    print()"
   ]
  },
  {
   "cell_type": "code",
   "execution_count": 52,
   "id": "03973626",
   "metadata": {},
   "outputs": [
    {
     "name": "stdout",
     "output_type": "stream",
     "text": [
      "Enter the original number0\n",
      "1\n"
     ]
    }
   ],
   "source": [
    "import math\n",
    "num=int(input(\"Enter the original number\"))\n",
    "if num==0:\n",
    "    count=1\n",
    "else:\n",
    "    count = int(math.log10(num)+1)\n",
    "print(count)"
   ]
  },
  {
   "cell_type": "code",
   "execution_count": 35,
   "id": "a0d62654",
   "metadata": {},
   "outputs": [
    {
     "name": "stdout",
     "output_type": "stream",
     "text": [
      "Enter the original number153\n",
      "153\n"
     ]
    }
   ],
   "source": [
    "#Armstrong Number   50 to 1000  Armstrongs\n",
    "num=int(input(\"Enter the original number\"))   #27\n",
    "count = len(str(num)) #2\n",
    "    #print(count)\n",
    "temp=num    #temp=27 num=27\n",
    "sum=0\n",
    "while(temp>0):  #2\n",
    "    digit=temp%10  #2\n",
    "    sum=sum+digit**count #  53\n",
    "    temp=temp//10   # 0\n",
    "if num == sum:\n",
    "    print(num)\n"
   ]
  },
  {
   "cell_type": "code",
   "execution_count": 34,
   "id": "80f52747",
   "metadata": {},
   "outputs": [
    {
     "name": "stdout",
     "output_type": "stream",
     "text": [
      "67\n",
      "400\n",
      "153\n",
      "370\n",
      "371\n"
     ]
    }
   ],
   "source": [
    "#Armstrong Number   50 to 1000  Armstrongs\n",
    "#num=int(input(\"Enter the original number\"))   #27\n",
    "first_num=int(input())\n",
    "last_num=int(input())\n",
    "for num in range(first_num,last_num):\n",
    "    count = len(str(num)) #2\n",
    "    #print(count)\n",
    "    temp=num    #temp=27 num=27\n",
    "    sum=0\n",
    "    while(temp>0):  #2\n",
    "        digit=temp%10  #2\n",
    "        sum=sum+digit**count #  53\n",
    "        temp=temp//10   # 0\n",
    "    if num == sum:\n",
    "        print(num)\n"
   ]
  },
  {
   "cell_type": "markdown",
   "id": "21a6ae54",
   "metadata": {},
   "source": [
    "# LOOPS"
   ]
  },
  {
   "cell_type": "markdown",
   "id": "2f3f6746",
   "metadata": {},
   "source": [
    "Loops execute a specific block of code that contains many statements and this block is executing repetitively.\n",
    "a)while loop\n",
    "b)for loop\n",
    "\n",
    "In loops, three things to be taken care and these are mentioned below:\n",
    "a)Initialization\n",
    "b)Condition\n",
    "c)Increment/Decrement\n"
   ]
  },
  {
   "cell_type": "markdown",
   "id": "125b30b4",
   "metadata": {},
   "source": [
    "# SYNTAX of while loop"
   ]
  },
  {
   "cell_type": "markdown",
   "id": "ef1c1aae",
   "metadata": {},
   "source": [
    "initilaization\n",
    "\n",
    "while(condition):\n",
    "    statement1\n",
    "    inc/dec\n",
    "    statement2\n",
    "    statement3\n",
    "statement4"
   ]
  },
  {
   "cell_type": "code",
   "execution_count": 9,
   "id": "98f7c27d",
   "metadata": {},
   "outputs": [
    {
     "name": "stdout",
     "output_type": "stream",
     "text": [
      "5\n",
      "4\n",
      "3\n",
      "Chitkara University\n"
     ]
    }
   ],
   "source": [
    "# Print first 5 natural numbers\n",
    "\n",
    "i=5  #initialisation\n",
    "\n",
    "while(i>=3):\n",
    "    print(i,end=\"\\n\")\n",
    "    \n",
    "    i=i-1\n",
    "\n",
    "print(\"Chitkara University\")"
   ]
  },
  {
   "cell_type": "code",
   "execution_count": 40,
   "id": "d02e4a16",
   "metadata": {},
   "outputs": [],
   "source": [
    "i=5\n",
    "i=1-1\n",
    "i=4"
   ]
  },
  {
   "cell_type": "code",
   "execution_count": 15,
   "id": "c8253bed",
   "metadata": {},
   "outputs": [
    {
     "name": "stdout",
     "output_type": "stream",
     "text": [
      "1\n",
      "5\n",
      "9\n"
     ]
    }
   ],
   "source": [
    "# Sum of first 10 natural numbers      #  1+3+5+7.....10  \n",
    "\n",
    "#initialisation\n",
    "sum=0\n",
    "first_num=int(input())   #1\n",
    "last_num=int(input())    #5\n",
    "\n",
    "#condition\n",
    "while(first_num <=last_num):    # 6 (first_num) <=  5  (last_num)\n",
    "    sum=sum+first_num           #sum = 15    # 1  3  6  10 15\n",
    "    first_num=first_num+2       #first_num = 6\n",
    "print(sum)"
   ]
  },
  {
   "cell_type": "code",
   "execution_count": 26,
   "id": "5f677c1c",
   "metadata": {},
   "outputs": [
    {
     "name": "stdout",
     "output_type": "stream",
     "text": [
      "1\n",
      "10\n",
      "28\n"
     ]
    }
   ],
   "source": [
    "sum=0\n",
    "i=int(input())   # 1\n",
    "j=int(input())   #10\n",
    "while(i<=j):     #  5 <=10\n",
    "      if i==8:  #right\n",
    "        break\n",
    "      sum=sum+i   #10\n",
    "      i=i+1       #5\n",
    "print(sum)"
   ]
  },
  {
   "cell_type": "code",
   "execution_count": 42,
   "id": "746736b9",
   "metadata": {},
   "outputs": [
    {
     "name": "stdout",
     "output_type": "stream",
     "text": [
      "1\n",
      "2\n",
      "3\n",
      "4\n",
      "5\n",
      "6\n",
      "7\n",
      "8\n",
      "9\n",
      "10\n",
      "outside loop now\n"
     ]
    }
   ],
   "source": [
    "i=0\n",
    "while(i<10):  #7 \n",
    "    i=i+1     #8\n",
    "    print(i)\n",
    "    if i==7:\n",
    "        continue\n",
    "print(\"outside loop now\")"
   ]
  },
  {
   "cell_type": "code",
   "execution_count": null,
   "id": "551c3bf7",
   "metadata": {},
   "outputs": [],
   "source": [
    "sum=0\n",
    "first_num=int(input())\n",
    "\n",
    "while(first_num!=0):\n",
    "    first_num=first_num+1\n",
    "print(sum)"
   ]
  },
  {
   "cell_type": "code",
   "execution_count": 36,
   "id": "4ecf1b25",
   "metadata": {},
   "outputs": [
    {
     "name": "stdout",
     "output_type": "stream",
     "text": [
      "2\n",
      "3\n"
     ]
    }
   ],
   "source": [
    "i=int(input())\n",
    "j=int(input())\n",
    "while(i>=j):\n",
    "    print(i,end=\" \")\n",
    "    i=i-1\n"
   ]
  },
  {
   "cell_type": "code",
   "execution_count": 13,
   "id": "cc03fd31",
   "metadata": {},
   "outputs": [
    {
     "name": "stdout",
     "output_type": "stream",
     "text": [
      "5 4 3 2 1 0 -1 -2 -3 -4 -5 great\n"
     ]
    }
   ],
   "source": [
    "i=5\n",
    "while(i>=-5):\n",
    "    print(i,end=\" \")\n",
    "    i=i-1\n",
    "else:\n",
    "    print(\"great\")"
   ]
  },
  {
   "cell_type": "code",
   "execution_count": null,
   "id": "0fb8184c",
   "metadata": {},
   "outputs": [],
   "source": [
    "#Range function\n",
    "\n"
   ]
  },
  {
   "cell_type": "markdown",
   "id": "c0cddefe",
   "metadata": {},
   "source": [
    "# FOR LOOP"
   ]
  },
  {
   "cell_type": "markdown",
   "id": "31f7e16f",
   "metadata": {},
   "source": [
    "Syntax:\n",
    "for variable in sequence:              # Sequence can be list, tuple, string\n",
    "                Body of for loop       \n"
   ]
  },
  {
   "cell_type": "code",
   "execution_count": 54,
   "id": "55004713",
   "metadata": {},
   "outputs": [
    {
     "name": "stdout",
     "output_type": "stream",
     "text": [
      "0\t1\t2\t3\t4\t5\t6\t7\t8\t9\t"
     ]
    }
   ],
   "source": [
    "num=range(10)  # range(start,stop,step)  # 1 3 5 7 9\n",
    "# 1 2 3 4 5\n",
    "for i in num:\n",
    "    print(i,end=\"\\t\")"
   ]
  },
  {
   "cell_type": "code",
   "execution_count": 30,
   "id": "6bae7511",
   "metadata": {},
   "outputs": [
    {
     "name": "stdout",
     "output_type": "stream",
     "text": [
      "5 4 3 2 1 0 -1 -2 -3 -4 -5 "
     ]
    }
   ],
   "source": [
    "num_range=range(5,-6,-1)\n",
    "for var_int in num_range:\n",
    "    print(var_int,end=\" \")"
   ]
  },
  {
   "cell_type": "code",
   "execution_count": 53,
   "id": "72fe91ce",
   "metadata": {},
   "outputs": [
    {
     "name": "stdout",
     "output_type": "stream",
     "text": [
      "1\n",
      "10\n",
      "55\n"
     ]
    }
   ],
   "source": [
    "first_num=int(input())   #1\n",
    "last_num=int(input())    #10\n",
    "num=range(first_num,last_num+1)\n",
    "sum=0\n",
    "for i in num:  #i=\n",
    "    sum=sum+i  #sum=15\n",
    "print(sum)"
   ]
  },
  {
   "cell_type": "code",
   "execution_count": 31,
   "id": "abcafc3d",
   "metadata": {},
   "outputs": [
    {
     "name": "stdout",
     "output_type": "stream",
     "text": [
      "4 6 8 10 12 14 16 "
     ]
    }
   ],
   "source": [
    "num_list = [4,6,8,10,12,14,16]  # List\n",
    "for var in num_list:\n",
    "    print(var,end=\" \")"
   ]
  },
  {
   "cell_type": "code",
   "execution_count": 20,
   "id": "1f420116",
   "metadata": {},
   "outputs": [
    {
     "name": "stdout",
     "output_type": "stream",
     "text": [
      "0 4\n",
      "1 6\n",
      "2 8\n",
      "3 10\n",
      "4 12\n",
      "5 14\n",
      "6 16\n"
     ]
    }
   ],
   "source": [
    "num = [4,6,8,10,12,14,16]  # List\n",
    "for i in range(len(num)):\n",
    "    print(i,num[i])"
   ]
  },
  {
   "cell_type": "code",
   "execution_count": 22,
   "id": "59fb6d23",
   "metadata": {},
   "outputs": [
    {
     "name": "stdout",
     "output_type": "stream",
     "text": [
      "0 4\n",
      "1 6\n",
      "2 8\n",
      "3 10\n",
      "4 12\n",
      "5 14\n",
      "6 16\n"
     ]
    }
   ],
   "source": [
    "num = [4,6,8,10,12,14,16]  # List\n",
    "for i,value in enumerate(num):\n",
    "    print(i,value)"
   ]
  },
  {
   "cell_type": "code",
   "execution_count": null,
   "id": "f73a12d4",
   "metadata": {},
   "outputs": [],
   "source": []
  }
 ],
 "metadata": {
  "kernelspec": {
   "display_name": "Python 3 (ipykernel)",
   "language": "python",
   "name": "python3"
  },
  "language_info": {
   "codemirror_mode": {
    "name": "ipython",
    "version": 3
   },
   "file_extension": ".py",
   "mimetype": "text/x-python",
   "name": "python",
   "nbconvert_exporter": "python",
   "pygments_lexer": "ipython3",
   "version": "3.9.12"
  }
 },
 "nbformat": 4,
 "nbformat_minor": 5
}
