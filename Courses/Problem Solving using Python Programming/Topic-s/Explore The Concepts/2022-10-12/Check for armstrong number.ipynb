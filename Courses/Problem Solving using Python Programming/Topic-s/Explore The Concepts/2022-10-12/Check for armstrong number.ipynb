{
 "cells": [
  {
   "cell_type": "markdown",
   "metadata": {},
   "source": [
    "# Check if an armstrong number for three digits."
   ]
  },
  {
   "cell_type": "code",
   "execution_count": 13,
   "metadata": {},
   "outputs": [
    {
     "name": "stdout",
     "output_type": "stream",
     "text": [
      "1 371\n",
      "2 1\n",
      "1 37\n",
      "2 2\n",
      "1 3\n",
      "2 3\n",
      "3 3\n",
      "371\n",
      "1\n",
      "37\n",
      "344\n",
      "3\n",
      "371\n",
      "Is an armstrong no.\n"
     ]
    }
   ],
   "source": [
    "N = int(input())\n",
    "the_number = 0\n",
    "power = 0\n",
    "calculate_power = N\n",
    "calculate_armstrong = N\n",
    "while calculate_power != 0:\n",
    "    # print(1,calculate_power)\n",
    "    power = power + 1\n",
    "    # print(2,power)\n",
    "    calculate_power = (calculate_power//10)\n",
    "# print(3,power)\n",
    "while calculate_armstrong != 0:\n",
    "    # print(calculate_armstrong)\n",
    "    the_number = the_number + ((calculate_armstrong%10)**power)\n",
    "    # print(the_number)\n",
    "    calculate_armstrong = (calculate_armstrong//10)\n",
    "if N == the_number:\n",
    "    print(\"Is an armstrong no.\")\n",
    "else:\n",
    "    print(\"Is not an armstrong no.\")"
   ]
  }
 ],
 "metadata": {
  "kernelspec": {
   "display_name": "Python 3.10.5 64-bit",
   "language": "python",
   "name": "python3"
  },
  "language_info": {
   "codemirror_mode": {
    "name": "ipython",
    "version": 3
   },
   "file_extension": ".py",
   "mimetype": "text/x-python",
   "name": "python",
   "nbconvert_exporter": "python",
   "pygments_lexer": "ipython3",
   "version": "3.10.5"
  },
  "orig_nbformat": 4,
  "vscode": {
   "interpreter": {
    "hash": "94b96a4f433cc0a752f751a165c8d55c3f142df5d068c08c27aade57f7b092a0"
   }
  }
 },
 "nbformat": 4,
 "nbformat_minor": 2
}
