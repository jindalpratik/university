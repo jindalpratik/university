{
 "cells": [
  {
   "cell_type": "code",
   "execution_count": 9,
   "id": "26a5efa4",
   "metadata": {},
   "outputs": [
    {
     "name": "stdout",
     "output_type": "stream",
     "text": [
      "1\n",
      "10\n",
      "2 3 5 7 17\n"
     ]
    }
   ],
   "source": [
    "# Prime Numbers \n",
    "lower=int(input())\n",
    "upper=int(input())\n",
    "sum=0\n",
    "for num in range(lower, upper + 1): # 2 to 101\n",
    "    if num>1:\n",
    "        for i in range(2, num):  \n",
    "            if (num % i) == 0:\n",
    "                break\n",
    "        else:\n",
    "            print(num, end=\" \")\n",
    "            sum=sum+num\n",
    "print(sum)"
   ]
  },
  {
   "cell_type": "code",
   "execution_count": 11,
   "id": "f508ea2e",
   "metadata": {},
   "outputs": [
    {
     "name": "stdout",
     "output_type": "stream",
     "text": [
      "12\n",
      "Not\n"
     ]
    }
   ],
   "source": [
    "#Armstrong Number\n",
    "\n",
    "import math\n",
    "num=int(input())               #153\n",
    "count=int(math.log10(num))+1   # three\n",
    "#print(count)\n",
    "\n",
    "temp=num     # 153 temp and 153 num\n",
    "sum=0        #Initialise\n",
    "while temp>0:                 #153>0      15>0          1>0           0>0\n",
    "    digit=temp%10             #digit=3    digit=5       digit=1\n",
    "    sum=sum+(digit**count)    # sum=27    # sum=152     #sum=153\n",
    "    temp=temp//10             #15         #1            #0\n",
    "\n",
    "if num==sum:\n",
    "    print(\"Armstrong\")\n",
    "else:\n",
    "    print(\"Not\")"
   ]
  },
  {
   "cell_type": "code",
   "execution_count": 13,
   "id": "dcd1ec6c",
   "metadata": {},
   "outputs": [
    {
     "name": "stdout",
     "output_type": "stream",
     "text": [
      "1000\n",
      "4000\n",
      "1634 "
     ]
    }
   ],
   "source": [
    "import math\n",
    "lower=int(input())\n",
    "upper=int(input())\n",
    "for num in range(lower,upper+1): #1,2,3,4......400   \n",
    "    count=int(math.log10(num))+1\n",
    "    temp=num\n",
    "    sum=0\n",
    "    while temp>0:\n",
    "        digit=temp%10\n",
    "        sum=sum+(digit**count)\n",
    "        temp=temp//10\n",
    "    if num==sum:\n",
    "        print(num,end=\" \")"
   ]
  },
  {
   "cell_type": "code",
   "execution_count": 44,
   "id": "398ae403",
   "metadata": {},
   "outputs": [
    {
     "name": "stdout",
     "output_type": "stream",
     "text": [
      "6\n"
     ]
    }
   ],
   "source": [
    "import math\n",
    "num=123456\n",
    "count=int(math.log10(num))+1\n",
    "print(count)"
   ]
  },
  {
   "cell_type": "code",
   "execution_count": 26,
   "id": "8da0dc2e",
   "metadata": {},
   "outputs": [],
   "source": [
    "#pass statement\n",
    "#We use pass statement to write empty loops."
   ]
  },
  {
   "cell_type": "code",
   "execution_count": 17,
   "id": "f7633ae7",
   "metadata": {},
   "outputs": [],
   "source": [
    "s=\"vinay\"\n",
    "for i in s:\n",
    "    pass"
   ]
  },
  {
   "cell_type": "code",
   "execution_count": 18,
   "id": "caef1d3e",
   "metadata": {},
   "outputs": [
    {
     "name": "stdout",
     "output_type": "stream",
     "text": [
      "v i Pass executed\n",
      "n a y \n",
      "v i Continue executed\n",
      "a y "
     ]
    }
   ],
   "source": [
    "# continue and empty\n",
    "\n",
    "s = \"vinay\"\n",
    "# Pass statement\n",
    "for i in s:\n",
    "    if i == 'n':\n",
    "        print('Pass executed')\n",
    "        pass\n",
    "    print(i,end=\" \") \n",
    "print()\n",
    "# Continue statement\n",
    "for i in s:\n",
    "    if i == 'n':\n",
    "        print('Continue executed')\n",
    "        continue\n",
    "    print(i, end=\" \")"
   ]
  },
  {
   "cell_type": "code",
   "execution_count": 29,
   "id": "4293cabd",
   "metadata": {},
   "outputs": [],
   "source": [
    "#Charcater pattern"
   ]
  },
  {
   "cell_type": "markdown",
   "id": "62918d97",
   "metadata": {},
   "source": [
    "A\n",
    "B C\n",
    "D E F\n",
    "G H I J"
   ]
  },
  {
   "cell_type": "code",
   "execution_count": 29,
   "id": "72c736db",
   "metadata": {},
   "outputs": [
    {
     "name": "stdout",
     "output_type": "stream",
     "text": [
      "A \n",
      "B C \n",
      "D E F \n",
      "G H I J \n",
      "K L M N O \n",
      "P Q R S T U \n",
      "V W X Y Z [ \\ \n"
     ]
    }
   ],
   "source": [
    "k=65\n",
    "for i in range(1,8):\n",
    "    for j in range(1,i+1):\n",
    "        ch=chr(k)\n",
    "        print(ch,end=\" \")\n",
    "        k=k+1\n",
    "    print()"
   ]
  },
  {
   "cell_type": "code",
   "execution_count": 31,
   "id": "7d3f0a5e",
   "metadata": {},
   "outputs": [],
   "source": [
    "# Print the pattern"
   ]
  },
  {
   "cell_type": "markdown",
   "id": "3f9c70be",
   "metadata": {},
   "source": [
    "        * \n",
    "      * * \n",
    "    * * * \n",
    "  * * * * \n",
    "* * * * * "
   ]
  },
  {
   "cell_type": "code",
   "execution_count": 31,
   "id": "a8c1a689",
   "metadata": {},
   "outputs": [
    {
     "name": "stdout",
     "output_type": "stream",
     "text": [
      "5\n",
      "        * \n",
      "      * * \n",
      "    * * * \n",
      "  * * * * \n",
      "* * * * * \n"
     ]
    }
   ],
   "source": [
    "n=int(input())                          #n=5\n",
    "k = 2*n - 2 # spaces intiliazation      #spaces=8\n",
    "for i in range(0, n):                    #2,\n",
    "    for j in range(0, k):                # 0 to 8\n",
    "            print(end=\" \")               #print 8 space\n",
    "    for j in range(0, i+1):\n",
    "        print(\"* \", end=\"\")\n",
    "    k=k-2\n",
    "    print()\n",
    " "
   ]
  },
  {
   "cell_type": "code",
   "execution_count": null,
   "id": "9c497746",
   "metadata": {},
   "outputs": [],
   "source": []
  }
 ],
 "metadata": {
  "kernelspec": {
   "display_name": "Python 3.10.5 64-bit",
   "language": "python",
   "name": "python3"
  },
  "language_info": {
   "codemirror_mode": {
    "name": "ipython",
    "version": 3
   },
   "file_extension": ".py",
   "mimetype": "text/x-python",
   "name": "python",
   "nbconvert_exporter": "python",
   "pygments_lexer": "ipython3",
   "version": "3.10.5"
  },
  "vscode": {
   "interpreter": {
    "hash": "94b96a4f433cc0a752f751a165c8d55c3f142df5d068c08c27aade57f7b092a0"
   }
  }
 },
 "nbformat": 4,
 "nbformat_minor": 5
}
