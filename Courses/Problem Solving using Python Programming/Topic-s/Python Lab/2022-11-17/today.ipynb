{
 "cells": [
  {
   "cell_type": "markdown",
   "metadata": {},
   "source": [
    "4.\tGiven an integer n, create a matrix of size (n×n) and populate it as follows, with spaces between each character:\n",
    "•\tThe positions on the minor diagonal (from the upper right to the lower left corner) receive 1.\n",
    "•\tThe positions above this diagonal recieve 0.\n",
    "•\tThe positions below the diagonal receive 2.\n"
   ]
  },
  {
   "cell_type": "code",
   "execution_count": 32,
   "metadata": {},
   "outputs": [
    {
     "name": "stdout",
     "output_type": "stream",
     "text": [
      "0 0 1 \n",
      "0 1 2 \n",
      "1 2 2 \n"
     ]
    }
   ],
   "source": [
    "n = int(input())\n",
    "li = []\n",
    "for i in range(n):\n",
    "    li.append([])\n",
    "for i in range(n):\n",
    "    for i in range(n):\n",
    "        li[i].append(0)\n",
    "count = 0\n",
    "for i in range(len(li)):\n",
    "    for j in range(len(li)):\n",
    "        if j == len(li) - i - 1:\n",
    "            # print(i,j,li[i])\n",
    "            # count += 1\n",
    "            li[i][j] = 1\n",
    "            # print(i,j,li,count)\n",
    "        elif j > len(li) - i - 1:\n",
    "            li[i][j] = 2\n",
    "# 2print(count)\n",
    "# for i in range(len(li)):\n",
    "#     for j in R\n",
    "# print(li)\n",
    "for i in range(n):\n",
    "    for j in range(n):\n",
    "        print(li[i][j], end = \" \")\n",
    "    print()\n",
    "# print(count)\n"
   ]
  },
  {
   "cell_type": "markdown",
   "metadata": {},
   "source": [
    "5.\tSwap the columns: Given two positive integers m and n, m lines of n elements, giving an m×n matrix A, followed by two non-negative integers i and j less than n, swap columns i and j of A and print the result."
   ]
  },
  {
   "cell_type": "code",
   "execution_count": 39,
   "metadata": {},
   "outputs": [
    {
     "name": "stdout",
     "output_type": "stream",
     "text": [
      "12 11 13 14 \n",
      "22 21 23 24 \n",
      "32 31 33 34 \n"
     ]
    }
   ],
   "source": [
    "def swap_columns(arr,i,j):\n",
    "    for f in range(len(arr)):\n",
    "        arr[f][i],arr[f][j] = arr[f][j],arr[f][i]\n",
    "    return arr\n",
    "\n",
    "# m = int(input())\n",
    "# n = int(input())\n",
    "# li = []\n",
    "# for i in range(m):\n",
    "#     li.append([])\n",
    "# for i in range(m):\n",
    "#   li[i] = [int(x) for x in input().split()]\n",
    "arr = [[11,12,13,14],[21,22,23,24],[31,32,33,34]]\n",
    "# i = int(input())\n",
    "i = 0\n",
    "# j = int(input())\n",
    "j = 1\n",
    "swap_columns(arr,i,j)\n",
    "for p in range(len(arr)):\n",
    "    for q in range(len(arr[p])):\n",
    "        print(arr[p][q], end = \" \")\n",
    "    print()\n",
    "\n"
   ]
  },
  {
   "cell_type": "markdown",
   "metadata": {},
   "source": [
    "Alternative method."
   ]
  },
  {
   "cell_type": "code",
   "execution_count": 41,
   "metadata": {},
   "outputs": [
    {
     "name": "stdout",
     "output_type": "stream",
     "text": [
      "12 11 13 14 \n",
      "22 21 23 24 \n",
      "32 31 33 34 \n"
     ]
    }
   ],
   "source": [
    "def swap_columns(arr,i,j):\n",
    "    for f in range(len(arr)):\n",
    "        temp1 = arr[f][i]\n",
    "        temp2 = arr[f][j]\n",
    "        arr[f][j] = temp1\n",
    "        arr[f][i] = temp2\n",
    "    return arr\n",
    "\n",
    "# m = int(input())\n",
    "# n = int(input())\n",
    "# li = []\n",
    "# for i in range(m):\n",
    "#     li.append([])\n",
    "# for i in range(m):\n",
    "#   li[i] = [int(x) for x in input().split()]\n",
    "arr = [[11,12,13,14],[21,22,23,24],[31,32,33,34]]\n",
    "# i = int(input())\n",
    "i = 0\n",
    "# j = int(input())\n",
    "j = 1\n",
    "swap_columns(arr,i,j)\n",
    "for p in range(len(arr)):\n",
    "    for q in range(len(arr[p])):\n",
    "        print(arr[p][q], end = \" \")\n",
    "    print()"
   ]
  },
  {
   "cell_type": "markdown",
   "metadata": {},
   "source": [
    "6.\tWrite a Python program that accepts a string from user. Your program should create and display a new string where the first and last characters have been exchanged. For example if the user enters the string 'HELLO' then new string would be 'OELLH'."
   ]
  },
  {
   "cell_type": "code",
   "execution_count": 54,
   "metadata": {},
   "outputs": [
    {
     "name": "stdout",
     "output_type": "stream",
     "text": [
      "Original string is: HELLO WORLD \n",
      "New string is: DELLO WORLH\n"
     ]
    }
   ],
   "source": [
    "# org_str_k= input()\n",
    "org_str_k = \"HELLO WORLD\"\n",
    "org_str = []\n",
    "for i in org_str_k:\n",
    "    org_str.append(i)\n",
    "org_str[-1],org_str[0] = org_str[0],org_str[-1]\n",
    "new_str = \"\"\n",
    "for i in org_str:\n",
    "    new_str = new_str + i\n",
    "print(\"Original string is:\",org_str_k,\"\\nNew string is:\",new_str)\n"
   ]
  },
  {
   "cell_type": "markdown",
   "metadata": {},
   "source": [
    "7.\tWrite a Python program that accepts a string from user. Your program should create a new string by shifting one position to left. For example if the user enters the string 'examination 2021' then new string would be 'xamination 2021e'."
   ]
  },
  {
   "cell_type": "code",
   "execution_count": 59,
   "metadata": {},
   "outputs": [
    {
     "name": "stdout",
     "output_type": "stream",
     "text": [
      "Original string is: HELLO WORLD\n",
      "New string is: ELLO WORLDH\n"
     ]
    }
   ],
   "source": [
    "# org_str_k= input()\n",
    "org_str_k = \"HELLO WORLD\"\n",
    "print(\"Original string is:\",org_str_k)\n",
    "print(\"New string is: \", end = \"\")\n",
    "org_str = []\n",
    "for i in org_str_k:\n",
    "    org_str.append(i)\n",
    "for i in range(1, len(org_str)):\n",
    "    print(org_str[i], end = \"\")\n",
    "print(org_str[0])"
   ]
  },
  {
   "cell_type": "markdown",
   "metadata": {},
   "source": [
    "8.\tWrite a Python program that accepts a string from user. Your program should create a new string in reverse of first string and display it.\n",
    "For example if the user enters the string 'EXAM' then new string would be 'MAXE'\n"
   ]
  },
  {
   "cell_type": "code",
   "execution_count": 60,
   "metadata": {},
   "outputs": [
    {
     "name": "stdout",
     "output_type": "stream",
     "text": [
      "Original string is: HELLO WORLD\n",
      "New string is: DLROW OLLEH"
     ]
    }
   ],
   "source": [
    "# org_str_k= input()\n",
    "org_str_k = \"HELLO WORLD\"\n",
    "print(\"Original string is:\",org_str_k)\n",
    "print(\"New string is: \", end = \"\")\n",
    "org_str = []\n",
    "for i in org_str_k:\n",
    "    org_str.append(i)\n",
    "for i in range(len(org_str)-1,-1,-1):\n",
    "    print(org_str[i], end = \"\")"
   ]
  }
 ],
 "metadata": {
  "kernelspec": {
   "display_name": "Python 3.10.6 64-bit",
   "language": "python",
   "name": "python3"
  },
  "language_info": {
   "codemirror_mode": {
    "name": "ipython",
    "version": 3
   },
   "file_extension": ".py",
   "mimetype": "text/x-python",
   "name": "python",
   "nbconvert_exporter": "python",
   "pygments_lexer": "ipython3",
   "version": "3.10.6"
  },
  "orig_nbformat": 4,
  "vscode": {
   "interpreter": {
    "hash": "94b96a4f433cc0a752f751a165c8d55c3f142df5d068c08c27aade57f7b092a0"
   }
  }
 },
 "nbformat": 4,
 "nbformat_minor": 2
}
