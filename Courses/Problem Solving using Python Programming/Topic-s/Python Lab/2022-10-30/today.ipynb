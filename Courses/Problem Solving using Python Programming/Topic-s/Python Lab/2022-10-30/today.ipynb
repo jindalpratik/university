{
 "cells": [
  {
   "cell_type": "markdown",
   "metadata": {},
   "source": [
    "Armstrong number"
   ]
  },
  {
   "cell_type": "code",
   "execution_count": 3,
   "metadata": {},
   "outputs": [
    {
     "name": "stdout",
     "output_type": "stream",
     "text": [
      "false\n"
     ]
    }
   ],
   "source": [
    "def check_armstrong(initial_num):\n",
    "    calculate_armstrong = initial_num\n",
    "    power = len(str(initial_num))\n",
    "    the_number = 0 # abc = a**n + b**n + c**n\n",
    "    # print(3,power)\n",
    "    while calculate_armstrong != 0:\n",
    "        # print(calculate_armstrong)\n",
    "        the_number = the_number + ((calculate_armstrong%10)**power)\n",
    "        # print(the_number)\n",
    "        calculate_armstrong = (calculate_armstrong//10)\n",
    "        # print(calculate_armstrong//10)\n",
    "    if initial_num == the_number:\n",
    "        return True\n",
    "\n",
    "initial_num = int(input())\n",
    "if(check_armstrong(initial_num)):\n",
    "    print(\"true\")\n",
    "else:\n",
    "    print(\"false\")"
   ]
  },
  {
   "cell_type": "markdown",
   "metadata": {},
   "source": [
    "To print all prime numbers in an interval."
   ]
  },
  {
   "cell_type": "code",
   "execution_count": 7,
   "metadata": {},
   "outputs": [
    {
     "name": "stdout",
     "output_type": "stream",
     "text": [
      "5\n",
      "7\n",
      "11\n",
      "13\n",
      "17\n",
      "19\n",
      "23\n",
      "29\n",
      "31\n",
      "37\n",
      "41\n",
      "43\n",
      "47\n",
      "53\n",
      "59\n",
      "61\n",
      "67\n",
      "71\n",
      "73\n",
      "79\n",
      "83\n",
      "89\n",
      "97\n"
     ]
    }
   ],
   "source": [
    "start = int(input())\n",
    "end = int(input())\n",
    "for i in range(start, end+1):\n",
    "    n = 2\n",
    "    flag = True\n",
    "    while n < i:\n",
    "        if i%n == 0:\n",
    "            flag = False\n",
    "            break\n",
    "        n = n+1\n",
    "    if flag:\n",
    "        print(i)"
   ]
  },
  {
   "cell_type": "markdown",
   "metadata": {},
   "source": [
    "To check if fibonacci"
   ]
  },
  {
   "cell_type": "code",
   "execution_count": 10,
   "metadata": {},
   "outputs": [
    {
     "name": "stdout",
     "output_type": "stream",
     "text": [
      "true\n"
     ]
    }
   ],
   "source": [
    "def F(n):\n",
    "    a = 0\n",
    "    b = 1\n",
    "    sum = 1\n",
    "    while sum <= n:\n",
    "        a = b\n",
    "        b = sum\n",
    "        if sum == n:\n",
    "            return True\n",
    "        sum = a + b\n",
    "    else:\n",
    "        return False\n",
    "\n",
    "n = int(input())\n",
    "if(F(n)):\n",
    "    print(\"true\")\n",
    "else:\n",
    "    print(\"false\")"
   ]
  }
 ],
 "metadata": {
  "kernelspec": {
   "display_name": "Python 3.10.6 64-bit",
   "language": "python",
   "name": "python3"
  },
  "language_info": {
   "codemirror_mode": {
    "name": "ipython",
    "version": 3
   },
   "file_extension": ".py",
   "mimetype": "text/x-python",
   "name": "python",
   "nbconvert_exporter": "python",
   "pygments_lexer": "ipython3",
   "version": "3.10.6"
  },
  "orig_nbformat": 4,
  "vscode": {
   "interpreter": {
    "hash": "94b96a4f433cc0a752f751a165c8d55c3f142df5d068c08c27aade57f7b092a0"
   }
  }
 },
 "nbformat": 4,
 "nbformat_minor": 2
}
