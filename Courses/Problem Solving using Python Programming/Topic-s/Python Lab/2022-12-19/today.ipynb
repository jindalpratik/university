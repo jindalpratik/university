{
 "cells": [
  {
   "cell_type": "code",
   "execution_count": 3,
   "metadata": {},
   "outputs": [
    {
     "name": "stdout",
     "output_type": "stream",
     "text": [
      "The number is not in the list\n"
     ]
    }
   ],
   "source": [
    "def search(to_find):\n",
    "    for i in range(len(li)):\n",
    "        if li[i] == k:\n",
    "            print('The number',k, 'is at index:', i)\n",
    "            break\n",
    "    else:\n",
    "        print('The number',k, 'is not in the list')\n",
    "\n",
    "\n",
    "k = int(input('Enter the number you want to find: '))\n",
    "li = [11,23,45,56,67,89,354,45,8,15,26,37,87,15]\n",
    "search(k)"
   ]
  }
 ],
 "metadata": {
  "kernelspec": {
   "display_name": "Python 3",
   "language": "python",
   "name": "python3"
  },
  "language_info": {
   "codemirror_mode": {
    "name": "ipython",
    "version": 3
   },
   "file_extension": ".py",
   "mimetype": "text/x-python",
   "name": "python",
   "nbconvert_exporter": "python",
   "pygments_lexer": "ipython3",
   "version": "3.11.1 (tags/v3.11.1:a7a450f, Dec  6 2022, 19:58:39) [MSC v.1934 64 bit (AMD64)]"
  },
  "orig_nbformat": 4,
  "vscode": {
   "interpreter": {
    "hash": "8ae9822a8eed7c44f4c7b46bc3c1760ae711dcff8d14fc71f8bc73fcb116821b"
   }
  }
 },
 "nbformat": 4,
 "nbformat_minor": 2
}
