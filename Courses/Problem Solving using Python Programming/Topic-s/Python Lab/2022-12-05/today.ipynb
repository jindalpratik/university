{
 "cells": [
  {
   "cell_type": "markdown",
   "metadata": {},
   "source": [
    "No of occuremces using dict"
   ]
  },
  {
   "cell_type": "code",
   "execution_count": 5,
   "metadata": {},
   "outputs": [
    {
     "name": "stdout",
     "output_type": "stream",
     "text": [
      "{1: 8, 2: 4, 3: 1, 4: 1, 5: 7, 6: 1, 8: 1, 55: 1, 74: 1, 85: 1}\n",
      "1 : 8\n",
      "2 : 4\n",
      "3 : 1\n",
      "4 : 1\n",
      "5 : 7\n",
      "6 : 1\n",
      "8 : 1\n",
      "55 : 1\n",
      "74 : 1\n",
      "85 : 1\n"
     ]
    }
   ],
   "source": [
    "input = [1,1,1,1,1,2,2,2,3,5,5,5,4,5,6,5,1,5,2,5,1,1,85,8,74,55]\n",
    "input.sort()\n",
    "dict = {}\n",
    "for i in input:\n",
    "    dict[i] = dict.get(i, 0) + 1\n",
    "print(dict)\n",
    "for j in  dict:\n",
    "    print(j,\":\",dict[j])"
   ]
  }
 ],
 "metadata": {
  "kernelspec": {
   "display_name": "Python 3.11.1 64-bit",
   "language": "python",
   "name": "python3"
  },
  "language_info": {
   "codemirror_mode": {
    "name": "ipython",
    "version": 3
   },
   "file_extension": ".py",
   "mimetype": "text/x-python",
   "name": "python",
   "nbconvert_exporter": "python",
   "pygments_lexer": "ipython3",
   "version": "3.11.1 (tags/v3.11.1:a7a450f, Dec  6 2022, 19:58:39) [MSC v.1934 64 bit (AMD64)]"
  },
  "orig_nbformat": 4,
  "vscode": {
   "interpreter": {
    "hash": "8ae9822a8eed7c44f4c7b46bc3c1760ae711dcff8d14fc71f8bc73fcb116821b"
   }
  }
 },
 "nbformat": 4,
 "nbformat_minor": 2
}
