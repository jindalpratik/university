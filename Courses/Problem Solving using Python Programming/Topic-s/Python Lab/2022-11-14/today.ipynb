{
 "cells": [
  {
   "cell_type": "markdown",
   "metadata": {},
   "source": [
    "Add two matrix."
   ]
  },
  {
   "cell_type": "code",
   "execution_count": 13,
   "metadata": {},
   "outputs": [
    {
     "name": "stdout",
     "output_type": "stream",
     "text": [
      "Sum of the two matrix is: [[3, 5], [5, 7]]\n"
     ]
    }
   ],
   "source": [
    "arr1 = [[1,2],[2,3]]\n",
    "arr2 = [[2,3],[3,4]]\n",
    "sum_arr = [[0,0],[0,0]]\n",
    "for i in range(len(arr1)):\n",
    "    # temp_arr = []\n",
    "    for j in range(len(arr2)):\n",
    "        sum_arr[i][j] = (arr1[i][j] + arr2[i][j])\n",
    "print(\"Sum of the two matrix is:\",sum_arr)"
   ]
  },
  {
   "cell_type": "markdown",
   "metadata": {},
   "source": [
    "Multiply two matrixes."
   ]
  },
  {
   "cell_type": "code",
   "execution_count": 26,
   "metadata": {},
   "outputs": [
    {
     "name": "stdout",
     "output_type": "stream",
     "text": [
      "Multiplication fo the matrix is: [[5, 8, 11], [8, 13, 18], [14, 23, 32]]\n",
      "[1, 2]\n"
     ]
    }
   ],
   "source": [
    "arr1 = [[1,2],[2,3],[4,5]]\n",
    "arr2 = [[1,2,3],[2,3,4]]\n",
    "multiply_arr = []\n",
    "if len(arr1[0]) == len(arr2):\n",
    "    for i in range(len(arr1)):\n",
    "        temp_arr = []\n",
    "        for k in range(len(arr1)):\n",
    "            temp_num = 0\n",
    "            f = 0\n",
    "            for j in range(len(arr1[i])):\n",
    "                temp_num = temp_num + (arr1[i][j]*arr2[f][k])\n",
    "                f = f + 1\n",
    "            temp_arr.append(temp_num)\n",
    "        multiply_arr.append(temp_arr)\n",
    "    print(\"Multiplication fo the matrix is:\", multiply_arr)\n",
    "else:\n",
    "    print(\"Multiplication can't take place between these arrays\")\n",
    "\n"
   ]
  },
  {
   "cell_type": "markdown",
   "metadata": {},
   "source": [
    "Row and column Sum"
   ]
  },
  {
   "cell_type": "code",
   "execution_count": 1,
   "metadata": {},
   "outputs": [
    {
     "name": "stdout",
     "output_type": "stream",
     "text": [
      "Sum of row 1 is: 32\n",
      "Sum of row 2 is: 31\n",
      "Sum of row 3 is: 63\n",
      "Sum of col 1 is: 15\n",
      "Sum of col 2 is: 16\n",
      "Sum of col 3 is: 26\n",
      "Sum of col 4 is: 69\n"
     ]
    }
   ],
   "source": [
    "def row_sum(arr):\n",
    "    for i in range(len(arr)):\n",
    "        row_sum = 0\n",
    "        for f in range(len(arr[i])):\n",
    "            row_sum += arr[i][f]\n",
    "        print(\"Sum of row\",i+1,\"is:\",row_sum)\n",
    "\n",
    "def col_sum(arr):\n",
    "    for f in range(len(arr[0])):\n",
    "        col_sum = 0\n",
    "        for i in range(len(arr)):\n",
    "            col_sum += arr[i][f]\n",
    "        print(\"Sum of col\",f+1,\"is:\",col_sum)\n",
    "\n",
    "\n",
    "# arr = []\n",
    "# for i in range(int(input())):\n",
    "#     arr.append([int(x) for x in input().split()])\n",
    "arr = [[2,11,7,12],[5,2,9,15],[8,3,10,42]]\n",
    "row_sum(arr)\n",
    "col_sum(arr)\n"
   ]
  }
 ],
 "metadata": {
  "kernelspec": {
   "display_name": "Python 3.10.6 64-bit",
   "language": "python",
   "name": "python3"
  },
  "language_info": {
   "codemirror_mode": {
    "name": "ipython",
    "version": 3
   },
   "file_extension": ".py",
   "mimetype": "text/x-python",
   "name": "python",
   "nbconvert_exporter": "python",
   "pygments_lexer": "ipython3",
   "version": "3.10.6"
  },
  "orig_nbformat": 4,
  "vscode": {
   "interpreter": {
    "hash": "94b96a4f433cc0a752f751a165c8d55c3f142df5d068c08c27aade57f7b092a0"
   }
  }
 },
 "nbformat": 4,
 "nbformat_minor": 2
}
