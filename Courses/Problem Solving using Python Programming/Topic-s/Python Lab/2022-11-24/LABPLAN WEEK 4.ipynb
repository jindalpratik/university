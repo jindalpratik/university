{
 "cells": [
  {
   "cell_type": "markdown",
   "metadata": {},
   "source": [
    "1.\tWrite a Python program to replace last value of tuples in a list.  \n",
    "Sample list: [(10, 20, 40), (40, 50, 60), (70, 80, 90)]\n",
    "Expected Output: [(10, 20, 100), (40, 50, 100), (70, 80, 100)]\n"
   ]
  },
  {
   "cell_type": "code",
   "execution_count": 6,
   "metadata": {},
   "outputs": [
    {
     "name": "stdout",
     "output_type": "stream",
     "text": [
      "[(10, 20, 100), (40, 50, 100), (70, 80, 100)]\n"
     ]
    }
   ],
   "source": [
    "li = [(10, 20, 40), (40, 50, 60), (70, 80, 90)]\n",
    "ele = int(input('The element you want to replace in the tuple with: '))\n",
    "for i in range(len(li)):\n",
    "    li_temp  = list(li[i])\n",
    "    li_temp[-1] = ele\n",
    "    li[i] = tuple(li_temp)\n",
    "print(li)"
   ]
  },
  {
   "cell_type": "markdown",
   "metadata": {},
   "source": [
    "2.\tWrite a Python program to remove an empty tuple(s) from a list of tuples. \n",
    "Sample data: [(), (), ('',), ('a', 'b'), ('a', 'b', 'c'), ('d')]\n",
    "Expected output: [('',), ('a', 'b'), ('a', 'b', 'c'), 'd']\n"
   ]
  },
  {
   "cell_type": "code",
   "execution_count": 7,
   "metadata": {},
   "outputs": [
    {
     "name": "stdout",
     "output_type": "stream",
     "text": [
      "[('',), ('a', 'b'), ('a', 'b', 'c'), 'd']\n"
     ]
    }
   ],
   "source": [
    "li =  [(), (), ('',), ('a', 'b'), ('a', 'b', 'c'), ('d')]\n",
    "li_new = []\n",
    "for i in range(len(li)):\n",
    "    if li[i] != ():\n",
    "        li_new.append(li[i])\n",
    "print(li_new)"
   ]
  },
  {
   "cell_type": "markdown",
   "metadata": {},
   "source": [
    "3.\tWrite a Python program to check if a specified element presents in a tuple of tuples. \n",
    "Original list:\n",
    "(('Red', 'White', 'Blue'), ('Green', 'Pink', 'Purple'), ('Orange', 'Yellow', 'Lime'))\n",
    "Check if White present in said tuple of tuples!\n",
    "True\n",
    "Check if Olive present in said tuple of tuples!\n",
    "False\n"
   ]
  },
  {
   "cell_type": "code",
   "execution_count": 9,
   "metadata": {},
   "outputs": [
    {
     "name": "stdout",
     "output_type": "stream",
     "text": [
      "True\n"
     ]
    }
   ],
   "source": [
    "tup_1 = (('Red', 'White', 'Blue'), ('Green', 'Pink', 'Purple'), ('Orange', 'Yellow', 'Lime'))\n",
    "flag = False\n",
    "ele = input()\n",
    "for i in range(len(tup_1)):\n",
    "    for j in range(len(tup_1[i])):\n",
    "        if tup_1[i][j] == ele:\n",
    "            flag = True\n",
    "            break\n",
    "    if flag:\n",
    "        break\n",
    "print(flag)\n"
   ]
  },
  {
   "cell_type": "markdown",
   "metadata": {},
   "source": [
    "4.\tGiven a Tuple List, perform sort on basis of total digits in tuple.\n",
    "Examples:\n",
    "Input : test_list = [(3, 4, 6, 723), (1, 2), (134, 234, 34)] \n",
    "Output : [(1, 2), (3, 4, 6, 723), (134, 234, 34)] \n",
    "Explanation : 2 < 6 < 8, sorted by increasing total digits.\n",
    " \n",
    "Input : test_list = [(1, 2), (134, 234, 34)] \n",
    "Output : [(1, 2), (134, 234, 34)] \n",
    "Explanation : 2 < 8, sorted by increasing total digits. \n"
   ]
  },
  {
   "cell_type": "code",
   "execution_count": null,
   "metadata": {},
   "outputs": [],
   "source": [
    "test_list = [(3, 4, 6, 723), (1, 2), (134, 234, 34)] \n",
    "smallest_index = 0\n",
    "largest_count = 0\n",
    "for i in range(len(test_list)):\n",
    "    count = 0\n",
    "    for j in range(len(test_list[i])):\n",
    "        count += len(test_list[i][j])\n",
    "    if \n"
   ]
  }
 ],
 "metadata": {
  "kernelspec": {
   "display_name": "Python 3.10.6 64-bit",
   "language": "python",
   "name": "python3"
  },
  "language_info": {
   "codemirror_mode": {
    "name": "ipython",
    "version": 3
   },
   "file_extension": ".py",
   "mimetype": "text/x-python",
   "name": "python",
   "nbconvert_exporter": "python",
   "pygments_lexer": "ipython3",
   "version": "3.10.6"
  },
  "orig_nbformat": 4,
  "vscode": {
   "interpreter": {
    "hash": "94b96a4f433cc0a752f751a165c8d55c3f142df5d068c08c27aade57f7b092a0"
   }
  }
 },
 "nbformat": 4,
 "nbformat_minor": 2
}
