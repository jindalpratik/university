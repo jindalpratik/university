{
 "cells": [
  {
   "cell_type": "markdown",
   "metadata": {},
   "source": [
    "1. Write a program that accepts a list from user and print the alternate element\n",
    "of list."
   ]
  },
  {
   "cell_type": "code",
   "execution_count": 5,
   "metadata": {},
   "outputs": [
    {
     "name": "stdout",
     "output_type": "stream",
     "text": [
      "a\n",
      "c\n",
      "e\n"
     ]
    }
   ],
   "source": [
    "li = input(\"Please enter elements for the list with spaces: \").split()\n",
    "for i in range(0,len(li),2):\n",
    "    print(li[i])"
   ]
  },
  {
   "cell_type": "markdown",
   "metadata": {},
   "source": [
    "2. Write a program that accepts a list from user. Your program should reverse\n",
    "the content of list and display it. Do not use reverse() method."
   ]
  },
  {
   "cell_type": "code",
   "execution_count": 1,
   "metadata": {},
   "outputs": [
    {
     "name": "stdout",
     "output_type": "stream",
     "text": [
      "['6', '5', '4', '3', '2', '1']\n"
     ]
    }
   ],
   "source": [
    "li = input().split()\n",
    "rev_li = []\n",
    "for i in li[::-1]:\n",
    "    rev_li.append(i)\n",
    "print(rev_li)"
   ]
  },
  {
   "cell_type": "markdown",
   "metadata": {},
   "source": [
    "6. Write a program that reads a string from the user containing a date in the\n",
    "form mm/dd/yyyy. It should print the date in the form March 12, 2021."
   ]
  },
  {
   "cell_type": "code",
   "execution_count": 16,
   "metadata": {},
   "outputs": [
    {
     "name": "stdout",
     "output_type": "stream",
     "text": [
      "December 22, 2022\n"
     ]
    }
   ],
   "source": [
    "li = [int(x) for x in input().split(\"/\")]\n",
    "dict = {1:\"January\", 2:\"Februrary\", 3:\"March\", 4:\"April\", 5:\"May\", 6:\"June\", 7:\"July\", 8:\"August\", 9:\"September\", 10:\"October\", 11:\"November\", 12:\"December\"}\n",
    "print(dict[li[0]],li[1],end = \", \")\n",
    "print(li[2])"
   ]
  },
  {
   "cell_type": "markdown",
   "metadata": {},
   "source": [
    "7. Write a program with a function that accepts a string from keyboard and\n",
    "create a new string after converting character of each word capitalized. For\n",
    "instance, if the sentence is &quot;stop and smell the roses.&quot; the output should be &quot;Stop\n",
    "And Smell The Roses\""
   ]
  },
  {
   "cell_type": "code",
   "execution_count": 2,
   "metadata": {},
   "outputs": [
    {
     "name": "stdout",
     "output_type": "stream",
     "text": [
      "Stop And Smell The Roses. "
     ]
    }
   ],
   "source": [
    "li = input().split()\n",
    "for i in range(len(li)):\n",
    "    for f in range(len(li[i])):\n",
    "        if f == 0:\n",
    "            print(chr(ord(li[i][f])-32),end = \"\")\n",
    "        else:\n",
    "            print(li[i][f], end = \"\")\n",
    "    print(\" \",end = \"\")"
   ]
  }
 ],
 "metadata": {
  "kernelspec": {
   "display_name": "Python 3",
   "language": "python",
   "name": "python3"
  },
  "language_info": {
   "codemirror_mode": {
    "name": "ipython",
    "version": 3
   },
   "file_extension": ".py",
   "mimetype": "text/x-python",
   "name": "python",
   "nbconvert_exporter": "python",
   "pygments_lexer": "ipython3",
   "version": "3.11.1 (tags/v3.11.1:a7a450f, Dec  6 2022, 19:58:39) [MSC v.1934 64 bit (AMD64)]"
  },
  "orig_nbformat": 4,
  "vscode": {
   "interpreter": {
    "hash": "8ae9822a8eed7c44f4c7b46bc3c1760ae711dcff8d14fc71f8bc73fcb116821b"
   }
  }
 },
 "nbformat": 4,
 "nbformat_minor": 2
}
