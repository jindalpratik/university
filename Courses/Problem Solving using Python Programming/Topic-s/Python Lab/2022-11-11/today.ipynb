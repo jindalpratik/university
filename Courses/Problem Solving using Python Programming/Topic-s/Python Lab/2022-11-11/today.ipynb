{
 "cells": [
  {
   "cell_type": "markdown",
   "metadata": {},
   "source": [
    "3. Find and display the largest number of a list without using built-in function\n",
    "max(). Your program should ask the user to input values in list from keyboard."
   ]
  },
  {
   "cell_type": "code",
   "execution_count": 10,
   "metadata": {},
   "outputs": [
    {
     "name": "stdout",
     "output_type": "stream",
     "text": [
      "8\n"
     ]
    }
   ],
   "source": [
    "li = [int(x) for x in input().split()]\n",
    "\n",
    "# print(li)\n",
    "# largest = li[0]\n",
    "# for i in li:\n",
    "#     # print(i)\n",
    "#     if i > largest:\n",
    "#         largest = i\n",
    "# print(largest)\n",
    "\n",
    "index = 0\n",
    "for i in range(len(li[1:])):\n",
    "    if li[i] > li[index]:\n",
    "        index = i\n",
    "print(li[index])\n",
    "\n"
   ]
  },
  {
   "cell_type": "markdown",
   "metadata": {},
   "source": [
    "4. Write a program that rotates the element of a list so that the element at the\n",
    "first index moves to the second index, the element in the second index moves to\n",
    "the third index, etc., and the element in the last index moves to the first index."
   ]
  },
  {
   "cell_type": "code",
   "execution_count": 8,
   "metadata": {},
   "outputs": [
    {
     "name": "stdout",
     "output_type": "stream",
     "text": [
      "6 1 2 3 4 5 "
     ]
    }
   ],
   "source": [
    "li = input().split()\n",
    "# for n in range(0,-len(li)+1,-1):\n",
    "#     li[n],li[n-1] = li[n-1],li[n]\n",
    "# print(li)\n",
    "\n",
    "print(li[-1],end = \" \")\n",
    "for i in li[:len(li)-1]:\n",
    "    print(i, end = \" \")\n",
    "\n"
   ]
  },
  {
   "cell_type": "markdown",
   "metadata": {},
   "source": [
    "5. Write a program that input a string and ask user to delete a given word from a\n",
    "string."
   ]
  },
  {
   "cell_type": "code",
   "execution_count": 15,
   "metadata": {},
   "outputs": [
    {
     "name": "stdout",
     "output_type": "stream",
     "text": [
      "dijn ej fjef ijenbf je inv wie iv  \t## Deleted word: abc\n"
     ]
    }
   ],
   "source": [
    "li_s = input().split()\n",
    "delete = input(\"Please enter the word you would like to delete: \")\n",
    "new_str = \"\"\n",
    "for i in li_s:\n",
    "    if i == delete:\n",
    "        continue\n",
    "    else:\n",
    "        new_str = new_str + i + \" \"\n",
    "print(new_str, \"\\t## Deleted word:\", delete)"
   ]
  }
 ],
 "metadata": {
  "kernelspec": {
   "display_name": "Python 3",
   "language": "python",
   "name": "python3"
  },
  "language_info": {
   "codemirror_mode": {
    "name": "ipython",
    "version": 3
   },
   "file_extension": ".py",
   "mimetype": "text/x-python",
   "name": "python",
   "nbconvert_exporter": "python",
   "pygments_lexer": "ipython3",
   "version": "3.11.1 (tags/v3.11.1:a7a450f, Dec  6 2022, 19:58:39) [MSC v.1934 64 bit (AMD64)]"
  },
  "orig_nbformat": 4,
  "vscode": {
   "interpreter": {
    "hash": "8ae9822a8eed7c44f4c7b46bc3c1760ae711dcff8d14fc71f8bc73fcb116821b"
   }
  }
 },
 "nbformat": 4,
 "nbformat_minor": 2
}
