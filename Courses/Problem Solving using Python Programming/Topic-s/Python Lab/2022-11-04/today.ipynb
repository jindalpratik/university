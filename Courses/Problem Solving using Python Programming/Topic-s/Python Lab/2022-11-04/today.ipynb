{
 "cells": [
  {
   "cell_type": "markdown",
   "metadata": {},
   "source": [
    "Write a programme to check if element exists in a list."
   ]
  },
  {
   "cell_type": "code",
   "execution_count": 11,
   "metadata": {},
   "outputs": [
    {
     "name": "stdout",
     "output_type": "stream",
     "text": [
      "2 exists in the list\n"
     ]
    }
   ],
   "source": [
    "li_n = [x for x in input().split()]\n",
    "ele = input()\n",
    "for i in li_n:\n",
    "    if ele == i:\n",
    "        print(ele,\"exists in the list\")\n",
    "        break\n",
    "else:\n",
    "    print(\"does not exist in list\")\n"
   ]
  },
  {
   "cell_type": "markdown",
   "metadata": {},
   "source": [
    "Write a python programme to find sum of elements in a list."
   ]
  },
  {
   "cell_type": "code",
   "execution_count": 9,
   "metadata": {},
   "outputs": [
    {
     "name": "stdout",
     "output_type": "stream",
     "text": [
      "21\n"
     ]
    }
   ],
   "source": [
    "li_n = [int(x) for x in input().split()]\n",
    "sum = 0\n",
    "for ele in li_n:\n",
    "    sum = sum + ele\n",
    "print(sum)"
   ]
  },
  {
   "cell_type": "markdown",
   "metadata": {},
   "source": [
    "Write a python programm to find second largest number in a list."
   ]
  },
  {
   "cell_type": "code",
   "execution_count": 8,
   "metadata": {},
   "outputs": [
    {
     "name": "stdout",
     "output_type": "stream",
     "text": [
      "45\n"
     ]
    }
   ],
   "source": [
    "li_n = [int(x) for x in input().split()]\n",
    "li_n.sort()\n",
    "li = []\n",
    "for ele in li_n:\n",
    "    # print(ele)\n",
    "    if ele not in li:\n",
    "        li.append(ele)\n",
    "print(li[-2])\n"
   ]
  }
 ],
 "metadata": {
  "kernelspec": {
   "display_name": "Python 3",
   "language": "python",
   "name": "python3"
  },
  "language_info": {
   "codemirror_mode": {
    "name": "ipython",
    "version": 3
   },
   "file_extension": ".py",
   "mimetype": "text/x-python",
   "name": "python",
   "nbconvert_exporter": "python",
   "pygments_lexer": "ipython3",
   "version": "3.11.1 (tags/v3.11.1:a7a450f, Dec  6 2022, 19:58:39) [MSC v.1934 64 bit (AMD64)]"
  },
  "orig_nbformat": 4,
  "vscode": {
   "interpreter": {
    "hash": "8ae9822a8eed7c44f4c7b46bc3c1760ae711dcff8d14fc71f8bc73fcb116821b"
   }
  }
 },
 "nbformat": 4,
 "nbformat_minor": 2
}
