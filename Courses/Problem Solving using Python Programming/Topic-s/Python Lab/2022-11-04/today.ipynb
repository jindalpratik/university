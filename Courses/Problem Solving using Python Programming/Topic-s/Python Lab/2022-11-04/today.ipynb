{
 "cells": [
  {
   "cell_type": "markdown",
   "metadata": {},
   "source": [
    "Write a programme to check if element exists in a list."
   ]
  },
  {
   "cell_type": "code",
   "execution_count": 11,
   "metadata": {},
   "outputs": [
    {
     "name": "stdout",
     "output_type": "stream",
     "text": [
      "2 exists in the list\n"
     ]
    }
   ],
   "source": [
    "li_n = [x for x in input().split()]\n",
    "ele = input()\n",
    "for i in li_n:\n",
    "    if ele == i:\n",
    "        print(ele,\"exists in the list\")\n",
    "        break\n",
    "else:\n",
    "    print(\"does not exist in list\")\n"
   ]
  },
  {
   "cell_type": "markdown",
   "metadata": {},
   "source": [
    "Write a python programme to find sum of elements in a list."
   ]
  },
  {
   "cell_type": "code",
   "execution_count": 9,
   "metadata": {},
   "outputs": [
    {
     "name": "stdout",
     "output_type": "stream",
     "text": [
      "21\n"
     ]
    }
   ],
   "source": [
    "li_n = [int(x) for x in input().split()]\n",
    "sum = 0\n",
    "for ele in li_n:\n",
    "    sum = sum + ele\n",
    "print(sum)"
   ]
  },
  {
   "cell_type": "markdown",
   "metadata": {},
   "source": [
    "Write a python programm to find second largest number in a list."
   ]
  },
  {
   "cell_type": "code",
   "execution_count": 8,
   "metadata": {},
   "outputs": [
    {
     "name": "stdout",
     "output_type": "stream",
     "text": [
      "45\n"
     ]
    }
   ],
   "source": [
    "li_n = [int(x) for x in input().split()]\n",
    "li_n.sort()\n",
    "li = []\n",
    "for ele in li_n:\n",
    "    # print(ele)\n",
    "    if ele not in li:\n",
    "        li.append(ele)\n",
    "print(li[-2])\n"
   ]
  }
 ],
 "metadata": {
  "kernelspec": {
   "display_name": "Python 3.10.6 64-bit",
   "language": "python",
   "name": "python3"
  },
  "language_info": {
   "codemirror_mode": {
    "name": "ipython",
    "version": 3
   },
   "file_extension": ".py",
   "mimetype": "text/x-python",
   "name": "python",
   "nbconvert_exporter": "python",
   "pygments_lexer": "ipython3",
   "version": "3.10.6"
  },
  "orig_nbformat": 4,
  "vscode": {
   "interpreter": {
    "hash": "94b96a4f433cc0a752f751a165c8d55c3f142df5d068c08c27aade57f7b092a0"
   }
  }
 },
 "nbformat": 4,
 "nbformat_minor": 2
}
