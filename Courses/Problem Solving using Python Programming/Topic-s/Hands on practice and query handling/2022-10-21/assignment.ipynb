{
 "cells": [
  {
   "cell_type": "markdown",
   "metadata": {},
   "source": [
    "## 1. Write a Python function to multiply all the numbers in a list."
   ]
  },
  {
   "cell_type": "code",
   "execution_count": 2,
   "metadata": {},
   "outputs": [
    {
     "name": "stdout",
     "output_type": "stream",
     "text": [
      "-336\n"
     ]
    }
   ],
   "source": [
    "def multiply_list(a):\n",
    "    runing_multiple = 1\n",
    "    for i in a:\n",
    "        runing_multiple *= i\n",
    "    return runing_multiple\n",
    "\n",
    "a = (8, 2, 3, -1, 7)\n",
    "print(multiply_list(a))\n"
   ]
  },
  {
   "cell_type": "markdown",
   "metadata": {},
   "source": [
    "## 2. Write a Python program to reverse a string."
   ]
  },
  {
   "cell_type": "code",
   "execution_count": 6,
   "metadata": {},
   "outputs": [
    {
     "name": "stdout",
     "output_type": "stream",
     "text": [
      "aDSgvdf51z6gv1r6\n",
      "6r1vg6z15fdvgSDa\n"
     ]
    }
   ],
   "source": [
    "def rev_str(x):\n",
    "    index = len(x)\n",
    "    n = \"\"\n",
    "    for i in range(index - 1, -1, -1):\n",
    "        n = n + x[i]\n",
    "    print(n)\n",
    "\n",
    "input_str = input()\n",
    "# print(input_str)\n",
    "rev_str(input_str)"
   ]
  },
  {
   "cell_type": "markdown",
   "metadata": {},
   "source": [
    "## 3. Write a Python function to calculate the factorial of a number (a non-negative integer)."
   ]
  },
  {
   "cell_type": "code",
   "execution_count": 12,
   "metadata": {},
   "outputs": [
    {
     "name": "stdout",
     "output_type": "stream",
     "text": [
      "24\n"
     ]
    }
   ],
   "source": [
    "def find_factorial(n):\n",
    "    x = 1\n",
    "    for i in range(2,n + 1):\n",
    "        x = x*i\n",
    "    print(x)\n",
    "\n",
    "n = int(input())\n",
    "find_factorial(n)"
   ]
  },
  {
   "cell_type": "markdown",
   "metadata": {},
   "source": [
    "## 4. Write a Python function to check whether a number falls in a given range. "
   ]
  },
  {
   "cell_type": "code",
   "execution_count": 15,
   "metadata": {},
   "outputs": [
    {
     "name": "stdout",
     "output_type": "stream",
     "text": [
      "In range.\n"
     ]
    }
   ],
   "source": [
    "def check_if_in_range(a,b,c):\n",
    "    if b <= c:\n",
    "        if a >= b and a <= c:\n",
    "            print(\"In range.\")\n",
    "        else:\n",
    "            print(\"Not in range.\")\n",
    "    else:\n",
    "        if a >= c and a <= b:\n",
    "            print(\"In range.\")\n",
    "        else:\n",
    "            print(\"Not in range.\")\n",
    "\n",
    "the_num = int(input())\n",
    "range1 = int(input())\n",
    "range2 = int(input())\n",
    "check_if_in_range(the_num,range1,range2)\n"
   ]
  },
  {
   "cell_type": "markdown",
   "metadata": {},
   "source": [
    "## 5. Write a Python function that accepts a string and calculate the number of upper case letters and lower case letters."
   ]
  },
  {
   "cell_type": "code",
   "execution_count": 24,
   "metadata": {},
   "outputs": [
    {
     "name": "stdout",
     "output_type": "stream",
     "text": [
      "No. of Upper case characters : 5\n",
      "No. of Lower case characters : 4\n"
     ]
    }
   ],
   "source": [
    "def calculate_chr(x):\n",
    "    index = len(x)\n",
    "    upper_case = 0\n",
    "    lower_case = 0\n",
    "    for i in range(index):\n",
    "        # print(x[i])\n",
    "        # print(type(x[i]))\n",
    "        if ord(x[i]) >= ord(\"a\") and ord(x[i]) <= ord(\"z\"):\n",
    "            lower_case += 1\n",
    "        else:\n",
    "            upper_case += 1\n",
    "    print(\"No. of Upper case characters :\", upper_case)\n",
    "    print(\"No. of Lower case characters :\", lower_case)\n",
    "\n",
    "input_str = input()\n",
    "calculate_chr(input_str)"
   ]
  },
  {
   "cell_type": "markdown",
   "metadata": {},
   "source": [
    "## 6. Write a Python function that takes a list and returns a new list with unique elements of the first list."
   ]
  },
  {
   "cell_type": "code",
   "execution_count": 2,
   "metadata": {},
   "outputs": [
    {
     "name": "stdout",
     "output_type": "stream",
     "text": [
      "[1, 2, 3, 4, 5]\n"
     ]
    }
   ],
   "source": [
    "def find_unique(l):\n",
    "    x = []\n",
    "    for a in l:\n",
    "        if a not in x:\n",
    "            x.append(a)\n",
    "    return x\n",
    "\n",
    "sample_list = [1,2,3,3,3,3,4,5]\n",
    "print(find_unique(sample_list))"
   ]
  },
  {
   "cell_type": "markdown",
   "metadata": {},
   "source": []
  }
 ],
 "metadata": {
  "kernelspec": {
   "display_name": "Python 3.10.5 64-bit",
   "language": "python",
   "name": "python3"
  },
  "language_info": {
   "codemirror_mode": {
    "name": "ipython",
    "version": 3
   },
   "file_extension": ".py",
   "mimetype": "text/x-python",
   "name": "python",
   "nbconvert_exporter": "python",
   "pygments_lexer": "ipython3",
   "version": "3.10.6"
  },
  "orig_nbformat": 4,
  "vscode": {
   "interpreter": {
    "hash": "94b96a4f433cc0a752f751a165c8d55c3f142df5d068c08c27aade57f7b092a0"
   }
  }
 },
 "nbformat": 4,
 "nbformat_minor": 2
}
