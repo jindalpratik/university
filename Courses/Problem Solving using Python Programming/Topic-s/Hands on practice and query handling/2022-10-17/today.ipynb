{
 "cells": [
  {
   "cell_type": "markdown",
   "metadata": {},
   "source": [
    "### Star paterns."
   ]
  },
  {
   "cell_type": "code",
   "execution_count": 1,
   "metadata": {},
   "outputs": [
    {
     "name": "stdout",
     "output_type": "stream",
     "text": [
      "   *\n",
      "  ***\n",
      " *****\n",
      "*******\n"
     ]
    }
   ],
   "source": [
    "N = int(input())\n",
    "i = 1\n",
    "while i <= N:\n",
    "    spaces = 1\n",
    "    while spaces <= N-i:\n",
    "        print(\" \",end = \"\")\n",
    "        spaces = spaces + 1\n",
    "    numbers = 1\n",
    "    while numbers <= (i*2)-1:\n",
    "        print(\"*\", end = \"\")\n",
    "        numbers = numbers + 1\n",
    "    print()\n",
    "    i = i + 1"
   ]
  },
  {
   "cell_type": "markdown",
   "metadata": {},
   "source": [
    "# Diamond shaped star."
   ]
  },
  {
   "cell_type": "code",
   "execution_count": null,
   "metadata": {},
   "outputs": [],
   "source": [
    "n = int(input())\n",
    "if n%2 != 0:\n",
    "    for i in range(1,n//2 + 2):\n",
    "        # print(j)\n",
    "        spaces = 1\n",
    "        while spaces <= (n//2 - i + 1):\n",
    "            print(\" \", end = \"\")\n",
    "            spaces = spaces + 1\n",
    "        j = 1\n",
    "        while j <= (i*2)-1:\n",
    "            print(\"*\", end = \"\")\n",
    "            j = j + 1\n",
    "        print()\n",
    "    for i in range(1, n - n//2):\n",
    "        # print(j)\n",
    "        spaces = n//2\n",
    "        while spaces >= (n//2 - i + 1):\n",
    "            print(\" \", end = \"\")\n",
    "            spaces = spaces - 1\n",
    "        j = 1\n",
    "        while j <= ((n - n//2) - i)*2 - 1:\n",
    "            print(\"*\", end = \"\")\n",
    "            j = j + 1\n",
    "        print()\n",
    "else:\n",
    "    print(\"not an odd number\")"
   ]
  }
 ],
 "metadata": {
  "kernelspec": {
   "display_name": "Python 3.10.5 64-bit",
   "language": "python",
   "name": "python3"
  },
  "language_info": {
   "codemirror_mode": {
    "name": "ipython",
    "version": 3
   },
   "file_extension": ".py",
   "mimetype": "text/x-python",
   "name": "python",
   "nbconvert_exporter": "python",
   "pygments_lexer": "ipython3",
   "version": "3.10.6"
  },
  "orig_nbformat": 4,
  "vscode": {
   "interpreter": {
    "hash": "94b96a4f433cc0a752f751a165c8d55c3f142df5d068c08c27aade57f7b092a0"
   }
  }
 },
 "nbformat": 4,
 "nbformat_minor": 2
}
