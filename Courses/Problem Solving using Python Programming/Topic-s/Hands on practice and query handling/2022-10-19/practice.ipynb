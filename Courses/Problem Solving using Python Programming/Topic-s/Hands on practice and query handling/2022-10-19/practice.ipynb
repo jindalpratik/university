{
 "cells": [
  {
   "cell_type": "markdown",
   "metadata": {},
   "source": [
    "# Multiply numbers in a list."
   ]
  },
  {
   "cell_type": "code",
   "execution_count": 2,
   "metadata": {},
   "outputs": [
    {
     "name": "stdout",
     "output_type": "stream",
     "text": [
      "-336\n"
     ]
    }
   ],
   "source": [
    "def multiply_list(args):\n",
    "    t = 1\n",
    "    for i in args:\n",
    "        t = t * i\n",
    "    print(t)\n",
    "\n",
    "a = (8, 2, 3, -1 ,7)\n",
    "multiply_list(a)"
   ]
  },
  {
   "cell_type": "markdown",
   "metadata": {},
   "source": [
    "# Print all even numbers between two numbers between two numbers."
   ]
  },
  {
   "cell_type": "code",
   "execution_count": 2,
   "metadata": {},
   "outputs": [
    {
     "name": "stdout",
     "output_type": "stream",
     "text": [
      "4\n",
      "6\n",
      "8\n"
     ]
    }
   ],
   "source": [
    "n_start = (int(input()) + 1)\n",
    "n_end = (int(input()) - 1)\n",
    "i = n_start\n",
    "while i <= n_end:\n",
    "    if i % 2 == 0:\n",
    "        print(i)\n",
    "    i = i + 1"
   ]
  },
  {
   "cell_type": "markdown",
   "metadata": {},
   "source": [
    "# with any number being larger."
   ]
  },
  {
   "cell_type": "code",
   "execution_count": 4,
   "metadata": {},
   "outputs": [
    {
     "name": "stdout",
     "output_type": "stream",
     "text": [
      "12\n",
      "14\n",
      "16\n",
      "18\n"
     ]
    }
   ],
   "source": [
    "num1 = int(input())\n",
    "num2 = int(input())\n",
    "if num1 < num2:\n",
    "    num1 = num1 + 1\n",
    "    num2 = num2 - 1\n",
    "    i = num1\n",
    "    while i <= num2:\n",
    "        if i % 2 == 0:\n",
    "            print(i)\n",
    "        i = i + 1\n",
    "else:\n",
    "    num1 = num1 - 1\n",
    "    num2 = num2 + 1\n",
    "    i = num2\n",
    "    while i <= num1:\n",
    "        if i % 2 == 0:\n",
    "            print(i)\n",
    "        i = i + 1    "
   ]
  }
 ],
 "metadata": {
  "kernelspec": {
   "display_name": "Python 3.10.5 64-bit",
   "language": "python",
   "name": "python3"
  },
  "language_info": {
   "codemirror_mode": {
    "name": "ipython",
    "version": 3
   },
   "file_extension": ".py",
   "mimetype": "text/x-python",
   "name": "python",
   "nbconvert_exporter": "python",
   "pygments_lexer": "ipython3",
   "version": "3.10.5"
  },
  "orig_nbformat": 4,
  "vscode": {
   "interpreter": {
    "hash": "94b96a4f433cc0a752f751a165c8d55c3f142df5d068c08c27aade57f7b092a0"
   }
  }
 },
 "nbformat": 4,
 "nbformat_minor": 2
}
