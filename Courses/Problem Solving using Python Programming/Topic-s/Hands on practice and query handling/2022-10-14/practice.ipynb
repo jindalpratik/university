{
 "cells": [
  {
   "cell_type": "markdown",
   "metadata": {},
   "source": [
    "### 5 colours print with for loop and while loop.\n"
   ]
  },
  {
   "cell_type": "code",
   "execution_count": 2,
   "metadata": {},
   "outputs": [
    {
     "name": "stdout",
     "output_type": "stream",
     "text": [
      "yellow\n",
      "brown\n",
      "purple\n",
      "green\n",
      "orange\n"
     ]
    }
   ],
   "source": [
    "colors = [\"yellow\", \"brown\", \"purple\", \"green\", \"orange\"]\n",
    "for n in colors:\n",
    "    print(n)"
   ]
  },
  {
   "cell_type": "code",
   "execution_count": 3,
   "metadata": {},
   "outputs": [
    {
     "name": "stdout",
     "output_type": "stream",
     "text": [
      "yellow\n",
      "brown\n",
      "purple\n",
      "green\n",
      "orange\n"
     ]
    }
   ],
   "source": [
    "colors = [\"yellow\", \"brown\", \"purple\", \"green\", \"orange\"]\n",
    "number = len(colors)\n",
    "f = 1\n",
    "while f <= number:\n",
    "    print(colors[f - 1])\n",
    "    f = f + 1\n"
   ]
  },
  {
   "cell_type": "markdown",
   "metadata": {},
   "source": [
    "1 - 100 even numbers."
   ]
  },
  {
   "cell_type": "code",
   "execution_count": 19,
   "metadata": {},
   "outputs": [
    {
     "name": "stdout",
     "output_type": "stream",
     "text": [
      "0\t2\t4\t6\t8\t10\t12\t14\t16\t18\t20\t22\t24\t26\t28\t30\t32\t34\t36\t38\t40\t42\t44\t46\t48\t50\t52\t54\t56\t58\t60\t62\t64\t66\t68\t70\t72\t74\t76\t78\t80\t82\t84\t86\t88\t90\t92\t94\t96\t98\t"
     ]
    }
   ],
   "source": [
    "for i in range(100):\n",
    "    if i%2 == 0:\n",
    "        print(i, end = \"\\t\")"
   ]
  },
  {
   "cell_type": "code",
   "execution_count": 18,
   "metadata": {},
   "outputs": [
    {
     "name": "stdout",
     "output_type": "stream",
     "text": [
      "2\t4\t6\t8\t10\t12\t14\t16\t18\t20\t22\t24\t26\t28\t30\t32\t34\t36\t38\t40\t42\t44\t46\t48\t50\t52\t54\t56\t58\t60\t62\t64\t66\t68\t70\t72\t74\t76\t78\t80\t82\t84\t86\t88\t90\t92\t94\t96\t98\t"
     ]
    }
   ],
   "source": [
    "for i in range(1 , 100):\n",
    "    if i%2 == 0:\n",
    "        print(i, end = \"\\t\")"
   ]
  },
  {
   "cell_type": "code",
   "execution_count": 17,
   "metadata": {},
   "outputs": [
    {
     "name": "stdout",
     "output_type": "stream",
     "text": [
      "2\t4\t6\t8\t10\t12\t14\t16\t18\t20\t22\t24\t26\t28\t30\t32\t34\t36\t38\t40\t42\t44\t46\t48\t50\t52\t54\t56\t58\t60\t62\t64\t66\t68\t70\t72\t74\t76\t78\t80\t82\t84\t86\t88\t90\t92\t94\t96\t98\t"
     ]
    }
   ],
   "source": [
    "for i in range(2 , 100, 2):\n",
    "    print(i, end = \"\\t\")"
   ]
  },
  {
   "cell_type": "markdown",
   "metadata": {},
   "source": [
    "### Even odd numbers."
   ]
  },
  {
   "cell_type": "code",
   "execution_count": 1,
   "metadata": {},
   "outputs": [
    {
     "name": "stdout",
     "output_type": "stream",
     "text": [
      "4\n",
      "5\n"
     ]
    }
   ],
   "source": [
    "numbers = [1,2,3,4,5,6,7,8,9]\n",
    "even_num = 0\n",
    "odd_num = 0\n",
    "for i in numbers:\n",
    "    if i%2 == 0:\n",
    "        even_num+=1\n",
    "    else:\n",
    "        odd_num+=1\n",
    "print(even_num)\n",
    "print(odd_num)"
   ]
  },
  {
   "cell_type": "markdown",
   "metadata": {},
   "source": [
    "### Print a pattern."
   ]
  },
  {
   "cell_type": "code",
   "execution_count": 33,
   "metadata": {},
   "outputs": [
    {
     "name": "stdout",
     "output_type": "stream",
     "text": [
      "*\n",
      "**\n",
      "***\n",
      "****\n",
      "*****\n",
      "******\n",
      "*****\n",
      "****\n",
      "***\n",
      "**\n",
      "*\n"
     ]
    }
   ],
   "source": [
    "n = int(input())\n",
    "if n%2 != 0:\n",
    "    for i in range(1,n//2 + 2):\n",
    "        j = 1\n",
    "        # print(j)\n",
    "        while j <= i:\n",
    "            print(\"*\", end = \"\")\n",
    "            j = j + 1\n",
    "        print()\n",
    "    for i in range(1, n - n//2):\n",
    "        j = 1\n",
    "        # print(j)\n",
    "        while j <= (n - n//2) - i:\n",
    "            print(\"*\", end = \"\")\n",
    "            j = j + 1\n",
    "        print()\n",
    "else:\n",
    "    print(\"not an odd number\")\n",
    "\n",
    "\n"
   ]
  }
 ],
 "metadata": {
  "kernelspec": {
   "display_name": "Python 3.10.5 64-bit",
   "language": "python",
   "name": "python3"
  },
  "language_info": {
   "codemirror_mode": {
    "name": "ipython",
    "version": 3
   },
   "file_extension": ".py",
   "mimetype": "text/x-python",
   "name": "python",
   "nbconvert_exporter": "python",
   "pygments_lexer": "ipython3",
   "version": "3.10.5"
  },
  "orig_nbformat": 4,
  "vscode": {
   "interpreter": {
    "hash": "94b96a4f433cc0a752f751a165c8d55c3f142df5d068c08c27aade57f7b092a0"
   }
  }
 },
 "nbformat": 4,
 "nbformat_minor": 2
}
