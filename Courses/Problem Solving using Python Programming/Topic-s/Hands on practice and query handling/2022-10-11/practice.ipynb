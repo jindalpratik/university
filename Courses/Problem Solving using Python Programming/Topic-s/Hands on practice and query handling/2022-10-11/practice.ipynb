{
 "cells": [
  {
   "cell_type": "markdown",
   "metadata": {},
   "source": [
    "# Basic arithmetic operators."
   ]
  },
  {
   "cell_type": "code",
   "execution_count": null,
   "metadata": {},
   "outputs": [
    {
     "name": "stdout",
     "output_type": "stream",
     "text": [
      "15.7\n",
      "7.1000000000000005\n",
      "49.019999999999996\n",
      "    2.6512\n",
      "2.0\n",
      "2.8000000000000007\n",
      "35050.229079108474\n"
     ]
    }
   ],
   "source": [
    "x = float(input())\n",
    "y = float(input())\n",
    "print(x + y)\n",
    "print(x - y)\n",
    "print(x * y)\n",
    "a = x / y\n",
    "print(\"%10.4f\"%a)\n",
    "print(x // y)\n",
    "print(x % y)\n",
    "print(x ** y)"
   ]
  },
  {
   "cell_type": "markdown",
   "metadata": {},
   "source": [
    "# Basic Relational Operators."
   ]
  },
  {
   "cell_type": "markdown",
   "metadata": {},
   "source": [
    "# Greatest of four numbers."
   ]
  },
  {
   "cell_type": "code",
   "execution_count": 9,
   "metadata": {},
   "outputs": [
    {
     "name": "stdout",
     "output_type": "stream",
     "text": [
      "10 is the greatest\n"
     ]
    }
   ],
   "source": [
    "a = int(input())\n",
    "b = int(input())\n",
    "c = int(input())\n",
    "d = int(input())\n",
    "\n",
    "# print(a)\n",
    "# print(b)\n",
    "# print(c)\n",
    "# print(d)\n",
    "\n",
    "if a>=b and a>=c and a>=d:\n",
    "    print(a,\"is the greatest\")\n",
    "elif b>=c and b>d and b>=a:\n",
    "    print(b,\"is the greatest\")\n",
    "elif c>=d and c>=a and c>=b:\n",
    "    print(c,\"is the greatest\")\n",
    "else:\n",
    "    print(d,\"is the greatest\")"
   ]
  },
  {
   "cell_type": "markdown",
   "metadata": {},
   "source": [
    "# Check for prime number."
   ]
  },
  {
   "cell_type": "code",
   "execution_count": 4,
   "metadata": {},
   "outputs": [
    {
     "name": "stdout",
     "output_type": "stream",
     "text": [
      "40 is not a prime number.\n"
     ]
    }
   ],
   "source": [
    "N = int(input())\n",
    "if N != 2 and N%2 == 0:\n",
    "    print(N,\"is not a prime number.\")\n",
    "elif N == 2 :\n",
    "    print(N,\"is a prime number.\")\n",
    "else:\n",
    "    i = 3\n",
    "    while i != N:\n",
    "        if N%i == 0:\n",
    "            print(N,\"is not a prime number.\")\n",
    "            exit()\n",
    "        else:\n",
    "            i = i + 2\n",
    "    print(N,\"is a prime number.\")\n"
   ]
  }
 ],
 "metadata": {
  "kernelspec": {
   "display_name": "Python 3.10.5 64-bit",
   "language": "python",
   "name": "python3"
  },
  "language_info": {
   "codemirror_mode": {
    "name": "ipython",
    "version": 3
   },
   "file_extension": ".py",
   "mimetype": "text/x-python",
   "name": "python",
   "nbconvert_exporter": "python",
   "pygments_lexer": "ipython3",
   "version": "3.10.5"
  },
  "orig_nbformat": 4,
  "vscode": {
   "interpreter": {
    "hash": "94b96a4f433cc0a752f751a165c8d55c3f142df5d068c08c27aade57f7b092a0"
   }
  }
 },
 "nbformat": 4,
 "nbformat_minor": 2
}
