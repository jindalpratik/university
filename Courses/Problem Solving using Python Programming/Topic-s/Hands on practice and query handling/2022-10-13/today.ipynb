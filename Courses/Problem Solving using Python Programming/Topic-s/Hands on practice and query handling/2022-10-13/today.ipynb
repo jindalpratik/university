{
 "cells": [
  {
   "cell_type": "markdown",
   "metadata": {},
   "source": [
    "## Sum of Even Number."
   ]
  },
  {
   "cell_type": "code",
   "execution_count": 4,
   "metadata": {},
   "outputs": [
    {
     "name": "stdout",
     "output_type": "stream",
     "text": [
      "Sum of even number upto 10 is 20 .\n"
     ]
    }
   ],
   "source": [
    "n = int(input(\"Enter the last term: \"))\n",
    "sum = 0\n",
    "i = 2\n",
    "while i <= n:\n",
    "    sum = sum + i\n",
    "    i = i + 2\n",
    "print(\"Sum of even number upto and including\",n,\"is\",sum,\".\")"
   ]
  },
  {
   "cell_type": "markdown",
   "metadata": {},
   "source": [
    "## Find the sum of first N natural numbers."
   ]
  },
  {
   "cell_type": "code",
   "execution_count": 6,
   "metadata": {},
   "outputs": [
    {
     "name": "stdout",
     "output_type": "stream",
     "text": [
      "15\n"
     ]
    }
   ],
   "source": [
    "n = int(input())\n",
    "sum = 0\n",
    "i = 1\n",
    "while i <= n:\n",
    "    sum = sum + i\n",
    "    i = i + 1\n",
    "print(sum)"
   ]
  },
  {
   "cell_type": "markdown",
   "metadata": {},
   "source": [
    "## Find the sum of square of first N natural numbers."
   ]
  },
  {
   "cell_type": "code",
   "execution_count": 5,
   "metadata": {},
   "outputs": [
    {
     "name": "stdout",
     "output_type": "stream",
     "text": [
      "5\n"
     ]
    }
   ],
   "source": [
    "n = int(input())\n",
    "sum = 0\n",
    "i = 1\n",
    "while i <= n:\n",
    "    sum = sum + (i**2)\n",
    "    i = i + 1\n",
    "print(sum)"
   ]
  },
  {
   "cell_type": "markdown",
   "metadata": {},
   "source": [
    "## To generate the fibonacci series."
   ]
  },
  {
   "cell_type": "code",
   "execution_count": 19,
   "metadata": {},
   "outputs": [
    {
     "name": "stdout",
     "output_type": "stream",
     "text": [
      "0\n",
      "1\n",
      "1\n",
      "2\n",
      "3\n",
      "5\n",
      "8\n"
     ]
    }
   ],
   "source": [
    "n = int(input())\n",
    "i = 2\n",
    "a = 0\n",
    "b = 1\n",
    "sum = 0\n",
    "\n",
    "if n == 1:\n",
    "    print(0)\n",
    "else:\n",
    "    print(0)\n",
    "    print(1)\n",
    "while i < n:\n",
    "    sum = a + b\n",
    "    a = b\n",
    "    b = sum\n",
    "    i = i + 1\n",
    "    print(sum)"
   ]
  },
  {
   "cell_type": "markdown",
   "metadata": {},
   "source": [
    "## To check if prime."
   ]
  },
  {
   "cell_type": "code",
   "execution_count": 23,
   "metadata": {},
   "outputs": [
    {
     "name": "stdout",
     "output_type": "stream",
     "text": [
      "3 is a prime number.\n"
     ]
    }
   ],
   "source": [
    "N = int(input())\n",
    "if N != 2 and N%2 == 0:\n",
    "    print(N,\"is not a prime number.\")\n",
    "elif N == 2 :\n",
    "    print(N,\"is a prime number.\")\n",
    "else:\n",
    "    i = 3\n",
    "    flag = 0\n",
    "    while i != N:\n",
    "        if N%i == 0:\n",
    "            flag = 1\n",
    "            break\n",
    "        else:\n",
    "            i = i + 2\n",
    "    if flag == 1:\n",
    "        print(N,\"is not a prime number.\")\n",
    "    else:\n",
    "        print(N,\"is a prime number.\")\n"
   ]
  },
  {
   "cell_type": "markdown",
   "metadata": {},
   "source": [
    "## Print prime number till."
   ]
  },
  {
   "cell_type": "code",
   "execution_count": 37,
   "metadata": {},
   "outputs": [
    {
     "name": "stdout",
     "output_type": "stream",
     "text": [
      "2\n",
      "3\n",
      "5\n",
      "7\n",
      "11\n",
      "13\n",
      "17\n",
      "19\n",
      "23\n",
      "29\n",
      "31\n",
      "37\n",
      "41\n",
      "43\n",
      "47\n",
      "53\n",
      "59\n",
      "61\n",
      "67\n",
      "71\n",
      "73\n",
      "79\n",
      "83\n",
      "89\n",
      "97\n"
     ]
    }
   ],
   "source": [
    "\n",
    "the_end = int(input())\n",
    "N = 2\n",
    "# print(1,the_end)\n",
    "while N <= the_end:\n",
    "    # print(\"entered while\")\n",
    "    if N != 2 and N%2 == 0:\n",
    "        flag = 1  \n",
    "    elif N > 3:\n",
    "        i = 3\n",
    "        flag = 0\n",
    "        while i != N:\n",
    "            if N%i == 0:\n",
    "                flag = 1\n",
    "                break\n",
    "            else:\n",
    "                i = i + 2\n",
    "    if flag != 1:\n",
    "        print(N)       \n",
    "    # print(2,\"reached 2\")\n",
    "    N = N + 1\n",
    "    # print(N, 2)"
   ]
  }
 ],
 "metadata": {
  "kernelspec": {
   "display_name": "Python 3.10.5 64-bit",
   "language": "python",
   "name": "python3"
  },
  "language_info": {
   "codemirror_mode": {
    "name": "ipython",
    "version": 3
   },
   "file_extension": ".py",
   "mimetype": "text/x-python",
   "name": "python",
   "nbconvert_exporter": "python",
   "pygments_lexer": "ipython3",
   "version": "3.10.5"
  },
  "orig_nbformat": 4,
  "vscode": {
   "interpreter": {
    "hash": "94b96a4f433cc0a752f751a165c8d55c3f142df5d068c08c27aade57f7b092a0"
   }
  }
 },
 "nbformat": 4,
 "nbformat_minor": 2
}
