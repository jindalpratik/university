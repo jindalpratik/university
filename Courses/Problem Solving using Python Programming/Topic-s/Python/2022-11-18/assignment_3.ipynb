{
  "cells": [
    {
      "cell_type": "markdown",
      "metadata": {
        "id": "mA38hztJ_Pi6"
      },
      "source": [
        "1. Write a program to add two matrices of size n x m."
      ]
    },
    {
      "cell_type": "code",
      "execution_count": null,
      "metadata": {},
      "outputs": [
        {
          "name": "stdout",
          "output_type": "stream",
          "text": [
            "Sum of the two matrix is: [[3, 5], [5, 7]]\n"
          ]
        }
      ],
      "source": [
        "arr1 = [[1,2],[2,3]]\n",
        "arr2 = [[2,3],[3,4]]\n",
        "sum_arr = [[0,0],[0,0]]\n",
        "for i in range(len(arr1)):\n",
        "    # temp_arr = []\n",
        "    for j in range(len(arr2)):\n",
        "        sum_arr[i][j] = (arr1[i][j] + arr2[i][j])\n",
        "print(\"Sum of the two matrix is:\",sum_arr)"
      ]
    },
    {
      "cell_type": "markdown",
      "metadata": {},
      "source": [
        "2. Write a program to multiply two matrices."
      ]
    },
    {
      "cell_type": "code",
      "execution_count": 2,
      "metadata": {},
      "outputs": [
        {
          "name": "stdout",
          "output_type": "stream",
          "text": [
            "Multiplication for the matrix is: [[5, 8, 11], [8, 13, 18], [14, 23, 32]]\n"
          ]
        }
      ],
      "source": [
        "arr1 = [[1,2],[2,3],[4,5]]\n",
        "arr2 = [[1,2,3],[2,3,4]]\n",
        "multiply_arr = []\n",
        "if len(arr1[0]) == len(arr2):\n",
        "    for i in range(len(arr1)):\n",
        "        temp_arr = []\n",
        "        for k in range(len(arr1)):\n",
        "            temp_num = 0\n",
        "            f = 0\n",
        "            for j in range(len(arr1[i])):\n",
        "                temp_num = temp_num + (arr1[i][j]*arr2[f][k])\n",
        "                f = f + 1\n",
        "            temp_arr.append(temp_num)\n",
        "        multiply_arr.append(temp_arr)\n",
        "    print(\"Multiplication for the matrix is:\", multiply_arr)\n",
        "else:\n",
        "    print(\"Multiplication can't take place between these arrays\")\n",
        "\n"
      ]
    },
    {
      "cell_type": "markdown",
      "metadata": {},
      "source": [
        "3. Find the sum of each row of matrix of size m x n. For example, for the following matrix\n",
        "output will be like this:\n",
        "Sum of row 1 = 32\n",
        "Sum of row 2 = 31\n",
        "Sum of row 3 = 63"
      ]
    },
    {
      "cell_type": "code",
      "execution_count": 3,
      "metadata": {},
      "outputs": [
        {
          "name": "stdout",
          "output_type": "stream",
          "text": [
            "Sum of row 1 is: 32\n",
            "Sum of row 2 is: 31\n",
            "Sum of row 3 is: 63\n",
            "Sum of col 1 is: 15\n",
            "Sum of col 2 is: 16\n",
            "Sum of col 3 is: 26\n",
            "Sum of col 4 is: 69\n"
          ]
        }
      ],
      "source": [
        "def row_sum(arr):\n",
        "    for i in range(len(arr)):\n",
        "        row_sum = 0\n",
        "        for f in range(len(arr[i])):\n",
        "            row_sum += arr[i][f]\n",
        "        print(\"Sum of row\",i+1,\"is:\",row_sum)\n",
        "\n",
        "def col_sum(arr):\n",
        "    for f in range(len(arr[0])):\n",
        "        col_sum = 0\n",
        "        for i in range(len(arr)):\n",
        "            col_sum += arr[i][f]\n",
        "        print(\"Sum of col\",f+1,\"is:\",col_sum)\n",
        "\n",
        "\n",
        "# arr = []\n",
        "# for i in range(int(input())):\n",
        "#     arr.append([int(x) for x in input().split()])\n",
        "arr = [[2,11,7,12],[5,2,9,15],[8,3,10,42]]\n",
        "row_sum(arr)\n",
        "col_sum(arr)\n"
      ]
    },
    {
      "cell_type": "markdown",
      "metadata": {},
      "source": [
        "4.\tGiven an integer n, create a matrix of size (n×n) and populate it as follows, with spaces between each character:\n",
        "•\tThe positions on the minor diagonal (from the upper right to the lower left corner) receive 1.\n",
        "•\tThe positions above this diagonal recieve 0.\n",
        "•\tThe positions below the diagonal receive 2.\n"
      ]
    },
    {
      "cell_type": "code",
      "execution_count": null,
      "metadata": {},
      "outputs": [
        {
          "name": "stdout",
          "output_type": "stream",
          "text": [
            "0 0 1 \n",
            "0 1 2 \n",
            "1 2 2 \n"
          ]
        }
      ],
      "source": [
        "n = int(input())\n",
        "li = []\n",
        "for i in range(n):\n",
        "    li.append([])\n",
        "for i in range(n):\n",
        "    for i in range(n):\n",
        "        li[i].append(0)\n",
        "count = 0\n",
        "for i in range(len(li)):\n",
        "    for j in range(len(li)):\n",
        "        if j == len(li) - i - 1:\n",
        "            # print(i,j,li[i])\n",
        "            # count += 1\n",
        "            li[i][j] = 1\n",
        "            # print(i,j,li,count)\n",
        "        elif j > len(li) - i - 1:\n",
        "            li[i][j] = 2\n",
        "# 2print(count)\n",
        "# for i in range(len(li)):\n",
        "#     for j in R\n",
        "# print(li)\n",
        "for i in range(n):\n",
        "    for j in range(n):\n",
        "        print(li[i][j], end = \" \")\n",
        "    print()\n",
        "# print(count)\n"
      ]
    },
    {
      "cell_type": "markdown",
      "metadata": {},
      "source": [
        "5.\tSwap the columns: Given two positive integers m and n, m lines of n elements, giving an m×n matrix A, followed by two non-negative integers i and j less than n, swap columns i and j of A and print the result."
      ]
    },
    {
      "cell_type": "code",
      "execution_count": 4,
      "metadata": {},
      "outputs": [
        {
          "name": "stdout",
          "output_type": "stream",
          "text": [
            "12 11 13 14 \n",
            "22 21 23 24 \n",
            "32 31 33 34 \n"
          ]
        }
      ],
      "source": [
        "def swap_columns(arr,i,j):\n",
        "    for f in range(len(arr)):\n",
        "        arr[f][i],arr[f][j] = arr[f][j],arr[f][i]\n",
        "    return arr\n",
        "\n",
        "# m = int(input())\n",
        "# n = int(input())\n",
        "# li = []\n",
        "# for i in range(m):\n",
        "#     li.append([])\n",
        "# for i in range(m):\n",
        "#   li[i] = [int(x) for x in input().split()]\n",
        "arr = [[11,12,13,14],[21,22,23,24],[31,32,33,34]]\n",
        "# temp_arr = [int(x) for x in input().split()]\n",
        "# i = temp_arr[0]\n",
        "# j = temp_arr[1]\n",
        "i = 0\n",
        "j = 1\n",
        "swap_columns(arr,i,j)\n",
        "for p in range(len(arr)):\n",
        "    for q in range(len(arr[p])):\n",
        "        print(arr[p][q], end = \" \")\n",
        "    print()\n",
        "\n"
      ]
    },
    {
      "cell_type": "markdown",
      "metadata": {},
      "source": [
        "6.\tWrite a Python program that accepts a string from user. Your program should create and display a new string where the first and last characters have been exchanged. For example if the user enters the string 'HELLO' then new string would be 'OELLH'."
      ]
    },
    {
      "cell_type": "code",
      "execution_count": null,
      "metadata": {},
      "outputs": [
        {
          "name": "stdout",
          "output_type": "stream",
          "text": [
            "Original string is: HELLO WORLD \n",
            "New string is: DELLO WORLH\n"
          ]
        }
      ],
      "source": [
        "# org_str_k= input()\n",
        "org_str_k = \"HELLO WORLD\"\n",
        "org_str = []\n",
        "for i in org_str_k:\n",
        "    org_str.append(i)\n",
        "org_str[-1],org_str[0] = org_str[0],org_str[-1]\n",
        "new_str = \"\"\n",
        "for i in org_str:\n",
        "    new_str = new_str + i\n",
        "print(\"Original string is:\",org_str_k,\"\\nNew string is:\",new_str)\n"
      ]
    },
    {
      "cell_type": "markdown",
      "metadata": {},
      "source": [
        "7.\tWrite a Python program that accepts a string from user. Your program should create a new string by shifting one position to left. For example if the user enters the string 'examination 2021' then new string would be 'xamination 2021e'."
      ]
    },
    {
      "cell_type": "code",
      "execution_count": null,
      "metadata": {},
      "outputs": [
        {
          "name": "stdout",
          "output_type": "stream",
          "text": [
            "Original string is: HELLO WORLD\n",
            "New string is: ELLO WORLDH\n"
          ]
        }
      ],
      "source": [
        "# org_str_k= input()\n",
        "org_str_k = \"HELLO WORLD\"\n",
        "print(\"Original string is:\",org_str_k)\n",
        "print(\"New string is: \", end = \"\")\n",
        "org_str = []\n",
        "for i in org_str_k:\n",
        "    org_str.append(i)\n",
        "for i in range(1, len(org_str)):\n",
        "    print(org_str[i], end = \"\")\n",
        "print(org_str[0])"
      ]
    },
    {
      "cell_type": "markdown",
      "metadata": {},
      "source": [
        "8.\tWrite a Python program that accepts a string from user. Your program should create a new string in reverse of first string and display it.\n",
        "For example if the user enters the string 'EXAM' then new string would be 'MAXE'\n"
      ]
    },
    {
      "cell_type": "code",
      "execution_count": null,
      "metadata": {},
      "outputs": [
        {
          "name": "stdout",
          "output_type": "stream",
          "text": [
            "Original string is: HELLO WORLD\n",
            "New string is: DLROW OLLEH"
          ]
        }
      ],
      "source": [
        "# org_str_k= input()\n",
        "org_str_k = \"HELLO WORLD\"\n",
        "print(\"Original string is:\",org_str_k)\n",
        "print(\"New string is: \", end = \"\")\n",
        "org_str = []\n",
        "for i in org_str_k:\n",
        "    org_str.append(i)\n",
        "for i in range(len(org_str)-1,-1,-1):\n",
        "    print(org_str[i], end = \"\")"
      ]
    },
    {
      "cell_type": "markdown",
      "metadata": {
        "id": "wCqFcjsy9UUj"
      },
      "source": [
        "9. Write a program that display following output:\n",
        "SHIFT\n",
        "HIFTS\n",
        "IFTSH\n",
        "FTSHI\n",
        "TSHIF\n",
        "SHIFT"
      ]
    },
    {
      "cell_type": "code",
      "execution_count": 4,
      "metadata": {
        "colab": {
          "base_uri": "https://localhost:8080/"
        },
        "id": "Ak2qHNLu9ZUk",
        "outputId": "094f2607-cb8d-466a-f508-a77785bff56e"
      },
      "outputs": [
        {
          "name": "stdout",
          "output_type": "stream",
          "text": [
            "shift\n",
            "shift\n",
            "hifts\n",
            "iftsh\n",
            "ftshi\n",
            "tshif\n",
            "shift\n"
          ]
        }
      ],
      "source": [
        "def shift(cur_str):\n",
        "  run_str = cur_str[1:len(cur_str)]\n",
        "  run_str = run_str + cur_str[0]\n",
        "  return run_str\n",
        "inp_str = input()\n",
        "cur_str = inp_str\n",
        "print(cur_str)\n",
        "for i in range(len(inp_str)):\n",
        "  cur_str = shift(cur_str)\n",
        "  print(cur_str)"
      ]
    },
    {
      "cell_type": "markdown",
      "metadata": {
        "id": "0V4RGEB461sO"
      },
      "source": [
        "10. A palindrome is a string that reads the same backward as forward. For example, the words dad,\n",
        "madam and radar are all palindromes. Write a programs that determines whether the string is a\n",
        "palindrome."
      ]
    },
    {
      "cell_type": "code",
      "execution_count": 2,
      "metadata": {
        "colab": {
          "base_uri": "https://localhost:8080/"
        },
        "id": "I9GB2hqJ6481",
        "outputId": "a2ba3019-2491-457a-ee78-2ee15968c97f"
      },
      "outputs": [
        {
          "name": "stdout",
          "output_type": "stream",
          "text": [
            "car\n",
            "car is not a palindrome function\n"
          ]
        }
      ],
      "source": [
        "def reverse_str(inp_str):\n",
        "  rev_str = \"\"\n",
        "  for i in range(len(inp_str)-1,-1,-1):\n",
        "    rev_str = rev_str + inp_str[i]\n",
        "  return rev_str\n",
        "\n",
        "\n",
        "inp_str = input()\n",
        "rev_str = reverse_str(inp_str)\n",
        "flag = True\n",
        "for i in range(len(inp_str)):\n",
        "  if inp_str[i] == rev_str[i]:\n",
        "    continue\n",
        "  flag = False\n",
        "if flag:\n",
        "  print(inp_str, \"is a palindrome function\")\n",
        "else:\n",
        "  print(inp_str, \"is not a palindrome function\")\n"
      ]
    }
  ],
  "metadata": {
    "colab": {
      "provenance": []
    },
    "kernelspec": {
      "display_name": "Python 3.10.6 64-bit",
      "language": "python",
      "name": "python3"
    },
    "language_info": {
      "codemirror_mode": {
        "name": "ipython",
        "version": 3
      },
      "file_extension": ".py",
      "mimetype": "text/x-python",
      "name": "python",
      "nbconvert_exporter": "python",
      "pygments_lexer": "ipython3",
      "version": "3.10.6"
    },
    "vscode": {
      "interpreter": {
        "hash": "94b96a4f433cc0a752f751a165c8d55c3f142df5d068c08c27aade57f7b092a0"
      }
    }
  },
  "nbformat": 4,
  "nbformat_minor": 0
}
