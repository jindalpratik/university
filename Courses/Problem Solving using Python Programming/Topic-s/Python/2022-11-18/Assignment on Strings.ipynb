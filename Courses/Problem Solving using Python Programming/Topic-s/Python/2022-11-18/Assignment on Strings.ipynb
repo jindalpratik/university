{
 "cells": [
  {
   "cell_type": "markdown",
   "metadata": {},
   "source": [
    "1. Write a Python program to calculate the length of a string. "
   ]
  },
  {
   "cell_type": "code",
   "execution_count": 2,
   "metadata": {},
   "outputs": [
    {
     "name": "stdout",
     "output_type": "stream",
     "text": [
      "The length of the string is: 3\n",
      "The length of the string is: 5\n"
     ]
    }
   ],
   "source": [
    "inp_str = input()\n",
    "print(\"The length of the string is:\", len(inp_str))\n",
    "\n",
    "# Alternate\n",
    "# print(\"The length of the string is:\", len(input()))"
   ]
  },
  {
   "cell_type": "markdown",
   "metadata": {},
   "source": [
    "2. Write a Python program to count the number of characters (character frequency) in a string.\n",
    "Sample String : google.com'\n",
    "Expected Result : {'g': 2, 'o': 3, 'l': 1, 'e': 1, '.': 1, 'c': 1, 'm': 1}"
   ]
  },
  {
   "cell_type": "code",
   "execution_count": 3,
   "metadata": {},
   "outputs": [
    {
     "name": "stdout",
     "output_type": "stream",
     "text": [
      "{'g': 2, 'o': 3, 'l': 1, 'e': 1, '.': 1, 'c': 1, 'm': 1}\n"
     ]
    }
   ],
   "source": [
    "dict = {}\n",
    "inp_str = input()\n",
    "for i in inp_str:\n",
    "    if i not in dict:\n",
    "        dict[i] = 1\n",
    "    else:\n",
    "        dict[i] = dict[i] + 1\n",
    "print(dict)"
   ]
  },
  {
   "cell_type": "markdown",
   "metadata": {},
   "source": [
    "3. Write a Python program to get a string made of the first 2 and the last 2 chars from a given a string. If the string length is less than 2, return instead of the empty string. \n",
    "Sample String : 'w3resource'\n",
    "Expected Result : 'w3ce'\n",
    "Sample String : 'w3'\n",
    "Expected Result : 'w3w3'\n",
    "Sample String : ' w'\n",
    "Expected Result : Empty String"
   ]
  },
  {
   "cell_type": "code",
   "execution_count": 8,
   "metadata": {},
   "outputs": [
    {
     "name": "stdout",
     "output_type": "stream",
     "text": [
      "Empty String\n"
     ]
    }
   ],
   "source": [
    "inp_str = input()\n",
    "if len(inp_str) < 2:\n",
    "    print(\"Empty String\")\n",
    "else:\n",
    "    print(inp_str[0:2], end = \"\")\n",
    "    print(inp_str[-2], end = \"\")\n",
    "    print(inp_str[-1], end = \"\")"
   ]
  },
  {
   "cell_type": "markdown",
   "metadata": {},
   "source": [
    "4. Write a Python program to get a string from a given string where all occurrences of its first char have been changed to '$', except the first char itself.\n",
    "Sample String : 'restart'\n",
    "Expected Result : 'resta$t'"
   ]
  },
  {
   "cell_type": "code",
   "execution_count": 10,
   "metadata": {},
   "outputs": [
    {
     "name": "stdout",
     "output_type": "stream",
     "text": [
      "wello$\n"
     ]
    }
   ],
   "source": [
    "inp_str = input()\n",
    "new_str = \"\"\n",
    "for i in range(len(inp_str)):\n",
    "    if i > 0 and inp_str[i] == inp_str[0]:\n",
    "        new_str = new_str + \"$\"\n",
    "    else:\n",
    "        new_str = new_str + inp_str[i]\n",
    "print(new_str)"
   ]
  },
  {
   "cell_type": "markdown",
   "metadata": {},
   "source": [
    "5. Write a Python program to get a single string from two given strings, separated by a space and swap the first two characters of each string. \n",
    "Sample String : 'abc', 'xyz'\n",
    "Expected Result : 'xyc abz'"
   ]
  },
  {
   "cell_type": "code",
   "execution_count": 11,
   "metadata": {},
   "outputs": [
    {
     "name": "stdout",
     "output_type": "stream",
     "text": [
      "abz xyc \n"
     ]
    }
   ],
   "source": [
    "inp_li = input().split()\n",
    "new_str = \"\"\n",
    "for i in range(len(inp_li)):\n",
    "    for f in range(len(inp_li[i])):\n",
    "        if f == 0 or f == 1:\n",
    "            if i == 0:\n",
    "                new_str = new_str + inp_li[1][f]\n",
    "            elif i == 1:\n",
    "                new_str = new_str + inp_li[0][f]\n",
    "        else:\n",
    "            new_str += inp_li[i][f]\n",
    "    new_str += \" \"\n",
    "print(new_str)\n"
   ]
  },
  {
   "cell_type": "markdown",
   "metadata": {},
   "source": [
    "\n",
    "6. Write a Python program to add 'ing' at the end of a given string (length should be at least 3). If the given string already ends with 'ing' then add 'ly' instead. If the string length of the given string is less than 3, leave it unchanged.\n",
    "Sample String : 'abc'\n",
    "Expected Result : 'abcing'\n",
    "Sample String : 'string'\n",
    "Expected Result : 'stringly'"
   ]
  },
  {
   "cell_type": "code",
   "execution_count": 14,
   "metadata": {},
   "outputs": [
    {
     "name": "stdout",
     "output_type": "stream",
     "text": [
      "abcing\n"
     ]
    }
   ],
   "source": [
    "inp_str = input()\n",
    "new_str = inp_str\n",
    "if \"ing\" in inp_str and len(inp_str) > 2:\n",
    "    new_str = inp_str + \"ly\"\n",
    "elif len(inp_str) > 2:\n",
    "    new_str = inp_str + \"ing\"\n",
    "print(new_str)"
   ]
  },
  {
   "cell_type": "markdown",
   "metadata": {},
   "source": [
    "7. Write a Python program to find the first appearance of the substring 'not' and 'poor' from a given string, if 'not' follows the 'poor', replace the whole 'not'...'poor' substring with 'good'. Return the resulting string.\n",
    "Sample String : 'The lyrics is not that poor!'\n",
    "'The lyrics is poor!'\n",
    "Expected Result : 'The lyrics is good!'\n",
    "'The lyrics is poor!'"
   ]
  },
  {
   "cell_type": "code",
   "execution_count": 21,
   "metadata": {},
   "outputs": [
    {
     "name": "stdout",
     "output_type": "stream",
     "text": [
      "Here\n",
      "The ;yrics is good"
     ]
    }
   ],
   "source": [
    "inp_str = input()\n",
    "str_li = inp_str.split()\n",
    "if \"not\" in inp_str and \"poor\" in inp_str:\n",
    "    print(\"Here\")\n",
    "    index1 = 0\n",
    "    index2 = 0\n",
    "    for i in range(len(str_li)):\n",
    "        if str_li[i] == \"not\":\n",
    "            index1 = i\n",
    "        if str_li[i] == \"poor\":\n",
    "            index2 = i\n",
    "    if index1 < index2:\n",
    "        for i in range(0,index1):\n",
    "            print(str_li[i], end = \" \")\n",
    "        print(\"good\", end = \"\")\n",
    "    else:\n",
    "        print(inp_str)\n",
    "else:\n",
    "    print(inp_str)\n",
    "        "
   ]
  },
  {
   "cell_type": "markdown",
   "metadata": {},
   "source": [
    "8. Write a Python function that takes a list of words and return the longest word and the length of the longest one.\n",
    "Sample Output:\n",
    "Longest word: Exercises\n",
    "Length of the longest word: 9"
   ]
  },
  {
   "cell_type": "code",
   "execution_count": 22,
   "metadata": {},
   "outputs": [
    {
     "name": "stdout",
     "output_type": "stream",
     "text": [
      "Longest word:  Exercise \n",
      "Length of the longest word:  8\n"
     ]
    }
   ],
   "source": [
    "li = input().split()\n",
    "max_len = 0\n",
    "index = 0\n",
    "for i in range(len(li)):\n",
    "    if len(li[i]) > max_len:\n",
    "        max_len = len(li[i])\n",
    "        index = i\n",
    "print(\"Longest word: \", li[index], \"\\nLength of the longest word: \", max_len)"
   ]
  },
  {
   "cell_type": "markdown",
   "metadata": {},
   "source": [
    "9. Write a Python program to remove the nth index character from a nonempty string. "
   ]
  },
  {
   "cell_type": "code",
   "execution_count": 24,
   "metadata": {},
   "outputs": [
    {
     "name": "stdout",
     "output_type": "stream",
     "text": [
      "Original string is:  hello \n",
      "Character removed at index:  0\n",
      "New string is:  ello\n"
     ]
    }
   ],
   "source": [
    "inp_str = input()\n",
    "n = int(input())\n",
    "new_str = \"\"\n",
    "for i in range(len(inp_str)):\n",
    "    if i == n:\n",
    "        continue\n",
    "    else:\n",
    "        new_str += inp_str[i]\n",
    "print(\"Original string is: \", inp_str,\"\\nCharacter removed at index: \", n)\n",
    "print(\"New string is: \", new_str)\n",
    "\n"
   ]
  },
  {
   "cell_type": "markdown",
   "metadata": {},
   "source": [
    "10. Write a Python program to change a given string to a new string where the first and last chars have been exchanged."
   ]
  },
  {
   "cell_type": "code",
   "execution_count": 26,
   "metadata": {},
   "outputs": [
    {
     "name": "stdout",
     "output_type": "stream",
     "text": [
      "Original string is:  hello\n",
      "New string is:  oellh\n"
     ]
    }
   ],
   "source": [
    "inp_str = input()\n",
    "new_str = inp_str[-1] + inp_str[1:len(inp_str)-1] + inp_str[0]\n",
    "print(\"Original string is: \", inp_str)\n",
    "print(\"New string is: \", new_str)"
   ]
  }
 ],
 "metadata": {
  "kernelspec": {
   "display_name": "Python 3.10.6 64-bit",
   "language": "python",
   "name": "python3"
  },
  "language_info": {
   "codemirror_mode": {
    "name": "ipython",
    "version": 3
   },
   "file_extension": ".py",
   "mimetype": "text/x-python",
   "name": "python",
   "nbconvert_exporter": "python",
   "pygments_lexer": "ipython3",
   "version": "3.10.6"
  },
  "orig_nbformat": 4,
  "vscode": {
   "interpreter": {
    "hash": "94b96a4f433cc0a752f751a165c8d55c3f142df5d068c08c27aade57f7b092a0"
   }
  }
 },
 "nbformat": 4,
 "nbformat_minor": 2
}
