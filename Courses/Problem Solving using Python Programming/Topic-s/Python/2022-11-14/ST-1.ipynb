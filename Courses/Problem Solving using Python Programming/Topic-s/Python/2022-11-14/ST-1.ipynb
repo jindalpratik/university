{
 "cells": [
  {
   "cell_type": "markdown",
   "metadata": {},
   "source": [
    "1. Tina went to a fruit market to buy some fruits. She filled her fruit basket with different types of fruits all together. But the vendor now asked Tina to separate each type of fruit and count them, so that he can make the bill. Each type of fruit has a particular number written on it. Tina finds it difficult to do so. Help her to count the number of fruits of each type. \n",
    "You have given a list A of size N, which stores the number written on each fruit in the basket. Your task it to count the number of fruits of each type."
   ]
  },
  {
   "cell_type": "code",
   "execution_count": 13,
   "metadata": {},
   "outputs": [],
   "source": [
    "n = int(input())\n",
    "li = []\n",
    "for i in range(n):\n",
    "    li.append(int(input()))\n",
    "for f in range(len(li)):\n",
    "    count = 1\n",
    "    if li[f] != \"null\":\n",
    "        for i in range(f+1,len(li)):\n",
    "            if li[f] == li[i]:\n",
    "                count += 1\n",
    "                li[i] = \"null\"\n",
    "        print(li[f], count)\n",
    "        li[f] = \"null\""
   ]
  },
  {
   "cell_type": "markdown",
   "metadata": {},
   "source": [
    "2. Rohan and Ajay are playing a game. The game says, they have been given a list of numbers and they have to find out a pair in the list having maximum sum. Ajay is confused and is not able to find the required pair, help him to find the solution.\n",
    "You have given a list A containing N elements. Your task is to find the pair of numbers in the list \n",
    "having maximum sum.\n",
    "Write a python program which takes the size N and the list A as input and print the maximum sum \n",
    "pair separated by space as the output.\n"
   ]
  },
  {
   "cell_type": "code",
   "execution_count": 12,
   "metadata": {},
   "outputs": [
    {
     "name": "stdout",
     "output_type": "stream",
     "text": [
      "6 0\n",
      "5 4\n",
      "6 5\n"
     ]
    }
   ],
   "source": [
    "n = int(input())\n",
    "li = []\n",
    "for i in range(n):\n",
    "    li.append(int(input()))\n",
    "max1 = 0\n",
    "index_1 = 0\n",
    "for j in range(len(li)):\n",
    "    if li[j] > max1:\n",
    "        index_1 = j\n",
    "        max1 = li[j]\n",
    "# print(max1, index_1)\n",
    "max2 = 0\n",
    "index_2 = 0\n",
    "for k in range(len(li)):\n",
    "    if k == index_1:\n",
    "        continue\n",
    "    if li[k] > max2:\n",
    "        index_2 = k\n",
    "        max2 = li[k]\n",
    "# print(max2, index_2)\n",
    "if index_1 < index_2:\n",
    "    print(li[index_1], li[index_2])\n",
    "else:\n",
    "    print(li[index_2], li[index_1])\n"
   ]
  },
  {
   "cell_type": "markdown",
   "metadata": {},
   "source": [
    "3. You are in-charge of the cake for your niece's birthday and have decided the cake will have one candle for each year of her total age. When she blows out the candles, she’ll only be able to blow out the tallest ones.\n",
    "For example, if your niece is turning 5 years old, and the cake will have candles of height 4,2,4,3,4 she will be able to blow out 3 candles successfully, since the tallest candle is of height 4 and there are 3 such candles.\n",
    "Given the height of each individual candle, find and print the number of candles she can successfully blow out.\n"
   ]
  },
  {
   "cell_type": "code",
   "execution_count": null,
   "metadata": {},
   "outputs": [],
   "source": [
    "age = int(input())\n",
    "li = []\n",
    "for i in range(age):\n",
    "    li.append(int(input()))\n",
    "num = 0\n",
    "for i in range(li):\n",
    "    if li[i] == age-1:\n",
    "        num += 1\n",
    "print(num)"
   ]
  },
  {
   "cell_type": "markdown",
   "metadata": {},
   "source": [
    "4. Rohan and Ajay are playing a game. The game says, they have been given a list of numbers and they have to find out a pair in the list having maximum sum. Ajay is confused and is not able to find the required pair, help him to find the solution.\n",
    "You have given a list A containing N elements. Your task is to find the pair of numbers in the list \n",
    "having maximum sum.\n",
    "Write a python program which takes the size N and the list A as input and print the maximum sum \n",
    "pair separated by space as the output.\n"
   ]
  },
  {
   "cell_type": "code",
   "execution_count": null,
   "metadata": {},
   "outputs": [],
   "source": [
    "n = int(input())\n",
    "li = []\n",
    "for i in range(n):\n",
    "    li.append(int(input()))\n",
    "max1 = 0\n",
    "index_1 = 0\n",
    "for j in range(len(li)):\n",
    "    if li[j] > max1:\n",
    "        index_1 = j\n",
    "        max1 = li[j]\n",
    "# print(max1, index_1)\n",
    "max2 = 0\n",
    "index_2 = 0\n",
    "for k in range(len(li)):\n",
    "    if k == index_1:\n",
    "        continue\n",
    "    if li[k] > max2:\n",
    "        index_2 = k\n",
    "        max2 = li[k]\n",
    "# print(max2, index_2)\n",
    "if index_1 < index_2:\n",
    "    print(li[index_1], li[index_2])\n",
    "else:\n",
    "    print(li[index_2], li[index_1])"
   ]
  }
 ],
 "metadata": {
  "kernelspec": {
   "display_name": "Python 3.10.6 64-bit",
   "language": "python",
   "name": "python3"
  },
  "language_info": {
   "codemirror_mode": {
    "name": "ipython",
    "version": 3
   },
   "file_extension": ".py",
   "mimetype": "text/x-python",
   "name": "python",
   "nbconvert_exporter": "python",
   "pygments_lexer": "ipython3",
   "version": "3.10.6"
  },
  "orig_nbformat": 4,
  "vscode": {
   "interpreter": {
    "hash": "94b96a4f433cc0a752f751a165c8d55c3f142df5d068c08c27aade57f7b092a0"
   }
  }
 },
 "nbformat": 4,
 "nbformat_minor": 2
}
