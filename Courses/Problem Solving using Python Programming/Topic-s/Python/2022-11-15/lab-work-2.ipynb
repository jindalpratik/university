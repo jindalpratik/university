{
 "cells": [
  {
   "cell_type": "markdown",
   "metadata": {},
   "source": [
    "1. Write a program that accepts a list from user and print the alternate element\n",
    "of list."
   ]
  },
  {
   "cell_type": "code",
   "execution_count": null,
   "metadata": {},
   "outputs": [],
   "source": [
    "li = input(\"Please enter elements for the list with spaces: \").split()\n",
    "for i in range(0,len(li),2):\n",
    "    print(li[i])"
   ]
  },
  {
   "cell_type": "markdown",
   "metadata": {},
   "source": [
    "2. Write a program that accepts a list from user. Your program should reverse\n",
    "the content of list and display it. Do not use reverse() method."
   ]
  },
  {
   "cell_type": "code",
   "execution_count": null,
   "metadata": {},
   "outputs": [
    {
     "name": "stdout",
     "output_type": "stream",
     "text": [
      "['6', '5', '4', '3', '2', '1']\n"
     ]
    }
   ],
   "source": [
    "li = input().split()\n",
    "rev_li = []\n",
    "for i in li[::-1]:\n",
    "    rev_li.append(i)\n",
    "print(rev_li)"
   ]
  },
  {
   "cell_type": "markdown",
   "metadata": {},
   "source": [
    "3. Find and display the largest number of a list without using built-in function\n",
    "max(). Your program should ask the user to input values in list from keyboard."
   ]
  },
  {
   "cell_type": "code",
   "execution_count": 1,
   "metadata": {},
   "outputs": [
    {
     "name": "stdout",
     "output_type": "stream",
     "text": [
      "5\n"
     ]
    },
    {
     "data": {
      "text/plain": [
       "' Alternate method '"
      ]
     },
     "execution_count": 1,
     "metadata": {},
     "output_type": "execute_result"
    }
   ],
   "source": [
    "li = [int(x) for x in input().split()]\n",
    "\n",
    "index = 0\n",
    "for i in range(len(li[1:])):\n",
    "    if li[i] > li[index]:\n",
    "        index = i\n",
    "print(li[index])\n",
    "\n",
    "# Alternative method\n",
    "# print(li)\n",
    "# largest = li[0]\n",
    "# for i in li:\n",
    "#     # print(i)\n",
    "#     if i > largest:\n",
    "#         largest = i\n",
    "# print(largest)\n"
   ]
  },
  {
   "cell_type": "markdown",
   "metadata": {},
   "source": [
    "4. Write a program that rotates the element of a list so that the element at the\n",
    "first index moves to the second index, the element in the second index moves to\n",
    "the third index, etc., and the element in the last index moves to the first index."
   ]
  },
  {
   "cell_type": "code",
   "execution_count": null,
   "metadata": {},
   "outputs": [],
   "source": [
    "li = input().split()\n",
    "for n in range(0,-len(li)+1,-1):\n",
    "    li[n],li[n-1] = li[n-1],li[n]\n",
    "print(li)\n",
    "\n",
    "# Alternative method prints the elements instead of giving out the list.\n",
    "# print(li[-1],end = \" \")\n",
    "# for i in li[:len(li)-1]:\n",
    "#     print(i, end = \" \")"
   ]
  },
  {
   "cell_type": "markdown",
   "metadata": {},
   "source": [
    "5. Write a program that input a string and ask user to delete a given word from a\n",
    "string."
   ]
  },
  {
   "cell_type": "code",
   "execution_count": null,
   "metadata": {},
   "outputs": [
    {
     "name": "stdout",
     "output_type": "stream",
     "text": [
      "dijn ej fjef ijenbf je inv wie iv  \t## Deleted word: abc\n"
     ]
    }
   ],
   "source": [
    "li_s = input().split()\n",
    "delete = input(\"Please enter the word you would like to delete: \")\n",
    "new_str = \"\"\n",
    "for i in li_s:\n",
    "    if i == delete:\n",
    "        continue\n",
    "    else:\n",
    "        new_str = new_str + i + \" \"\n",
    "print(new_str, \"\\t## Deleted word:\", delete)"
   ]
  },
  {
   "cell_type": "markdown",
   "metadata": {},
   "source": [
    "6. Write a program that reads a string from the user containing a date in the\n",
    "form mm/dd/yyyy. It should print the date in the form March 12, 2021."
   ]
  },
  {
   "cell_type": "code",
   "execution_count": null,
   "metadata": {},
   "outputs": [
    {
     "name": "stdout",
     "output_type": "stream",
     "text": [
      "December 22, 2022\n"
     ]
    }
   ],
   "source": [
    "li = [int(x) for x in input().split(\"/\")]\n",
    "dict = {1:\"January\", 2:\"Februrary\", 3:\"March\", 4:\"April\", 5:\"May\", 6:\"June\", 7:\"July\", 8:\"August\", 9:\"September\", 10:\"October\", 11:\"November\", 12:\"December\"}\n",
    "print(dict[li[0]],li[1],end = \", \")\n",
    "print(li[2])"
   ]
  },
  {
   "cell_type": "markdown",
   "metadata": {},
   "source": [
    "7. Write a program with a function that accepts a string from keyboard and\n",
    "create a new string after converting character of each word capitalized. For\n",
    "instance, if the sentence is &quot;stop and smell the roses.&quot; the output should be &quot;Stop\n",
    "And Smell The Roses\""
   ]
  },
  {
   "cell_type": "code",
   "execution_count": null,
   "metadata": {},
   "outputs": [
    {
     "name": "stdout",
     "output_type": "stream",
     "text": [
      "Stop And Smell The Roses. "
     ]
    }
   ],
   "source": [
    "li = input().split()\n",
    "for i in range(len(li)):\n",
    "    for f in range(len(li[i])):\n",
    "        if f == 0:\n",
    "            print(chr(ord(li[i][f])-32),end = \"\")\n",
    "        else:\n",
    "            print(li[i][f], end = \"\")\n",
    "    print(\" \",end = \"\")"
   ]
  }
 ],
 "metadata": {
  "kernelspec": {
   "display_name": "Python 3.10.6 64-bit",
   "language": "python",
   "name": "python3"
  },
  "language_info": {
   "codemirror_mode": {
    "name": "ipython",
    "version": 3
   },
   "file_extension": ".py",
   "mimetype": "text/x-python",
   "name": "python",
   "nbconvert_exporter": "python",
   "pygments_lexer": "ipython3",
   "version": "3.10.6"
  },
  "orig_nbformat": 4,
  "vscode": {
   "interpreter": {
    "hash": "94b96a4f433cc0a752f751a165c8d55c3f142df5d068c08c27aade57f7b092a0"
   }
  }
 },
 "nbformat": 4,
 "nbformat_minor": 2
}
