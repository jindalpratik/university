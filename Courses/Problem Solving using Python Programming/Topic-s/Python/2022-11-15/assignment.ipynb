{
 "cells": [
  {
   "cell_type": "markdown",
   "metadata": {},
   "source": [
    "1. Write a Python program to create multiple lists."
   ]
  },
  {
   "cell_type": "code",
   "execution_count": 2,
   "metadata": {},
   "outputs": [
    {
     "name": "stdout",
     "output_type": "stream",
     "text": [
      "{1: [], 2: [], 3: [], 4: [], 5: [], 6: [], 7: [], 8: [], 9: [], 10: [], 11: [], 12: [], 13: [], 14: [], 15: [], 16: [], 17: [], 18: [], 19: [], 20: []}\n"
     ]
    }
   ],
   "source": [
    "mul_li = {}\n",
    "for i in range(1, 21):\n",
    "    mul_li[i] = []\n",
    "print(mul_li)"
   ]
  },
  {
   "cell_type": "markdown",
   "metadata": {},
   "source": [
    "2. Write a Python program to find missing and additional values in two lists.\n",
    "Sample data : Missing values in second list: b,a,c\n",
    "Additional values in second list: g,h"
   ]
  },
  {
   "cell_type": "code",
   "execution_count": null,
   "id": "b995384e",
   "metadata": {},
   "outputs": [
    {
     "name": "stdout",
     "output_type": "stream",
     "text": [
      "a b c d e f\n",
      "d e f g h \n",
      "Missing values in second list :  ['a', 'b', 'c']\n",
      "Additional values in second list :  ['g', 'h']\n",
      "Missing values in first list :  ['g', 'h']\n",
      "Additional values in first list :  ['a', 'b', 'c']\n"
     ]
    }
   ],
   "source": [
    "li1 = [x for x in input().split()]\n",
    "li2 = [y for y in input().split()]\n",
    "li3 = []\n",
    "for d in li1:\n",
    "    for e in li2:\n",
    "        if d == e:\n",
    "            li2.remove(e)\n",
    "            li3.append(e)\n",
    "for f in li3:\n",
    "    if f in li1:\n",
    "        li1.remove(f)\n",
    "\n",
    "print(\"Missing values in second list : \",li1)\n",
    "print(\"Additional values in second list : \",li2)\n",
    "print(\"Missing values in first list : \",li2)\n",
    "print(\"Additional values in first list : \",li1)"
   ]
  },
  {
   "cell_type": "markdown",
   "metadata": {},
   "source": [
    "3. Write a Python program to split a list into different variables."
   ]
  },
  {
   "cell_type": "code",
   "execution_count": 4,
   "metadata": {},
   "outputs": [
    {
     "name": "stdout",
     "output_type": "stream",
     "text": [
      "1,1,,2,23,3\n",
      "0,2,3,4,0,0\n",
      "2,3,4,4,5,2,2\n"
     ]
    }
   ],
   "source": [
    "listt = [(\"1,1,,2,23,3\"), (\"0,2,3,4,0,0\"),(\"2,3,4,4,5,2,2\")]\n",
    "var1, var2, var3 = listt\n",
    "print(var1)\n",
    "print(var2)\n",
    "print(var3)"
   ]
  },
  {
   "cell_type": "markdown",
   "metadata": {},
   "source": [
    "4. Write a Python program to generate groups of five consecutive numbers in a list."
   ]
  },
  {
   "cell_type": "code",
   "execution_count": 5,
   "metadata": {},
   "outputs": [
    {
     "name": "stdout",
     "output_type": "stream",
     "text": [
      "[[1, 2, 3, 4, 5], [6, 7, 8, 9, 10], [11, 12, 13, 14, 15], [16, 17, 18, 19, 20], [21, 22, 23, 24, 25]]\n"
     ]
    }
   ],
   "source": [
    "li = [[5*main + new for new in range(1,6)]for main in range(5)]\n",
    "print(li)"
   ]
  },
  {
   "cell_type": "markdown",
   "metadata": {},
   "source": [
    "6. Write a Python program to select the odd items of a list."
   ]
  },
  {
   "cell_type": "code",
   "execution_count": 6,
   "metadata": {},
   "outputs": [
    {
     "name": "stdout",
     "output_type": "stream",
     "text": [
      "['1', '3', '5', '7', '9']\n"
     ]
    }
   ],
   "source": [
    "li = input().split()\n",
    "print(li[::2])"
   ]
  },
  {
   "cell_type": "markdown",
   "metadata": {},
   "source": [
    "7. Write a Python program to insert an element before each element of a list."
   ]
  },
  {
   "cell_type": "code",
   "execution_count": 9,
   "metadata": {},
   "outputs": [
    {
     "name": "stdout",
     "output_type": "stream",
     "text": [
      "Original List :  ['1', '2', '3', '4', '5', '6']\n",
      "New list:  ['Hi', '1', 'Hi', '2', 'Hi', '3', 'Hi', '4', 'Hi', '5', 'Hi', '6']\n"
     ]
    }
   ],
   "source": [
    "list = input().split()\n",
    "print(\"Original List : \",list)\n",
    "new = []\n",
    "pre = input(\"Enter something to insert before each element in list: \")\n",
    "for i in list:\n",
    "    new.append(pre)\n",
    "    new.append(i)\n",
    "print(\"New list: \",new)"
   ]
  },
  {
   "cell_type": "markdown",
   "metadata": {},
   "source": [
    "8. Write a Python program to print a nested lists (each list on a new line) using the print()\n",
    "function."
   ]
  },
  {
   "cell_type": "code",
   "execution_count": 10,
   "metadata": {},
   "outputs": [
    {
     "name": "stdout",
     "output_type": "stream",
     "text": [
      "[1, 2, 3]\n",
      "[2]\n",
      "[2, 3]\n",
      "[3, 4]\n"
     ]
    }
   ],
   "source": [
    "li = [[1,2,3],[2],[2,3],[3,4]]\n",
    "for i in li:\n",
    "    print(i)"
   ]
  }
 ],
 "metadata": {
  "kernelspec": {
   "display_name": "Python 3.10.6 64-bit",
   "language": "python",
   "name": "python3"
  },
  "language_info": {
   "codemirror_mode": {
    "name": "ipython",
    "version": 3
   },
   "file_extension": ".py",
   "mimetype": "text/x-python",
   "name": "python",
   "nbconvert_exporter": "python",
   "pygments_lexer": "ipython3",
   "version": "3.10.6"
  },
  "orig_nbformat": 4,
  "vscode": {
   "interpreter": {
    "hash": "94b96a4f433cc0a752f751a165c8d55c3f142df5d068c08c27aade57f7b092a0"
   }
  }
 },
 "nbformat": 4,
 "nbformat_minor": 2
}
