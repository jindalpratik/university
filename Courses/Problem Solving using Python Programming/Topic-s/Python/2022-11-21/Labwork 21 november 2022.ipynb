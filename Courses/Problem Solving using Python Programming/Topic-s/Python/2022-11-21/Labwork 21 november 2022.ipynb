{
 "cells": [
  {
   "cell_type": "markdown",
   "metadata": {},
   "source": [
    "1. Write a Python program to remove the characters which have odd index values of a given string. "
   ]
  },
  {
   "cell_type": "code",
   "execution_count": 3,
   "metadata": {},
   "outputs": [
    {
     "name": "stdout",
     "output_type": "stream",
     "text": [
      "String with odd index values removed: el\n"
     ]
    }
   ],
   "source": [
    "print(\"String with odd index values removed:\",input()[1::2])"
   ]
  },
  {
   "cell_type": "markdown",
   "metadata": {},
   "source": [
    "2. Write a Python program to count the occurrences of each word in a given sentence."
   ]
  },
  {
   "cell_type": "code",
   "execution_count": 12,
   "metadata": {},
   "outputs": [
    {
     "name": "stdout",
     "output_type": "stream",
     "text": [
      "word: hello :: count: 2\n"
     ]
    }
   ],
   "source": [
    "li = input().split()\n",
    "dict = {}\n",
    "for i in li:\n",
    "    dict[i] = dict.get(i, 0) + 1\n",
    "for i in dict:\n",
    "    print(\"Word:\",i,\":: Count:\",dict[i])"
   ]
  },
  {
   "cell_type": "markdown",
   "metadata": {},
   "source": [
    "3. Write a Python script that takes input from the user and displays that input back in upper and lower cases. "
   ]
  },
  {
   "cell_type": "code",
   "execution_count": 18,
   "metadata": {},
   "outputs": [
    {
     "name": "stdout",
     "output_type": "stream",
     "text": [
      "Upper case:  HELLO \n",
      "Lower case:  hello\n"
     ]
    }
   ],
   "source": [
    "inp = input()\n",
    "print(\"Upper case: \",inp.upper(),\"\\nLower case: \",inp.lower())"
   ]
  },
  {
   "cell_type": "markdown",
   "metadata": {},
   "source": [
    "4. Write a Python program that accepts a comma separated sequence of words as input and prints the unique words in sorted form (alphanumerically). \n",
    "Sample Words : red, white, black, red, green, black\n",
    "Expected Result : black, green, red, white"
   ]
  },
  {
   "cell_type": "code",
   "execution_count": 19,
   "metadata": {},
   "outputs": [
    {
     "name": "stdout",
     "output_type": "stream",
     "text": [
      "hello, "
     ]
    }
   ],
   "source": [
    "li = input().split(\",\")\n",
    "li.sort()\n",
    "new_li = []\n",
    "for i in li:\n",
    "    if i not in new_li:  new_li.append(i)\n",
    "for i in new_li:\n",
    "    print(i, end = \", \")"
   ]
  },
  {
   "cell_type": "markdown",
   "metadata": {},
   "source": [
    "5. Write a Python function to create the HTML string with tags around the word(s).\n",
    "Sample function and result :\n",
    "add_tags('i', 'Python') -> '<i>Python</i>'\n",
    "add_tags('b', 'Python Tutorial') -> '<b>Python Tutorial </b>'"
   ]
  },
  {
   "cell_type": "code",
   "execution_count": 20,
   "metadata": {},
   "outputs": [
    {
     "name": "stdout",
     "output_type": "stream",
     "text": [
      "<b>hello</b>\n"
     ]
    }
   ],
   "source": [
    "def add_tags(a,b):   print(\"<{0}>{1}</{0}>\".format(a,b))\n",
    "add_tags(input(),input())"
   ]
  },
  {
   "cell_type": "markdown",
   "metadata": {},
   "source": [
    "6. Write a Python function to insert a string in the middle of a string.\n",
    "Sample function and result :\n",
    "insert_sting_middle('[[]]<<>>', 'Python') -> [[Python]]\n",
    "insert_sting_middle('{{}}', 'PHP') -> {{PHP}}"
   ]
  },
  {
   "cell_type": "code",
   "execution_count": 4,
   "metadata": {},
   "outputs": [
    {
     "name": "stdout",
     "output_type": "stream",
     "text": [
      "{{hello}}"
     ]
    }
   ],
   "source": [
    "def insert_string_middle(a,b):   \n",
    "    print(a[:len(a)//2], end = '')\n",
    "    print(b, end = \"\")\n",
    "    print(a[len(a)//2:], end = '')\n",
    "insert_string_middle(input(),input())"
   ]
  },
  {
   "cell_type": "markdown",
   "metadata": {},
   "source": [
    "7. Write a Python function to get a string made of 4 copies of the last two characters of a specified string (length must be at least 2). \n",
    "Sample function and result :\n",
    "insert_end('Python') -> onononon\n",
    "insert_end('Exercises') -> eseseses\n",
    "Click me to see the sample solution"
   ]
  },
  {
   "cell_type": "code",
   "execution_count": 11,
   "metadata": {},
   "outputs": [
    {
     "name": "stdout",
     "output_type": "stream",
     "text": [
      "lolololo\n"
     ]
    }
   ],
   "source": [
    "str = input()\n",
    "print((str[-2]+str[-1])*4)"
   ]
  },
  {
   "cell_type": "markdown",
   "metadata": {},
   "source": [
    "8. Write a Python function to get a string made of its first three characters of a specified string. If the length of the string is less than 3 then return the original string. \n",
    "Sample function and result :\n",
    "first_three('ipy') -> ipy\n",
    "first_three('python') -> pyt"
   ]
  },
  {
   "cell_type": "code",
   "execution_count": 12,
   "metadata": {},
   "outputs": [
    {
     "name": "stdout",
     "output_type": "stream",
     "text": [
      "hel\n"
     ]
    }
   ],
   "source": [
    "def first_three(a):\n",
    "    if len(a) > 3:\n",
    "        print(a[0:3])\n",
    "    else:\n",
    "        print(a)\n",
    "first_three(input())"
   ]
  },
  {
   "cell_type": "markdown",
   "metadata": {},
   "source": [
    "\n",
    "9. Write a Python function to reverses a string if it's length is a multiple of 4."
   ]
  },
  {
   "cell_type": "code",
   "execution_count": 16,
   "metadata": {},
   "outputs": [
    {
     "name": "stdout",
     "output_type": "stream",
     "text": [
      "llwm"
     ]
    }
   ],
   "source": [
    "def reverse_4(a):\n",
    "    if len(a)%4 == 0:\n",
    "        for i in range(len(a)-1,-1,-1):\n",
    "            print(a[i],end = \"\")\n",
    "    else:\n",
    "        print(a)\n",
    "reverse_4(input())"
   ]
  }
 ],
 "metadata": {
  "kernelspec": {
   "display_name": "Python 3.10.6 64-bit",
   "language": "python",
   "name": "python3"
  },
  "language_info": {
   "codemirror_mode": {
    "name": "ipython",
    "version": 3
   },
   "file_extension": ".py",
   "mimetype": "text/x-python",
   "name": "python",
   "nbconvert_exporter": "python",
   "pygments_lexer": "ipython3",
   "version": "3.10.6"
  },
  "orig_nbformat": 4,
  "vscode": {
   "interpreter": {
    "hash": "94b96a4f433cc0a752f751a165c8d55c3f142df5d068c08c27aade57f7b092a0"
   }
  }
 },
 "nbformat": 4,
 "nbformat_minor": 2
}
